{
 "cells": [
  {
   "cell_type": "markdown",
   "id": "0dabbdcb",
   "metadata": {},
   "source": [
    "&nbsp;"
   ]
  },
  {
   "cell_type": "markdown",
   "id": "2a82e923",
   "metadata": {},
   "source": [
    "# 6. Final Pipeline \n",
    "A pipeline is a means of automating the machine learning workflow. What this means is that we can process and transform our data in a sequence of steps making the process of ingesting data, transforming it, and conducting predictions seamless. Also the pipeline itself can be used as an estimator, whether it's fitting data to it or making predictions. Another benefit of using pipelines aside from the obvious efficiency is that it automatically prevents data leakage from occurring (where our model learns something from the data).  "
   ]
  },
  {
   "cell_type": "code",
   "execution_count": 1,
   "id": "48eecb85",
   "metadata": {},
   "outputs": [],
   "source": [
    "# Standard libraries. \n",
    "import pandas as pd\n",
    "import numpy as np \n",
    "import os\n",
    "from plotly.subplots import make_subplots\n",
    "import plotly.graph_objects as go\n",
    "import plotly.express as px\n",
    "\n",
    "# Importing our functions. \n",
    "import functions\n",
    "import plot_functions\n",
    "\n",
    "# Importing emsemble models. \n",
    "from sklearn.ensemble import GradientBoostingRegressor, RandomForestRegressor\n",
    "from xgboost import XGBRegressor\n",
    "\n",
    "# Import transformers. \n",
    "from sklearn.pipeline import Pipeline\n",
    "from sklearn.preprocessing import StandardScaler, Normalizer, OneHotEncoder, FunctionTransformer\n",
    "from sklearn.impute import SimpleImputer\n",
    "from sklearn.metrics import mean_absolute_error, mean_squared_error, r2_score\n",
    "\n",
    "# Import pickle library. \n",
    "from pickle import load\n",
    "\n",
    "# Renders plotly figs into svg static images. \n",
    "import plotly.io as pio\n",
    "pio.renderers.default = \"svg\""
   ]
  },
  {
   "cell_type": "code",
   "execution_count": 2,
   "id": "7e524b7b",
   "metadata": {},
   "outputs": [
    {
     "data": {
      "text/html": [
       "<div>\n",
       "<style scoped>\n",
       "    .dataframe tbody tr th:only-of-type {\n",
       "        vertical-align: middle;\n",
       "    }\n",
       "\n",
       "    .dataframe tbody tr th {\n",
       "        vertical-align: top;\n",
       "    }\n",
       "\n",
       "    .dataframe thead th {\n",
       "        text-align: right;\n",
       "    }\n",
       "</style>\n",
       "<table border=\"1\" class=\"dataframe\">\n",
       "  <thead>\n",
       "    <tr style=\"text-align: right;\">\n",
       "      <th></th>\n",
       "      <th>CRIM</th>\n",
       "      <th>ZN</th>\n",
       "      <th>INDUS</th>\n",
       "      <th>CHAS</th>\n",
       "      <th>NOX</th>\n",
       "      <th>RM</th>\n",
       "      <th>AGE</th>\n",
       "      <th>DIS</th>\n",
       "      <th>RAD</th>\n",
       "      <th>TAX</th>\n",
       "      <th>PTRATIO</th>\n",
       "      <th>B</th>\n",
       "      <th>LSTAT</th>\n",
       "      <th>MEDV</th>\n",
       "    </tr>\n",
       "  </thead>\n",
       "  <tbody>\n",
       "    <tr>\n",
       "      <th>0</th>\n",
       "      <td>0.03738</td>\n",
       "      <td>0.0</td>\n",
       "      <td>5.19</td>\n",
       "      <td>0</td>\n",
       "      <td>0.515</td>\n",
       "      <td>6.310</td>\n",
       "      <td>38.5</td>\n",
       "      <td>6.4584</td>\n",
       "      <td>5</td>\n",
       "      <td>224.0</td>\n",
       "      <td>20.2</td>\n",
       "      <td>389.4</td>\n",
       "      <td>6.75</td>\n",
       "      <td>20.7</td>\n",
       "    </tr>\n",
       "    <tr>\n",
       "      <th>1</th>\n",
       "      <td>13.35980</td>\n",
       "      <td>0.0</td>\n",
       "      <td>18.10</td>\n",
       "      <td>0</td>\n",
       "      <td>0.693</td>\n",
       "      <td>5.887</td>\n",
       "      <td>94.7</td>\n",
       "      <td>1.7821</td>\n",
       "      <td>24</td>\n",
       "      <td>666.0</td>\n",
       "      <td>20.2</td>\n",
       "      <td>396.9</td>\n",
       "      <td>16.35</td>\n",
       "      <td>12.7</td>\n",
       "    </tr>\n",
       "  </tbody>\n",
       "</table>\n",
       "</div>"
      ],
      "text/plain": [
       "       CRIM   ZN  INDUS  CHAS    NOX     RM   AGE     DIS  RAD    TAX  \\\n",
       "0   0.03738  0.0   5.19     0  0.515  6.310  38.5  6.4584    5  224.0   \n",
       "1  13.35980  0.0  18.10     0  0.693  5.887  94.7  1.7821   24  666.0   \n",
       "\n",
       "   PTRATIO      B  LSTAT  MEDV  \n",
       "0     20.2  389.4   6.75  20.7  \n",
       "1     20.2  396.9  16.35  12.7  "
      ]
     },
     "execution_count": 2,
     "metadata": {},
     "output_type": "execute_result"
    }
   ],
   "source": [
    "root = os.getcwd() # Setting root directory as cwd. \n",
    "trainData = pd.read_csv(r\"{}\\train_PriceCapRemoved.csv\".format(root)) # Importing the train set.\n",
    "holdoutSet = pd.read_csv(r\"{}\\test.csv\".format(root)) # Importing the test set we kept aside.\n",
    "holdoutSet = holdoutSet[holdoutSet[\"MEDV\"] !=50] # Removing price cap. \n",
    "holdoutSet.head(2)"
   ]
  },
  {
   "cell_type": "markdown",
   "id": "f5362e18",
   "metadata": {},
   "source": [
    "&nbsp;"
   ]
  },
  {
   "cell_type": "markdown",
   "id": "203d6a66",
   "metadata": {},
   "source": [
    "### Section A: Evaluating on the Holdout Set\n",
    "In this section we're finally going to evlauate model perfrormance on the holdout set that we have separated from our train data. Based on the results, we will pick the best performing model to use as our finalised pipeline. "
   ]
  },
  {
   "cell_type": "markdown",
   "id": "092b693f",
   "metadata": {},
   "source": [
    "**A.1: MSE on the Holdoutset**<br>\n",
    "First we'll create our pipeline with all of our transformers, train the estimator on our entire train dataset then use our estimator to predict our holdout set's labels. We will do this over 30 iterations and store all results inside an empty list to later visualise."
   ]
  },
  {
   "cell_type": "code",
   "execution_count": 3,
   "id": "be7ee6ec",
   "metadata": {},
   "outputs": [],
   "source": [
    "# Splitting features and label.\n",
    "holdoutX = holdoutSet.iloc[:,:-1]\n",
    "holdoutLabels = holdoutSet.iloc[:,-1]\n",
    "\n",
    "# Storing MSE scores over 30 iterations.\n",
    "scoresGBR, scoresRFR, scoresXGB = list(), list(), list()"
   ]
  },
  {
   "cell_type": "code",
   "execution_count": 4,
   "id": "1b7be7e0",
   "metadata": {},
   "outputs": [],
   "source": [
    "GBR = functions.model_evaluation()\n",
    "GBR.preprocessing(trainData)\n",
    "GBR.add_pipe_component(\"clf\", GradientBoostingRegressor(learning_rate=0.1, max_depth=20, min_samples_split=50, n_estimators=500,\n",
    "                                                        validation_fraction=0.2, n_iter_no_change=8, tol=1.5))\n",
    "GBR.holdout_set_evaluation(y_axis=scoresGBR, train_data=trainData, holdout_features=holdoutX, holdout_labels=holdoutLabels)"
   ]
  },
  {
   "cell_type": "code",
   "execution_count": 5,
   "id": "7dbc35aa",
   "metadata": {},
   "outputs": [],
   "source": [
    "RFR = functions.model_evaluation()\n",
    "RFR.preprocessing(trainData)\n",
    "RFR.add_pipe_component(\"log\", FunctionTransformer(np.log1p))\n",
    "RFR.add_pipe_component(\"clf\", RandomForestRegressor(max_depth=20, min_samples_split=18, min_samples_leaf=2, n_estimators=500))\n",
    "RFR.holdout_set_evaluation(y_axis=scoresRFR, train_data=trainData, holdout_features=holdoutX, holdout_labels=holdoutLabels)"
   ]
  },
  {
   "cell_type": "code",
   "execution_count": 6,
   "id": "2be863bb",
   "metadata": {},
   "outputs": [],
   "source": [
    "XGB = functions.model_evaluation()\n",
    "XGB.preprocessing(trainData)\n",
    "XGB.add_pipe_component(\"log\", FunctionTransformer(np.log1p))\n",
    "XGB.add_pipe_component(\"clf\", XGBRegressor(learning_rate=0.1, max_depth=2, min_child_weight=15, n_estimators=101))\n",
    "XGB.holdout_set_evaluation(y_axis=scoresXGB, train_data=trainData, holdout_features=holdoutX, holdout_labels=holdoutLabels)"
   ]
  },
  {
   "cell_type": "markdown",
   "id": "c27a32a2",
   "metadata": {},
   "source": [
    "**A.2: Plotting the MSE Scores**<br> \n",
    "We will recursively predict the MSE over 30 iterations and store the results inside an empty list. The objective is to see if there is any variance across all iterations, and to find the average scores to determine which model performed the best. We should also consider if any model shows too much volatility in their MSE, then it might be better to choose the model with more consistent results."
   ]
  },
  {
   "cell_type": "code",
   "execution_count": 7,
   "id": "b78dcb2f",
   "metadata": {},
   "outputs": [
    {
     "data": {
      "image/svg+xml": [
       "<svg class=\"main-svg\" xmlns=\"http://www.w3.org/2000/svg\" xmlns:xlink=\"http://www.w3.org/1999/xlink\" width=\"900\" height=\"550\" style=\"\" viewBox=\"0 0 900 550\"><rect x=\"0\" y=\"0\" width=\"900\" height=\"550\" style=\"fill: rgb(255, 255, 255); fill-opacity: 1;\"/><defs id=\"defs-71f7aa\"><g class=\"clips\"><clipPath id=\"clip71f7aaxyplot\" class=\"plotclip\"><rect width=\"578\" height=\"98.66666666666669\"/></clipPath><clipPath id=\"clip71f7aax2y2plot\" class=\"plotclip\"><rect width=\"578\" height=\"98.66666666666667\"/></clipPath><clipPath id=\"clip71f7aax3y3plot\" class=\"plotclip\"><rect width=\"578\" height=\"98.66666666666667\"/></clipPath><clipPath class=\"axesclip\" id=\"clip71f7aax\"><rect x=\"80\" y=\"0\" width=\"578\" height=\"550\"/></clipPath><clipPath class=\"axesclip\" id=\"clip71f7aay\"><rect x=\"0\" y=\"100\" width=\"900\" height=\"98.66666666666669\"/></clipPath><clipPath class=\"axesclip\" id=\"clip71f7aaxy\"><rect x=\"80\" y=\"100\" width=\"578\" height=\"98.66666666666669\"/></clipPath><clipPath class=\"axesclip\" id=\"clip71f7aay2\"><rect x=\"0\" y=\"235.66666666666669\" width=\"900\" height=\"98.66666666666667\"/></clipPath><clipPath class=\"axesclip\" id=\"clip71f7aaxy2\"><rect x=\"80\" y=\"235.66666666666669\" width=\"578\" height=\"98.66666666666667\"/></clipPath><clipPath class=\"axesclip\" id=\"clip71f7aay3\"><rect x=\"0\" y=\"371.33333333333337\" width=\"900\" height=\"98.66666666666667\"/></clipPath><clipPath class=\"axesclip\" id=\"clip71f7aaxy3\"><rect x=\"80\" y=\"371.33333333333337\" width=\"578\" height=\"98.66666666666667\"/></clipPath><clipPath class=\"axesclip\" id=\"clip71f7aax2\"><rect x=\"80\" y=\"0\" width=\"578\" height=\"550\"/></clipPath><clipPath class=\"axesclip\" id=\"clip71f7aax2y\"><rect x=\"80\" y=\"100\" width=\"578\" height=\"98.66666666666669\"/></clipPath><clipPath class=\"axesclip\" id=\"clip71f7aax2y2\"><rect x=\"80\" y=\"235.66666666666669\" width=\"578\" height=\"98.66666666666667\"/></clipPath><clipPath class=\"axesclip\" id=\"clip71f7aax2y3\"><rect x=\"80\" y=\"371.33333333333337\" width=\"578\" height=\"98.66666666666667\"/></clipPath><clipPath class=\"axesclip\" id=\"clip71f7aax3\"><rect x=\"80\" y=\"0\" width=\"578\" height=\"550\"/></clipPath><clipPath class=\"axesclip\" id=\"clip71f7aax3y\"><rect x=\"80\" y=\"100\" width=\"578\" height=\"98.66666666666669\"/></clipPath><clipPath class=\"axesclip\" id=\"clip71f7aax3y2\"><rect x=\"80\" y=\"235.66666666666669\" width=\"578\" height=\"98.66666666666667\"/></clipPath><clipPath class=\"axesclip\" id=\"clip71f7aax3y3\"><rect x=\"80\" y=\"371.33333333333337\" width=\"578\" height=\"98.66666666666667\"/></clipPath></g><g class=\"gradients\"/><g class=\"patterns\"/></defs><g class=\"bglayer\"><rect class=\"bg\" x=\"80\" y=\"100\" width=\"578\" height=\"98.66666666666669\" style=\"fill: rgb(248, 248, 246); fill-opacity: 1; stroke-width: 0;\"/><rect class=\"bg\" x=\"80\" y=\"235.66666666666669\" width=\"578\" height=\"98.66666666666667\" style=\"fill: rgb(248, 248, 246); fill-opacity: 1; stroke-width: 0;\"/><rect class=\"bg\" x=\"80\" y=\"371.33333333333337\" width=\"578\" height=\"98.66666666666667\" style=\"fill: rgb(248, 248, 246); fill-opacity: 1; stroke-width: 0;\"/></g><g class=\"layer-below\"><g class=\"imagelayer\"/><g class=\"shapelayer\"/></g><g class=\"cartesianlayer\"><g class=\"subplot xy\"><g class=\"layer-subplot\"><g class=\"shapelayer\"/><g class=\"imagelayer\"/></g><g class=\"minor-gridlayer\"><g class=\"x\"/><g class=\"y\"/></g><g class=\"gridlayer\"><g class=\"x\"><path class=\"xgrid crisp\" transform=\"translate(159.72,0)\" d=\"M0,100v98.66666666666669\" style=\"stroke: rgb(255, 255, 255); stroke-opacity: 1; stroke-width: 1px;\"/><path class=\"xgrid crisp\" transform=\"translate(259.38,0)\" d=\"M0,100v98.66666666666669\" style=\"stroke: rgb(255, 255, 255); stroke-opacity: 1; stroke-width: 1px;\"/><path class=\"xgrid crisp\" transform=\"translate(359.03,0)\" d=\"M0,100v98.66666666666669\" style=\"stroke: rgb(255, 255, 255); stroke-opacity: 1; stroke-width: 1px;\"/><path class=\"xgrid crisp\" transform=\"translate(458.69,0)\" d=\"M0,100v98.66666666666669\" style=\"stroke: rgb(255, 255, 255); stroke-opacity: 1; stroke-width: 1px;\"/><path class=\"xgrid crisp\" transform=\"translate(558.3399999999999,0)\" d=\"M0,100v98.66666666666669\" style=\"stroke: rgb(255, 255, 255); stroke-opacity: 1; stroke-width: 1px;\"/></g><g class=\"y\"><path class=\"ygrid crisp\" transform=\"translate(0,191.67000000000002)\" d=\"M80,0h578\" style=\"stroke: rgb(255, 255, 255); stroke-opacity: 1; stroke-width: 1px;\"/><path class=\"ygrid crisp\" transform=\"translate(0,163.05)\" d=\"M80,0h578\" style=\"stroke: rgb(255, 255, 255); stroke-opacity: 1; stroke-width: 1px;\"/><path class=\"ygrid crisp\" transform=\"translate(0,134.44)\" d=\"M80,0h578\" style=\"stroke: rgb(255, 255, 255); stroke-opacity: 1; stroke-width: 1px;\"/><path class=\"ygrid crisp\" transform=\"translate(0,105.82)\" d=\"M80,0h578\" style=\"stroke: rgb(255, 255, 255); stroke-opacity: 1; stroke-width: 1px;\"/></g></g><g class=\"zerolinelayer\"/><path class=\"xlines-below\"/><path class=\"ylines-below\"/><g class=\"overlines-below\"/><g class=\"xaxislayer-below\"/><g class=\"yaxislayer-below\"/><g class=\"overaxes-below\"/><g class=\"plot\" transform=\"translate(80,100)\" clip-path=\"url(#clip71f7aaxyplot)\"><g class=\"scatterlayer mlayer\"><g class=\"trace scatter tracee8a96a\" style=\"stroke-miterlimit: 2; opacity: 1;\"><g class=\"fills\"/><g class=\"errorbars\"/><g class=\"lines\"><path class=\"js-line\" d=\"M0,69.08L19.93,69.02L39.86,66.93L59.79,4.93L79.72,37.78L99.66,85.07L119.59,79.62L139.52,73.52L159.45,27.89L179.38,22.33L199.31,25.9L219.24,39.82L239.17,57.88L259.1,67.09L279.03,78.23L298.97,49.82L318.9,84.86L338.83,40.99L358.76,54.1L378.69,60.12L398.62,38.44L418.55,93.73L438.48,34.36L458.41,74.94L478.34,63.01L498.28,62.17L518.21,46.01L538.14,61.81L558.07,20.99L578,41.36\" style=\"vector-effect: non-scaling-stroke; fill: none; stroke: rgb(99, 110, 250); stroke-opacity: 1; stroke-width: 2px; opacity: 1;\"/></g><g class=\"points\"/><g class=\"text\"/></g></g></g><g class=\"overplot\"/><path class=\"xlines-above crisp\" d=\"M0,0\" style=\"fill: none;\"/><path class=\"ylines-above crisp\" d=\"M0,0\" style=\"fill: none;\"/><g class=\"overlines-above\"/><g class=\"xaxislayer-above\"><g class=\"xtick\"><text text-anchor=\"middle\" x=\"0\" y=\"211.66666666666669\" transform=\"translate(159.72,0)\" style=\"font-family: 'Open Sans', verdana, arial, sans-serif; font-size: 12px; fill: rgb(42, 63, 95); fill-opacity: 1; white-space: pre; opacity: 1;\">5</text></g><g class=\"xtick\"><text text-anchor=\"middle\" x=\"0\" y=\"211.66666666666669\" style=\"font-family: 'Open Sans', verdana, arial, sans-serif; font-size: 12px; fill: rgb(42, 63, 95); fill-opacity: 1; white-space: pre; opacity: 1;\" transform=\"translate(259.38,0)\">10</text></g><g class=\"xtick\"><text text-anchor=\"middle\" x=\"0\" y=\"211.66666666666669\" style=\"font-family: 'Open Sans', verdana, arial, sans-serif; font-size: 12px; fill: rgb(42, 63, 95); fill-opacity: 1; white-space: pre; opacity: 1;\" transform=\"translate(359.03,0)\">15</text></g><g class=\"xtick\"><text text-anchor=\"middle\" x=\"0\" y=\"211.66666666666669\" style=\"font-family: 'Open Sans', verdana, arial, sans-serif; font-size: 12px; fill: rgb(42, 63, 95); fill-opacity: 1; white-space: pre; opacity: 1;\" transform=\"translate(458.69,0)\">20</text></g><g class=\"xtick\"><text text-anchor=\"middle\" x=\"0\" y=\"211.66666666666669\" style=\"font-family: 'Open Sans', verdana, arial, sans-serif; font-size: 12px; fill: rgb(42, 63, 95); fill-opacity: 1; white-space: pre; opacity: 1;\" transform=\"translate(558.3399999999999,0)\">25</text></g><g class=\"xtick\"><text text-anchor=\"middle\" x=\"0\" y=\"211.66666666666669\" style=\"font-family: 'Open Sans', verdana, arial, sans-serif; font-size: 12px; fill: rgb(42, 63, 95); fill-opacity: 1; white-space: pre; opacity: 1;\" transform=\"translate(658,0)\">30</text></g></g><g class=\"yaxislayer-above\"><g class=\"ytick\"><text text-anchor=\"end\" x=\"79\" y=\"4.199999999999999\" transform=\"translate(0,191.67000000000002)\" style=\"font-family: 'Open Sans', verdana, arial, sans-serif; font-size: 12px; fill: rgb(42, 63, 95); fill-opacity: 1; white-space: pre; opacity: 1;\">8</text></g><g class=\"ytick\"><text text-anchor=\"end\" x=\"79\" y=\"4.199999999999999\" style=\"font-family: 'Open Sans', verdana, arial, sans-serif; font-size: 12px; fill: rgb(42, 63, 95); fill-opacity: 1; white-space: pre; opacity: 1;\" transform=\"translate(0,163.05)\">9</text></g><g class=\"ytick\"><text text-anchor=\"end\" x=\"79\" y=\"4.199999999999999\" style=\"font-family: 'Open Sans', verdana, arial, sans-serif; font-size: 12px; fill: rgb(42, 63, 95); fill-opacity: 1; white-space: pre; opacity: 1;\" transform=\"translate(0,134.44)\">10</text></g><g class=\"ytick\"><text text-anchor=\"end\" x=\"79\" y=\"4.199999999999999\" style=\"font-family: 'Open Sans', verdana, arial, sans-serif; font-size: 12px; fill: rgb(42, 63, 95); fill-opacity: 1; white-space: pre; opacity: 1;\" transform=\"translate(0,105.82)\">11</text></g></g><g class=\"overaxes-above\"/></g><g class=\"subplot x2y2\"><g class=\"layer-subplot\"><g class=\"shapelayer\"/><g class=\"imagelayer\"/></g><g class=\"minor-gridlayer\"><g class=\"x2\"/><g class=\"y2\"/></g><g class=\"gridlayer\"><g class=\"x2\"><path class=\"x2grid crisp\" transform=\"translate(159.72,0)\" d=\"M0,235.66666666666669v98.66666666666667\" style=\"stroke: rgb(255, 255, 255); stroke-opacity: 1; stroke-width: 1px;\"/><path class=\"x2grid crisp\" transform=\"translate(259.38,0)\" d=\"M0,235.66666666666669v98.66666666666667\" style=\"stroke: rgb(255, 255, 255); stroke-opacity: 1; stroke-width: 1px;\"/><path class=\"x2grid crisp\" transform=\"translate(359.03,0)\" d=\"M0,235.66666666666669v98.66666666666667\" style=\"stroke: rgb(255, 255, 255); stroke-opacity: 1; stroke-width: 1px;\"/><path class=\"x2grid crisp\" transform=\"translate(458.69,0)\" d=\"M0,235.66666666666669v98.66666666666667\" style=\"stroke: rgb(255, 255, 255); stroke-opacity: 1; stroke-width: 1px;\"/><path class=\"x2grid crisp\" transform=\"translate(558.3399999999999,0)\" d=\"M0,235.66666666666669v98.66666666666667\" style=\"stroke: rgb(255, 255, 255); stroke-opacity: 1; stroke-width: 1px;\"/></g><g class=\"y2\"><path class=\"y2grid crisp\" transform=\"translate(0,317.2066666666667)\" d=\"M80,0h578\" style=\"stroke: rgb(255, 255, 255); stroke-opacity: 1; stroke-width: 1px;\"/><path class=\"y2grid crisp\" transform=\"translate(0,290.4566666666667)\" d=\"M80,0h578\" style=\"stroke: rgb(255, 255, 255); stroke-opacity: 1; stroke-width: 1px;\"/><path class=\"y2grid crisp\" transform=\"translate(0,263.7066666666667)\" d=\"M80,0h578\" style=\"stroke: rgb(255, 255, 255); stroke-opacity: 1; stroke-width: 1px;\"/><path class=\"y2grid crisp\" transform=\"translate(0,236.9466666666667)\" d=\"M80,0h578\" style=\"stroke: rgb(255, 255, 255); stroke-opacity: 1; stroke-width: 1px;\"/></g></g><g class=\"zerolinelayer\"/><path class=\"xlines-below\"/><path class=\"ylines-below\"/><g class=\"overlines-below\"/><g class=\"xaxislayer-below\"/><g class=\"yaxislayer-below\"/><g class=\"overaxes-below\"/><g class=\"plot\" transform=\"translate(80,235.66666666666669)\" clip-path=\"url(#clip71f7aax2y2plot)\"><g class=\"scatterlayer mlayer\"><g class=\"trace scatter tracea4cca6\" style=\"stroke-miterlimit: 2; opacity: 1;\"><g class=\"fills\"/><g class=\"errorbars\"/><g class=\"lines\"><path class=\"js-line\" d=\"M0,37.85L19.93,93.73L39.86,38.48L59.79,60.72L79.72,4.93L99.66,49.24L119.59,44.29L139.52,29.12L159.45,28.32L179.38,74.16L199.31,46.94L219.24,10.79L239.17,47.63L259.1,27.57L279.03,36.24L298.97,49.04L318.9,45.43L338.83,38.32L358.76,47.16L378.69,30.25L398.62,17.94L418.55,72.17L438.48,44.31L458.41,60.56L478.34,21.15L498.28,15.6L518.21,93.44L538.14,39.58L558.07,38.11L578,44.4\" style=\"vector-effect: non-scaling-stroke; fill: none; stroke: rgb(239, 85, 59); stroke-opacity: 1; stroke-width: 2px; opacity: 1;\"/></g><g class=\"points\"/><g class=\"text\"/></g></g></g><g class=\"overplot\"/><path class=\"xlines-above crisp\" d=\"M0,0\" style=\"fill: none;\"/><path class=\"ylines-above crisp\" d=\"M0,0\" style=\"fill: none;\"/><g class=\"overlines-above\"/><g class=\"xaxislayer-above\"><g class=\"x2tick\"><text text-anchor=\"middle\" x=\"0\" y=\"347.33333333333337\" transform=\"translate(159.72,0)\" style=\"font-family: 'Open Sans', verdana, arial, sans-serif; font-size: 12px; fill: rgb(42, 63, 95); fill-opacity: 1; white-space: pre; opacity: 1;\">5</text></g><g class=\"x2tick\"><text text-anchor=\"middle\" x=\"0\" y=\"347.33333333333337\" style=\"font-family: 'Open Sans', verdana, arial, sans-serif; font-size: 12px; fill: rgb(42, 63, 95); fill-opacity: 1; white-space: pre; opacity: 1;\" transform=\"translate(259.38,0)\">10</text></g><g class=\"x2tick\"><text text-anchor=\"middle\" x=\"0\" y=\"347.33333333333337\" style=\"font-family: 'Open Sans', verdana, arial, sans-serif; font-size: 12px; fill: rgb(42, 63, 95); fill-opacity: 1; white-space: pre; opacity: 1;\" transform=\"translate(359.03,0)\">15</text></g><g class=\"x2tick\"><text text-anchor=\"middle\" x=\"0\" y=\"347.33333333333337\" style=\"font-family: 'Open Sans', verdana, arial, sans-serif; font-size: 12px; fill: rgb(42, 63, 95); fill-opacity: 1; white-space: pre; opacity: 1;\" transform=\"translate(458.69,0)\">20</text></g><g class=\"x2tick\"><text text-anchor=\"middle\" x=\"0\" y=\"347.33333333333337\" style=\"font-family: 'Open Sans', verdana, arial, sans-serif; font-size: 12px; fill: rgb(42, 63, 95); fill-opacity: 1; white-space: pre; opacity: 1;\" transform=\"translate(558.3399999999999,0)\">25</text></g><g class=\"x2tick\"><text text-anchor=\"middle\" x=\"0\" y=\"347.33333333333337\" style=\"font-family: 'Open Sans', verdana, arial, sans-serif; font-size: 12px; fill: rgb(42, 63, 95); fill-opacity: 1; white-space: pre; opacity: 1;\" transform=\"translate(658,0)\">30</text></g></g><g class=\"yaxislayer-above\"><g class=\"y2tick\"><text text-anchor=\"end\" x=\"79\" y=\"4.199999999999999\" transform=\"translate(0,317.2066666666667)\" style=\"font-family: 'Open Sans', verdana, arial, sans-serif; font-size: 12px; fill: rgb(42, 63, 95); fill-opacity: 1; white-space: pre; opacity: 1;\">8.6</text></g><g class=\"y2tick\"><text text-anchor=\"end\" x=\"79\" y=\"4.199999999999999\" style=\"font-family: 'Open Sans', verdana, arial, sans-serif; font-size: 12px; fill: rgb(42, 63, 95); fill-opacity: 1; white-space: pre; opacity: 1;\" transform=\"translate(0,290.4566666666667)\">8.7</text></g><g class=\"y2tick\"><text text-anchor=\"end\" x=\"79\" y=\"4.199999999999999\" style=\"font-family: 'Open Sans', verdana, arial, sans-serif; font-size: 12px; fill: rgb(42, 63, 95); fill-opacity: 1; white-space: pre; opacity: 1;\" transform=\"translate(0,263.7066666666667)\">8.8</text></g><g class=\"y2tick\"><text text-anchor=\"end\" x=\"79\" y=\"4.199999999999999\" style=\"font-family: 'Open Sans', verdana, arial, sans-serif; font-size: 12px; fill: rgb(42, 63, 95); fill-opacity: 1; white-space: pre; opacity: 1;\" transform=\"translate(0,236.9466666666667)\">8.9</text></g></g><g class=\"overaxes-above\"/></g><g class=\"subplot x3y3\"><g class=\"layer-subplot\"><g class=\"shapelayer\"/><g class=\"imagelayer\"/></g><g class=\"minor-gridlayer\"><g class=\"x3\"/><g class=\"y3\"/></g><g class=\"gridlayer\"><g class=\"x3\"><path class=\"x3grid crisp\" transform=\"translate(159.72,0)\" d=\"M0,371.33333333333337v98.66666666666667\" style=\"stroke: rgb(255, 255, 255); stroke-opacity: 1; stroke-width: 1px;\"/><path class=\"x3grid crisp\" transform=\"translate(259.38,0)\" d=\"M0,371.33333333333337v98.66666666666667\" style=\"stroke: rgb(255, 255, 255); stroke-opacity: 1; stroke-width: 1px;\"/><path class=\"x3grid crisp\" transform=\"translate(359.03,0)\" d=\"M0,371.33333333333337v98.66666666666667\" style=\"stroke: rgb(255, 255, 255); stroke-opacity: 1; stroke-width: 1px;\"/><path class=\"x3grid crisp\" transform=\"translate(458.69,0)\" d=\"M0,371.33333333333337v98.66666666666667\" style=\"stroke: rgb(255, 255, 255); stroke-opacity: 1; stroke-width: 1px;\"/><path class=\"x3grid crisp\" transform=\"translate(558.3399999999999,0)\" d=\"M0,371.33333333333337v98.66666666666667\" style=\"stroke: rgb(255, 255, 255); stroke-opacity: 1; stroke-width: 1px;\"/></g><g class=\"y3\"><path class=\"y3grid crisp\" transform=\"translate(0,451.08333333333337)\" d=\"M80,0h578\" style=\"stroke: rgb(255, 255, 255); stroke-opacity: 1; stroke-width: 1px;\"/><path class=\"y3grid crisp\" transform=\"translate(0,426.4233333333334)\" d=\"M80,0h578\" style=\"stroke: rgb(255, 255, 255); stroke-opacity: 1; stroke-width: 1px;\"/><path class=\"y3grid crisp\" transform=\"translate(0,401.7533333333334)\" d=\"M80,0h578\" style=\"stroke: rgb(255, 255, 255); stroke-opacity: 1; stroke-width: 1px;\"/><path class=\"y3grid crisp\" transform=\"translate(0,377.08333333333337)\" d=\"M80,0h578\" style=\"stroke: rgb(255, 255, 255); stroke-opacity: 1; stroke-width: 1px;\"/></g></g><g class=\"zerolinelayer\"/><path class=\"xlines-below\"/><path class=\"ylines-below\"/><g class=\"overlines-below\"/><g class=\"xaxislayer-below\"/><g class=\"yaxislayer-below\"/><g class=\"overaxes-below\"/><g class=\"plot\" transform=\"translate(80,371.33333333333337)\" clip-path=\"url(#clip71f7aax3y3plot)\"><g class=\"scatterlayer mlayer\"><g class=\"trace scatter trace8fe371\" style=\"stroke-miterlimit: 2; opacity: 1;\"><g class=\"fills\"/><g class=\"errorbars\"/><g class=\"lines\"><path class=\"js-line\" d=\"M0,49.33L578,49.33\" style=\"vector-effect: non-scaling-stroke; fill: none; stroke: rgb(0, 204, 150); stroke-opacity: 1; stroke-width: 2px; opacity: 1;\"/></g><g class=\"points\"/><g class=\"text\"/></g></g></g><g class=\"overplot\"/><path class=\"xlines-above crisp\" d=\"M0,0\" style=\"fill: none;\"/><path class=\"ylines-above crisp\" d=\"M0,0\" style=\"fill: none;\"/><g class=\"overlines-above\"/><g class=\"xaxislayer-above\"><g class=\"x3tick\"><text text-anchor=\"middle\" x=\"0\" y=\"483.00000000000006\" transform=\"translate(159.72,0)\" style=\"font-family: 'Open Sans', verdana, arial, sans-serif; font-size: 12px; fill: rgb(42, 63, 95); fill-opacity: 1; white-space: pre; opacity: 1;\">5</text></g><g class=\"x3tick\"><text text-anchor=\"middle\" x=\"0\" y=\"483.00000000000006\" style=\"font-family: 'Open Sans', verdana, arial, sans-serif; font-size: 12px; fill: rgb(42, 63, 95); fill-opacity: 1; white-space: pre; opacity: 1;\" transform=\"translate(259.38,0)\">10</text></g><g class=\"x3tick\"><text text-anchor=\"middle\" x=\"0\" y=\"483.00000000000006\" style=\"font-family: 'Open Sans', verdana, arial, sans-serif; font-size: 12px; fill: rgb(42, 63, 95); fill-opacity: 1; white-space: pre; opacity: 1;\" transform=\"translate(359.03,0)\">15</text></g><g class=\"x3tick\"><text text-anchor=\"middle\" x=\"0\" y=\"483.00000000000006\" style=\"font-family: 'Open Sans', verdana, arial, sans-serif; font-size: 12px; fill: rgb(42, 63, 95); fill-opacity: 1; white-space: pre; opacity: 1;\" transform=\"translate(458.69,0)\">20</text></g><g class=\"x3tick\"><text text-anchor=\"middle\" x=\"0\" y=\"483.00000000000006\" style=\"font-family: 'Open Sans', verdana, arial, sans-serif; font-size: 12px; fill: rgb(42, 63, 95); fill-opacity: 1; white-space: pre; opacity: 1;\" transform=\"translate(558.3399999999999,0)\">25</text></g><g class=\"x3tick\"><text text-anchor=\"middle\" x=\"0\" y=\"483.00000000000006\" style=\"font-family: 'Open Sans', verdana, arial, sans-serif; font-size: 12px; fill: rgb(42, 63, 95); fill-opacity: 1; white-space: pre; opacity: 1;\" transform=\"translate(658,0)\">30</text></g></g><g class=\"yaxislayer-above\"><g class=\"y3tick\"><text text-anchor=\"end\" x=\"79\" y=\"4.199999999999999\" transform=\"translate(0,451.08333333333337)\" style=\"font-family: 'Open Sans', verdana, arial, sans-serif; font-size: 12px; fill: rgb(42, 63, 95); fill-opacity: 1; white-space: pre; opacity: 1;\">9</text></g><g class=\"y3tick\"><text text-anchor=\"end\" x=\"79\" y=\"4.199999999999999\" style=\"font-family: 'Open Sans', verdana, arial, sans-serif; font-size: 12px; fill: rgb(42, 63, 95); fill-opacity: 1; white-space: pre; opacity: 1;\" transform=\"translate(0,426.4233333333334)\">9.5</text></g><g class=\"y3tick\"><text text-anchor=\"end\" x=\"79\" y=\"4.199999999999999\" style=\"font-family: 'Open Sans', verdana, arial, sans-serif; font-size: 12px; fill: rgb(42, 63, 95); fill-opacity: 1; white-space: pre; opacity: 1;\" transform=\"translate(0,401.7533333333334)\">10</text></g><g class=\"y3tick\"><text text-anchor=\"end\" x=\"79\" y=\"4.199999999999999\" style=\"font-family: 'Open Sans', verdana, arial, sans-serif; font-size: 12px; fill: rgb(42, 63, 95); fill-opacity: 1; white-space: pre; opacity: 1;\" transform=\"translate(0,377.08333333333337)\">10.5</text></g></g><g class=\"overaxes-above\"/></g></g><g class=\"polarlayer\"/><g class=\"smithlayer\"/><g class=\"ternarylayer\"/><g class=\"geolayer\"/><g class=\"funnelarealayer\"/><g class=\"pielayer\"/><g class=\"iciclelayer\"/><g class=\"treemaplayer\"/><g class=\"sunburstlayer\"/><g class=\"glimages\"/><defs id=\"topdefs-71f7aa\"><g class=\"clips\"/><clipPath id=\"legend71f7aa\"><rect width=\"218\" height=\"67\" x=\"0\" y=\"0\"/></clipPath></defs><g class=\"layer-above\"><g class=\"imagelayer\"/><g class=\"shapelayer\"/></g><g class=\"infolayer\"><g class=\"legend\" pointer-events=\"all\" transform=\"translate(669.5600000000001,100)\"><rect class=\"bg\" shape-rendering=\"crispEdges\" style=\"stroke: rgb(68, 68, 68); stroke-opacity: 1; fill: rgb(255, 255, 255); fill-opacity: 1; stroke-width: 0px;\" width=\"218\" height=\"67\" x=\"0\" y=\"0\"/><g class=\"scrollbox\" transform=\"\" clip-path=\"url(#legend71f7aa)\"><g class=\"groups\"><g class=\"traces\" transform=\"translate(0,14.5)\" style=\"opacity: 1;\"><text class=\"legendtext\" text-anchor=\"start\" x=\"40\" y=\"4.680000000000001\" style=\"font-family: 'Open Sans', verdana, arial, sans-serif; font-size: 12px; fill: rgb(42, 63, 95); fill-opacity: 1; white-space: pre;\">Gradient Boosting Regressor</text><g class=\"layers\" style=\"opacity: 1;\"><g class=\"legendfill\"/><g class=\"legendlines\"><path class=\"js-line\" d=\"M5,0h30\" style=\"fill: none; stroke: rgb(99, 110, 250); stroke-opacity: 1; stroke-width: 2px;\"/></g><g class=\"legendsymbols\"><g class=\"legendpoints\"/></g></g><rect class=\"legendtoggle\" x=\"0\" y=\"-9.5\" width=\"212.96875\" height=\"19\" style=\"fill: rgb(0, 0, 0); fill-opacity: 0;\"/></g><g class=\"traces\" transform=\"translate(0,33.5)\" style=\"opacity: 1;\"><text class=\"legendtext\" text-anchor=\"start\" x=\"40\" y=\"4.680000000000001\" style=\"font-family: 'Open Sans', verdana, arial, sans-serif; font-size: 12px; fill: rgb(42, 63, 95); fill-opacity: 1; white-space: pre;\">Random Forest Regressor</text><g class=\"layers\" style=\"opacity: 1;\"><g class=\"legendfill\"/><g class=\"legendlines\"><path class=\"js-line\" d=\"M5,0h30\" style=\"fill: none; stroke: rgb(239, 85, 59); stroke-opacity: 1; stroke-width: 2px;\"/></g><g class=\"legendsymbols\"><g class=\"legendpoints\"/></g></g><rect class=\"legendtoggle\" x=\"0\" y=\"-9.5\" width=\"212.96875\" height=\"19\" style=\"fill: rgb(0, 0, 0); fill-opacity: 0;\"/></g><g class=\"traces\" transform=\"translate(0,52.5)\" style=\"opacity: 1;\"><text class=\"legendtext\" text-anchor=\"start\" x=\"40\" y=\"4.680000000000001\" style=\"font-family: 'Open Sans', verdana, arial, sans-serif; font-size: 12px; fill: rgb(42, 63, 95); fill-opacity: 1; white-space: pre;\">XGB Regressor</text><g class=\"layers\" style=\"opacity: 1;\"><g class=\"legendfill\"/><g class=\"legendlines\"><path class=\"js-line\" d=\"M5,0h30\" style=\"fill: none; stroke: rgb(0, 204, 150); stroke-opacity: 1; stroke-width: 2px;\"/></g><g class=\"legendsymbols\"><g class=\"legendpoints\"/></g></g><rect class=\"legendtoggle\" x=\"0\" y=\"-9.5\" width=\"212.96875\" height=\"19\" style=\"fill: rgb(0, 0, 0); fill-opacity: 0;\"/></g></g></g><rect class=\"scrollbar\" rx=\"20\" ry=\"3\" width=\"0\" height=\"0\" style=\"fill: rgb(128, 139, 164); fill-opacity: 1;\" x=\"0\" y=\"0\"/></g><g class=\"g-gtitle\"><text class=\"gtitle\" x=\"45\" y=\"50\" text-anchor=\"start\" dy=\"0em\" style=\"font-family: 'Arial Black'; font-size: 20px; fill: rgb(42, 63, 95); opacity: 1; font-weight: normal; white-space: pre;\">Model Performance over 30 Iterations</text></g><g class=\"g-xtitle\"/><g class=\"g-x2title\"/><g class=\"g-x3title\"><text class=\"x3title\" x=\"369\" y=\"510.8\" text-anchor=\"middle\" style=\"font-family: 'Open Sans', verdana, arial, sans-serif; font-size: 14px; fill: rgb(42, 63, 95); opacity: 1; font-weight: normal; white-space: pre;\">Iterations</text></g><g class=\"g-ytitle\"><text class=\"ytitle\" transform=\"rotate(-90,38.934375,149.33333333333334)\" x=\"38.934375\" y=\"149.33333333333334\" text-anchor=\"middle\" style=\"font-family: 'Open Sans', verdana, arial, sans-serif; font-size: 14px; fill: rgb(42, 63, 95); opacity: 1; font-weight: normal; white-space: pre;\">MSE</text></g><g class=\"g-y2title\"/><g class=\"g-y3title\"/></g></svg>"
      ]
     },
     "metadata": {},
     "output_type": "display_data"
    }
   ],
   "source": [
    "plot_functions.MSE_plot(scoresGBR, scoresRFR, scoresXGB, \"MSE\")"
   ]
  },
  {
   "cell_type": "code",
   "execution_count": 8,
   "id": "4082cb0c",
   "metadata": {},
   "outputs": [
    {
     "name": "stdout",
     "output_type": "stream",
     "text": [
      "The average MSE over 30 iterations for Gradient Boosting Regressor is: 9.3025\n",
      "The average MSE over 30 iterations for Random Forest Regressor is: 8.7444\n",
      "The average MSE over 30 iterations for XGB Regressor is: 9.6166\n"
     ]
    }
   ],
   "source": [
    "print(\"The average MSE over 30 iterations for Gradient Boosting Regressor is: %.4f\" % (np.mean(scoresGBR)))\n",
    "print(\"The average MSE over 30 iterations for Random Forest Regressor is: %.4f\" % (np.mean(scoresRFR)))\n",
    "print(\"The average MSE over 30 iterations for XGB Regressor is: %.4f\" % (np.mean(scoresXGB)))"
   ]
  },
  {
   "cell_type": "markdown",
   "id": "216fcbc7",
   "metadata": {},
   "source": [
    "**A.3: Plotting the RMSE**<br> \n",
    "The RMSE is just the MSE square rooted, so the plot should be exactly the same shape/variance as the MSE plot jsut at different scale."
   ]
  },
  {
   "cell_type": "code",
   "execution_count": 9,
   "id": "50abcd78",
   "metadata": {},
   "outputs": [
    {
     "data": {
      "image/svg+xml": [
       "<svg class=\"main-svg\" xmlns=\"http://www.w3.org/2000/svg\" xmlns:xlink=\"http://www.w3.org/1999/xlink\" width=\"900\" height=\"550\" style=\"\" viewBox=\"0 0 900 550\"><rect x=\"0\" y=\"0\" width=\"900\" height=\"550\" style=\"fill: rgb(255, 255, 255); fill-opacity: 1;\"/><defs id=\"defs-982b1c\"><g class=\"clips\"><clipPath id=\"clip982b1cxyplot\" class=\"plotclip\"><rect width=\"578\" height=\"98.66666666666669\"/></clipPath><clipPath id=\"clip982b1cx2y2plot\" class=\"plotclip\"><rect width=\"578\" height=\"98.66666666666667\"/></clipPath><clipPath id=\"clip982b1cx3y3plot\" class=\"plotclip\"><rect width=\"578\" height=\"98.66666666666667\"/></clipPath><clipPath class=\"axesclip\" id=\"clip982b1cx\"><rect x=\"80\" y=\"0\" width=\"578\" height=\"550\"/></clipPath><clipPath class=\"axesclip\" id=\"clip982b1cy\"><rect x=\"0\" y=\"100\" width=\"900\" height=\"98.66666666666669\"/></clipPath><clipPath class=\"axesclip\" id=\"clip982b1cxy\"><rect x=\"80\" y=\"100\" width=\"578\" height=\"98.66666666666669\"/></clipPath><clipPath class=\"axesclip\" id=\"clip982b1cy2\"><rect x=\"0\" y=\"235.66666666666669\" width=\"900\" height=\"98.66666666666667\"/></clipPath><clipPath class=\"axesclip\" id=\"clip982b1cxy2\"><rect x=\"80\" y=\"235.66666666666669\" width=\"578\" height=\"98.66666666666667\"/></clipPath><clipPath class=\"axesclip\" id=\"clip982b1cy3\"><rect x=\"0\" y=\"371.33333333333337\" width=\"900\" height=\"98.66666666666667\"/></clipPath><clipPath class=\"axesclip\" id=\"clip982b1cxy3\"><rect x=\"80\" y=\"371.33333333333337\" width=\"578\" height=\"98.66666666666667\"/></clipPath><clipPath class=\"axesclip\" id=\"clip982b1cx2\"><rect x=\"80\" y=\"0\" width=\"578\" height=\"550\"/></clipPath><clipPath class=\"axesclip\" id=\"clip982b1cx2y\"><rect x=\"80\" y=\"100\" width=\"578\" height=\"98.66666666666669\"/></clipPath><clipPath class=\"axesclip\" id=\"clip982b1cx2y2\"><rect x=\"80\" y=\"235.66666666666669\" width=\"578\" height=\"98.66666666666667\"/></clipPath><clipPath class=\"axesclip\" id=\"clip982b1cx2y3\"><rect x=\"80\" y=\"371.33333333333337\" width=\"578\" height=\"98.66666666666667\"/></clipPath><clipPath class=\"axesclip\" id=\"clip982b1cx3\"><rect x=\"80\" y=\"0\" width=\"578\" height=\"550\"/></clipPath><clipPath class=\"axesclip\" id=\"clip982b1cx3y\"><rect x=\"80\" y=\"100\" width=\"578\" height=\"98.66666666666669\"/></clipPath><clipPath class=\"axesclip\" id=\"clip982b1cx3y2\"><rect x=\"80\" y=\"235.66666666666669\" width=\"578\" height=\"98.66666666666667\"/></clipPath><clipPath class=\"axesclip\" id=\"clip982b1cx3y3\"><rect x=\"80\" y=\"371.33333333333337\" width=\"578\" height=\"98.66666666666667\"/></clipPath></g><g class=\"gradients\"/><g class=\"patterns\"/></defs><g class=\"bglayer\"><rect class=\"bg\" x=\"80\" y=\"100\" width=\"578\" height=\"98.66666666666669\" style=\"fill: rgb(248, 248, 246); fill-opacity: 1; stroke-width: 0;\"/><rect class=\"bg\" x=\"80\" y=\"235.66666666666669\" width=\"578\" height=\"98.66666666666667\" style=\"fill: rgb(248, 248, 246); fill-opacity: 1; stroke-width: 0;\"/><rect class=\"bg\" x=\"80\" y=\"371.33333333333337\" width=\"578\" height=\"98.66666666666667\" style=\"fill: rgb(248, 248, 246); fill-opacity: 1; stroke-width: 0;\"/></g><g class=\"layer-below\"><g class=\"imagelayer\"/><g class=\"shapelayer\"/></g><g class=\"cartesianlayer\"><g class=\"subplot xy\"><g class=\"layer-subplot\"><g class=\"shapelayer\"/><g class=\"imagelayer\"/></g><g class=\"minor-gridlayer\"><g class=\"x\"/><g class=\"y\"/></g><g class=\"gridlayer\"><g class=\"x\"><path class=\"xgrid crisp\" transform=\"translate(159.72,0)\" d=\"M0,100v98.66666666666669\" style=\"stroke: rgb(255, 255, 255); stroke-opacity: 1; stroke-width: 1px;\"/><path class=\"xgrid crisp\" transform=\"translate(259.38,0)\" d=\"M0,100v98.66666666666669\" style=\"stroke: rgb(255, 255, 255); stroke-opacity: 1; stroke-width: 1px;\"/><path class=\"xgrid crisp\" transform=\"translate(359.03,0)\" d=\"M0,100v98.66666666666669\" style=\"stroke: rgb(255, 255, 255); stroke-opacity: 1; stroke-width: 1px;\"/><path class=\"xgrid crisp\" transform=\"translate(458.69,0)\" d=\"M0,100v98.66666666666669\" style=\"stroke: rgb(255, 255, 255); stroke-opacity: 1; stroke-width: 1px;\"/><path class=\"xgrid crisp\" transform=\"translate(558.3399999999999,0)\" d=\"M0,100v98.66666666666669\" style=\"stroke: rgb(255, 255, 255); stroke-opacity: 1; stroke-width: 1px;\"/></g><g class=\"y\"><path class=\"ygrid crisp\" transform=\"translate(0,196.48000000000002)\" d=\"M80,0h578\" style=\"stroke: rgb(255, 255, 255); stroke-opacity: 1; stroke-width: 1px;\"/><path class=\"ygrid crisp\" transform=\"translate(0,161.36)\" d=\"M80,0h578\" style=\"stroke: rgb(255, 255, 255); stroke-opacity: 1; stroke-width: 1px;\"/><path class=\"ygrid crisp\" transform=\"translate(0,126.23)\" d=\"M80,0h578\" style=\"stroke: rgb(255, 255, 255); stroke-opacity: 1; stroke-width: 1px;\"/></g></g><g class=\"zerolinelayer\"/><path class=\"xlines-below\"/><path class=\"ylines-below\"/><g class=\"overlines-below\"/><g class=\"xaxislayer-below\"/><g class=\"yaxislayer-below\"/><g class=\"overaxes-below\"/><g class=\"plot\" transform=\"translate(80,100)\" clip-path=\"url(#clip982b1cxyplot)\"><g class=\"scatterlayer mlayer\"><g class=\"trace scatter trace47b153\" style=\"stroke-miterlimit: 2; opacity: 1;\"><g class=\"fills\"/><g class=\"errorbars\"/><g class=\"lines\"><path class=\"js-line\" d=\"M0,67.56L19.93,67.5L39.86,65.34L59.79,4.93L79.72,36.12L99.66,84.38L119.59,78.58L139.52,72.18L159.45,26.55L179.38,21.23L199.31,24.64L219.24,38.11L239.17,56.1L259.1,65.51L279.03,77.12L298.97,47.99L318.9,84.16L338.83,39.25L358.76,52.28L378.69,58.37L398.62,36.75L418.55,93.73L438.48,32.78L458.41,73.66L478.34,61.31L498.28,60.46L518.21,44.21L538.14,60.09L558.07,19.97L578,39.61\" style=\"vector-effect: non-scaling-stroke; fill: none; stroke: rgb(99, 110, 250); stroke-opacity: 1; stroke-width: 2px; opacity: 1;\"/></g><g class=\"points\"/><g class=\"text\"/></g></g></g><g class=\"overplot\"/><path class=\"xlines-above crisp\" d=\"M0,0\" style=\"fill: none;\"/><path class=\"ylines-above crisp\" d=\"M0,0\" style=\"fill: none;\"/><g class=\"overlines-above\"/><g class=\"xaxislayer-above\"><g class=\"xtick\"><text text-anchor=\"middle\" x=\"0\" y=\"211.66666666666669\" transform=\"translate(159.72,0)\" style=\"font-family: 'Open Sans', verdana, arial, sans-serif; font-size: 12px; fill: rgb(42, 63, 95); fill-opacity: 1; white-space: pre; opacity: 1;\">5</text></g><g class=\"xtick\"><text text-anchor=\"middle\" x=\"0\" y=\"211.66666666666669\" style=\"font-family: 'Open Sans', verdana, arial, sans-serif; font-size: 12px; fill: rgb(42, 63, 95); fill-opacity: 1; white-space: pre; opacity: 1;\" transform=\"translate(259.38,0)\">10</text></g><g class=\"xtick\"><text text-anchor=\"middle\" x=\"0\" y=\"211.66666666666669\" style=\"font-family: 'Open Sans', verdana, arial, sans-serif; font-size: 12px; fill: rgb(42, 63, 95); fill-opacity: 1; white-space: pre; opacity: 1;\" transform=\"translate(359.03,0)\">15</text></g><g class=\"xtick\"><text text-anchor=\"middle\" x=\"0\" y=\"211.66666666666669\" style=\"font-family: 'Open Sans', verdana, arial, sans-serif; font-size: 12px; fill: rgb(42, 63, 95); fill-opacity: 1; white-space: pre; opacity: 1;\" transform=\"translate(458.69,0)\">20</text></g><g class=\"xtick\"><text text-anchor=\"middle\" x=\"0\" y=\"211.66666666666669\" style=\"font-family: 'Open Sans', verdana, arial, sans-serif; font-size: 12px; fill: rgb(42, 63, 95); fill-opacity: 1; white-space: pre; opacity: 1;\" transform=\"translate(558.3399999999999,0)\">25</text></g><g class=\"xtick\"><text text-anchor=\"middle\" x=\"0\" y=\"211.66666666666669\" style=\"font-family: 'Open Sans', verdana, arial, sans-serif; font-size: 12px; fill: rgb(42, 63, 95); fill-opacity: 1; white-space: pre; opacity: 1;\" transform=\"translate(658,0)\">30</text></g></g><g class=\"yaxislayer-above\"><g class=\"ytick\"><text text-anchor=\"end\" x=\"79\" y=\"4.199999999999999\" transform=\"translate(0,196.48000000000002)\" style=\"font-family: 'Open Sans', verdana, arial, sans-serif; font-size: 12px; fill: rgb(42, 63, 95); fill-opacity: 1; white-space: pre; opacity: 1;\">2.8</text></g><g class=\"ytick\"><text text-anchor=\"end\" x=\"79\" y=\"4.199999999999999\" style=\"font-family: 'Open Sans', verdana, arial, sans-serif; font-size: 12px; fill: rgb(42, 63, 95); fill-opacity: 1; white-space: pre; opacity: 1;\" transform=\"translate(0,161.36)\">3</text></g><g class=\"ytick\"><text text-anchor=\"end\" x=\"79\" y=\"4.199999999999999\" style=\"font-family: 'Open Sans', verdana, arial, sans-serif; font-size: 12px; fill: rgb(42, 63, 95); fill-opacity: 1; white-space: pre; opacity: 1;\" transform=\"translate(0,126.23)\">3.2</text></g></g><g class=\"overaxes-above\"/></g><g class=\"subplot x2y2\"><g class=\"layer-subplot\"><g class=\"shapelayer\"/><g class=\"imagelayer\"/></g><g class=\"minor-gridlayer\"><g class=\"x2\"/><g class=\"y2\"/></g><g class=\"gridlayer\"><g class=\"x2\"><path class=\"x2grid crisp\" transform=\"translate(159.72,0)\" d=\"M0,235.66666666666669v98.66666666666667\" style=\"stroke: rgb(255, 255, 255); stroke-opacity: 1; stroke-width: 1px;\"/><path class=\"x2grid crisp\" transform=\"translate(259.38,0)\" d=\"M0,235.66666666666669v98.66666666666667\" style=\"stroke: rgb(255, 255, 255); stroke-opacity: 1; stroke-width: 1px;\"/><path class=\"x2grid crisp\" transform=\"translate(359.03,0)\" d=\"M0,235.66666666666669v98.66666666666667\" style=\"stroke: rgb(255, 255, 255); stroke-opacity: 1; stroke-width: 1px;\"/><path class=\"x2grid crisp\" transform=\"translate(458.69,0)\" d=\"M0,235.66666666666669v98.66666666666667\" style=\"stroke: rgb(255, 255, 255); stroke-opacity: 1; stroke-width: 1px;\"/><path class=\"x2grid crisp\" transform=\"translate(558.3399999999999,0)\" d=\"M0,235.66666666666669v98.66666666666667\" style=\"stroke: rgb(255, 255, 255); stroke-opacity: 1; stroke-width: 1px;\"/></g><g class=\"y2\"><path class=\"y2grid crisp\" transform=\"translate(0,305.37666666666667)\" d=\"M80,0h578\" style=\"stroke: rgb(255, 255, 255); stroke-opacity: 1; stroke-width: 1px;\"/><path class=\"y2grid crisp\" transform=\"translate(0,273.7766666666667)\" d=\"M80,0h578\" style=\"stroke: rgb(255, 255, 255); stroke-opacity: 1; stroke-width: 1px;\"/><path class=\"y2grid crisp\" transform=\"translate(0,242.17666666666668)\" d=\"M80,0h578\" style=\"stroke: rgb(255, 255, 255); stroke-opacity: 1; stroke-width: 1px;\"/></g></g><g class=\"zerolinelayer\"/><path class=\"xlines-below\"/><path class=\"ylines-below\"/><g class=\"overlines-below\"/><g class=\"xaxislayer-below\"/><g class=\"yaxislayer-below\"/><g class=\"overaxes-below\"/><g class=\"plot\" transform=\"translate(80,235.66666666666669)\" clip-path=\"url(#clip982b1cx2y2plot)\"><g class=\"scatterlayer mlayer\"><g class=\"trace scatter trace6509b4\" style=\"stroke-miterlimit: 2; opacity: 1;\"><g class=\"fills\"/><g class=\"errorbars\"/><g class=\"lines\"><path class=\"js-line\" d=\"M0,37.66L19.93,93.73L39.86,38.28L59.79,60.52L79.72,4.93L99.66,49.03L119.59,44.08L139.52,28.96L159.45,28.16L179.38,74.01L199.31,46.73L219.24,10.74L239.17,47.42L259.1,27.41L279.03,36.05L298.97,48.83L318.9,45.22L338.83,38.12L358.76,46.95L378.69,30.08L398.62,17.83L418.55,72.01L438.48,44.11L458.41,60.36L478.34,21.02L498.28,15.51L518.21,93.44L538.14,39.38L558.07,37.91L578,44.19\" style=\"vector-effect: non-scaling-stroke; fill: none; stroke: rgb(239, 85, 59); stroke-opacity: 1; stroke-width: 2px; opacity: 1;\"/></g><g class=\"points\"/><g class=\"text\"/></g></g></g><g class=\"overplot\"/><path class=\"xlines-above crisp\" d=\"M0,0\" style=\"fill: none;\"/><path class=\"ylines-above crisp\" d=\"M0,0\" style=\"fill: none;\"/><g class=\"overlines-above\"/><g class=\"xaxislayer-above\"><g class=\"x2tick\"><text text-anchor=\"middle\" x=\"0\" y=\"347.33333333333337\" transform=\"translate(159.72,0)\" style=\"font-family: 'Open Sans', verdana, arial, sans-serif; font-size: 12px; fill: rgb(42, 63, 95); fill-opacity: 1; white-space: pre; opacity: 1;\">5</text></g><g class=\"x2tick\"><text text-anchor=\"middle\" x=\"0\" y=\"347.33333333333337\" style=\"font-family: 'Open Sans', verdana, arial, sans-serif; font-size: 12px; fill: rgb(42, 63, 95); fill-opacity: 1; white-space: pre; opacity: 1;\" transform=\"translate(259.38,0)\">10</text></g><g class=\"x2tick\"><text text-anchor=\"middle\" x=\"0\" y=\"347.33333333333337\" style=\"font-family: 'Open Sans', verdana, arial, sans-serif; font-size: 12px; fill: rgb(42, 63, 95); fill-opacity: 1; white-space: pre; opacity: 1;\" transform=\"translate(359.03,0)\">15</text></g><g class=\"x2tick\"><text text-anchor=\"middle\" x=\"0\" y=\"347.33333333333337\" style=\"font-family: 'Open Sans', verdana, arial, sans-serif; font-size: 12px; fill: rgb(42, 63, 95); fill-opacity: 1; white-space: pre; opacity: 1;\" transform=\"translate(458.69,0)\">20</text></g><g class=\"x2tick\"><text text-anchor=\"middle\" x=\"0\" y=\"347.33333333333337\" style=\"font-family: 'Open Sans', verdana, arial, sans-serif; font-size: 12px; fill: rgb(42, 63, 95); fill-opacity: 1; white-space: pre; opacity: 1;\" transform=\"translate(558.3399999999999,0)\">25</text></g><g class=\"x2tick\"><text text-anchor=\"middle\" x=\"0\" y=\"347.33333333333337\" style=\"font-family: 'Open Sans', verdana, arial, sans-serif; font-size: 12px; fill: rgb(42, 63, 95); fill-opacity: 1; white-space: pre; opacity: 1;\" transform=\"translate(658,0)\">30</text></g></g><g class=\"yaxislayer-above\"><g class=\"y2tick\"><text text-anchor=\"end\" x=\"79\" y=\"4.199999999999999\" transform=\"translate(0,305.37666666666667)\" style=\"font-family: 'Open Sans', verdana, arial, sans-serif; font-size: 12px; fill: rgb(42, 63, 95); fill-opacity: 1; white-space: pre; opacity: 1;\">2.94</text></g><g class=\"y2tick\"><text text-anchor=\"end\" x=\"79\" y=\"4.199999999999999\" style=\"font-family: 'Open Sans', verdana, arial, sans-serif; font-size: 12px; fill: rgb(42, 63, 95); fill-opacity: 1; white-space: pre; opacity: 1;\" transform=\"translate(0,273.7766666666667)\">2.96</text></g><g class=\"y2tick\"><text text-anchor=\"end\" x=\"79\" y=\"4.199999999999999\" style=\"font-family: 'Open Sans', verdana, arial, sans-serif; font-size: 12px; fill: rgb(42, 63, 95); fill-opacity: 1; white-space: pre; opacity: 1;\" transform=\"translate(0,242.17666666666668)\">2.98</text></g></g><g class=\"overaxes-above\"/></g><g class=\"subplot x3y3\"><g class=\"layer-subplot\"><g class=\"shapelayer\"/><g class=\"imagelayer\"/></g><g class=\"minor-gridlayer\"><g class=\"x3\"/><g class=\"y3\"/></g><g class=\"gridlayer\"><g class=\"x3\"><path class=\"x3grid crisp\" transform=\"translate(159.72,0)\" d=\"M0,371.33333333333337v98.66666666666667\" style=\"stroke: rgb(255, 255, 255); stroke-opacity: 1; stroke-width: 1px;\"/><path class=\"x3grid crisp\" transform=\"translate(259.38,0)\" d=\"M0,371.33333333333337v98.66666666666667\" style=\"stroke: rgb(255, 255, 255); stroke-opacity: 1; stroke-width: 1px;\"/><path class=\"x3grid crisp\" transform=\"translate(359.03,0)\" d=\"M0,371.33333333333337v98.66666666666667\" style=\"stroke: rgb(255, 255, 255); stroke-opacity: 1; stroke-width: 1px;\"/><path class=\"x3grid crisp\" transform=\"translate(458.69,0)\" d=\"M0,371.33333333333337v98.66666666666667\" style=\"stroke: rgb(255, 255, 255); stroke-opacity: 1; stroke-width: 1px;\"/><path class=\"x3grid crisp\" transform=\"translate(558.3399999999999,0)\" d=\"M0,371.33333333333337v98.66666666666667\" style=\"stroke: rgb(255, 255, 255); stroke-opacity: 1; stroke-width: 1px;\"/></g><g class=\"y3\"><path class=\"y3grid crisp\" transform=\"translate(0,450.3233333333334)\" d=\"M80,0h578\" style=\"stroke: rgb(255, 255, 255); stroke-opacity: 1; stroke-width: 1px;\"/><path class=\"y3grid crisp\" transform=\"translate(0,425.65333333333336)\" d=\"M80,0h578\" style=\"stroke: rgb(255, 255, 255); stroke-opacity: 1; stroke-width: 1px;\"/><path class=\"y3grid crisp\" transform=\"translate(0,400.98333333333335)\" d=\"M80,0h578\" style=\"stroke: rgb(255, 255, 255); stroke-opacity: 1; stroke-width: 1px;\"/><path class=\"y3grid crisp\" transform=\"translate(0,376.3233333333334)\" d=\"M80,0h578\" style=\"stroke: rgb(255, 255, 255); stroke-opacity: 1; stroke-width: 1px;\"/></g></g><g class=\"zerolinelayer\"/><path class=\"xlines-below\"/><path class=\"ylines-below\"/><g class=\"overlines-below\"/><g class=\"xaxislayer-below\"/><g class=\"yaxislayer-below\"/><g class=\"overaxes-below\"/><g class=\"plot\" transform=\"translate(80,371.33333333333337)\" clip-path=\"url(#clip982b1cx3y3plot)\"><g class=\"scatterlayer mlayer\"><g class=\"trace scatter trace0d70d7\" style=\"stroke-miterlimit: 2; opacity: 1;\"><g class=\"fills\"/><g class=\"errorbars\"/><g class=\"lines\"><path class=\"js-line\" d=\"M0,49.33L578,49.33\" style=\"vector-effect: non-scaling-stroke; fill: none; stroke: rgb(0, 204, 150); stroke-opacity: 1; stroke-width: 2px; opacity: 1;\"/></g><g class=\"points\"/><g class=\"text\"/></g></g></g><g class=\"overplot\"/><path class=\"xlines-above crisp\" d=\"M0,0\" style=\"fill: none;\"/><path class=\"ylines-above crisp\" d=\"M0,0\" style=\"fill: none;\"/><g class=\"overlines-above\"/><g class=\"xaxislayer-above\"><g class=\"x3tick\"><text text-anchor=\"middle\" x=\"0\" y=\"483.00000000000006\" transform=\"translate(159.72,0)\" style=\"font-family: 'Open Sans', verdana, arial, sans-serif; font-size: 12px; fill: rgb(42, 63, 95); fill-opacity: 1; white-space: pre; opacity: 1;\">5</text></g><g class=\"x3tick\"><text text-anchor=\"middle\" x=\"0\" y=\"483.00000000000006\" style=\"font-family: 'Open Sans', verdana, arial, sans-serif; font-size: 12px; fill: rgb(42, 63, 95); fill-opacity: 1; white-space: pre; opacity: 1;\" transform=\"translate(259.38,0)\">10</text></g><g class=\"x3tick\"><text text-anchor=\"middle\" x=\"0\" y=\"483.00000000000006\" style=\"font-family: 'Open Sans', verdana, arial, sans-serif; font-size: 12px; fill: rgb(42, 63, 95); fill-opacity: 1; white-space: pre; opacity: 1;\" transform=\"translate(359.03,0)\">15</text></g><g class=\"x3tick\"><text text-anchor=\"middle\" x=\"0\" y=\"483.00000000000006\" style=\"font-family: 'Open Sans', verdana, arial, sans-serif; font-size: 12px; fill: rgb(42, 63, 95); fill-opacity: 1; white-space: pre; opacity: 1;\" transform=\"translate(458.69,0)\">20</text></g><g class=\"x3tick\"><text text-anchor=\"middle\" x=\"0\" y=\"483.00000000000006\" style=\"font-family: 'Open Sans', verdana, arial, sans-serif; font-size: 12px; fill: rgb(42, 63, 95); fill-opacity: 1; white-space: pre; opacity: 1;\" transform=\"translate(558.3399999999999,0)\">25</text></g><g class=\"x3tick\"><text text-anchor=\"middle\" x=\"0\" y=\"483.00000000000006\" style=\"font-family: 'Open Sans', verdana, arial, sans-serif; font-size: 12px; fill: rgb(42, 63, 95); fill-opacity: 1; white-space: pre; opacity: 1;\" transform=\"translate(658,0)\">30</text></g></g><g class=\"yaxislayer-above\"><g class=\"y3tick\"><text text-anchor=\"end\" x=\"79\" y=\"4.199999999999999\" transform=\"translate(0,450.3233333333334)\" style=\"font-family: 'Open Sans', verdana, arial, sans-serif; font-size: 12px; fill: rgb(42, 63, 95); fill-opacity: 1; white-space: pre; opacity: 1;\">2.5</text></g><g class=\"y3tick\"><text text-anchor=\"end\" x=\"79\" y=\"4.199999999999999\" style=\"font-family: 'Open Sans', verdana, arial, sans-serif; font-size: 12px; fill: rgb(42, 63, 95); fill-opacity: 1; white-space: pre; opacity: 1;\" transform=\"translate(0,425.65333333333336)\">3</text></g><g class=\"y3tick\"><text text-anchor=\"end\" x=\"79\" y=\"4.199999999999999\" style=\"font-family: 'Open Sans', verdana, arial, sans-serif; font-size: 12px; fill: rgb(42, 63, 95); fill-opacity: 1; white-space: pre; opacity: 1;\" transform=\"translate(0,400.98333333333335)\">3.5</text></g><g class=\"y3tick\"><text text-anchor=\"end\" x=\"79\" y=\"4.199999999999999\" style=\"font-family: 'Open Sans', verdana, arial, sans-serif; font-size: 12px; fill: rgb(42, 63, 95); fill-opacity: 1; white-space: pre; opacity: 1;\" transform=\"translate(0,376.3233333333334)\">4</text></g></g><g class=\"overaxes-above\"/></g></g><g class=\"polarlayer\"/><g class=\"smithlayer\"/><g class=\"ternarylayer\"/><g class=\"geolayer\"/><g class=\"funnelarealayer\"/><g class=\"pielayer\"/><g class=\"iciclelayer\"/><g class=\"treemaplayer\"/><g class=\"sunburstlayer\"/><g class=\"glimages\"/><defs id=\"topdefs-982b1c\"><g class=\"clips\"/><clipPath id=\"legend982b1c\"><rect width=\"218\" height=\"67\" x=\"0\" y=\"0\"/></clipPath></defs><g class=\"layer-above\"><g class=\"imagelayer\"/><g class=\"shapelayer\"/></g><g class=\"infolayer\"><g class=\"legend\" pointer-events=\"all\" transform=\"translate(669.5600000000001,100)\"><rect class=\"bg\" shape-rendering=\"crispEdges\" width=\"218\" height=\"67\" x=\"0\" y=\"0\" style=\"stroke: rgb(68, 68, 68); stroke-opacity: 1; fill: rgb(255, 255, 255); fill-opacity: 1; stroke-width: 0px;\"/><g class=\"scrollbox\" transform=\"\" clip-path=\"url(#legend982b1c)\"><g class=\"groups\"><g class=\"traces\" transform=\"translate(0,14.5)\" style=\"opacity: 1;\"><text class=\"legendtext\" text-anchor=\"start\" x=\"40\" y=\"4.680000000000001\" style=\"font-family: 'Open Sans', verdana, arial, sans-serif; font-size: 12px; fill: rgb(42, 63, 95); fill-opacity: 1; white-space: pre;\">Gradient Boosting Regressor</text><g class=\"layers\" style=\"opacity: 1;\"><g class=\"legendfill\"/><g class=\"legendlines\"><path class=\"js-line\" d=\"M5,0h30\" style=\"fill: none; stroke: rgb(99, 110, 250); stroke-opacity: 1; stroke-width: 2px;\"/></g><g class=\"legendsymbols\"><g class=\"legendpoints\"/></g></g><rect class=\"legendtoggle\" x=\"0\" y=\"-9.5\" width=\"212.96875\" height=\"19\" style=\"fill: rgb(0, 0, 0); fill-opacity: 0;\"/></g><g class=\"traces\" transform=\"translate(0,33.5)\" style=\"opacity: 1;\"><text class=\"legendtext\" text-anchor=\"start\" x=\"40\" y=\"4.680000000000001\" style=\"font-family: 'Open Sans', verdana, arial, sans-serif; font-size: 12px; fill: rgb(42, 63, 95); fill-opacity: 1; white-space: pre;\">Random Forest Regressor</text><g class=\"layers\" style=\"opacity: 1;\"><g class=\"legendfill\"/><g class=\"legendlines\"><path class=\"js-line\" d=\"M5,0h30\" style=\"fill: none; stroke: rgb(239, 85, 59); stroke-opacity: 1; stroke-width: 2px;\"/></g><g class=\"legendsymbols\"><g class=\"legendpoints\"/></g></g><rect class=\"legendtoggle\" x=\"0\" y=\"-9.5\" width=\"212.96875\" height=\"19\" style=\"fill: rgb(0, 0, 0); fill-opacity: 0;\"/></g><g class=\"traces\" transform=\"translate(0,52.5)\" style=\"opacity: 1;\"><text class=\"legendtext\" text-anchor=\"start\" x=\"40\" y=\"4.680000000000001\" style=\"font-family: 'Open Sans', verdana, arial, sans-serif; font-size: 12px; fill: rgb(42, 63, 95); fill-opacity: 1; white-space: pre;\">XGB Regressor</text><g class=\"layers\" style=\"opacity: 1;\"><g class=\"legendfill\"/><g class=\"legendlines\"><path class=\"js-line\" d=\"M5,0h30\" style=\"fill: none; stroke: rgb(0, 204, 150); stroke-opacity: 1; stroke-width: 2px;\"/></g><g class=\"legendsymbols\"><g class=\"legendpoints\"/></g></g><rect class=\"legendtoggle\" x=\"0\" y=\"-9.5\" width=\"212.96875\" height=\"19\" style=\"fill: rgb(0, 0, 0); fill-opacity: 0;\"/></g></g></g><rect class=\"scrollbar\" rx=\"20\" ry=\"3\" width=\"0\" height=\"0\" x=\"0\" y=\"0\" style=\"fill: rgb(128, 139, 164); fill-opacity: 1;\"/></g><g class=\"g-gtitle\"><text class=\"gtitle\" x=\"45\" y=\"50\" text-anchor=\"start\" dy=\"0em\" style=\"font-family: 'Arial Black'; font-size: 20px; fill: rgb(42, 63, 95); opacity: 1; font-weight: normal; white-space: pre;\">Model Performance over 30 Iterations</text></g><g class=\"g-xtitle\"/><g class=\"g-x2title\"/><g class=\"g-x3title\"><text class=\"x3title\" x=\"369\" y=\"510.8\" text-anchor=\"middle\" style=\"font-family: 'Open Sans', verdana, arial, sans-serif; font-size: 14px; fill: rgb(42, 63, 95); opacity: 1; font-weight: normal; white-space: pre;\">Iterations</text></g><g class=\"g-ytitle\"><text class=\"ytitle\" transform=\"rotate(-90,34.575,149.33333333333334)\" x=\"34.575\" y=\"149.33333333333334\" text-anchor=\"middle\" style=\"font-family: 'Open Sans', verdana, arial, sans-serif; font-size: 14px; fill: rgb(42, 63, 95); opacity: 1; font-weight: normal; white-space: pre;\">RMSE</text></g><g class=\"g-y2title\"/><g class=\"g-y3title\"/></g></svg>"
      ]
     },
     "metadata": {},
     "output_type": "display_data"
    }
   ],
   "source": [
    "# Using the same MSE plot function, we just need to apply a square root function to our results. \n",
    "plot_functions.MSE_plot(np.sqrt(scoresGBR), np.sqrt(scoresRFR), np.sqrt(scoresXGB), \"RMSE\")"
   ]
  },
  {
   "cell_type": "code",
   "execution_count": 10,
   "id": "4e5b3ac3",
   "metadata": {},
   "outputs": [
    {
     "name": "stdout",
     "output_type": "stream",
     "text": [
      "The average RMSE over 30 iterations for Gradient Boosting Regressor is: 3.0500\n",
      "The average RMSE over 30 iterations for Random Forest Regressor is: 2.9571\n",
      "The average RMSE over 30 iterations for XGB Regressor is: 3.1011\n"
     ]
    }
   ],
   "source": [
    "print(\"The average RMSE over 30 iterations for Gradient Boosting Regressor is: %.4f\" % (np.sqrt(np.mean(scoresGBR))))\n",
    "print(\"The average RMSE over 30 iterations for Random Forest Regressor is: %.4f\" % (np.sqrt(np.mean(scoresRFR))))\n",
    "print(\"The average RMSE over 30 iterations for XGB Regressor is: %.4f\" % (np.sqrt(np.mean(scoresXGB))))"
   ]
  },
  {
   "cell_type": "markdown",
   "id": "8f1acca7",
   "metadata": {},
   "source": [
    "* Both our Gradient Boosting and Random Forest Regressors seem to fluctuate over the 30 iterations while the XGB Regressor predicted consistently over time.\n",
    "* Based on the results, our chosen final model will be the Random Forest Regressor due to its great performance. "
   ]
  },
  {
   "cell_type": "markdown",
   "id": "0a8cfdf9",
   "metadata": {},
   "source": [
    "| Model | Model Type | MSE | RMSE | \n",
    "|---------|---------|---------|---------|\n",
    "| **Gradient Boosting Regressor** | Base Model   |9.32 | 3.05 |\n",
    "| **Random Forest Regressor** | Log Transformed |8.75 |2.96 |\n",
    "| **XGB Regressor** | Log Transformed | 9.69 |3.11 |"
   ]
  },
  {
   "cell_type": "markdown",
   "id": "75e04bbe",
   "metadata": {},
   "source": [
    "&nbsp;"
   ]
  },
  {
   "cell_type": "markdown",
   "id": "3ac0a639",
   "metadata": {},
   "source": [
    "### Section B: Saving & Loading Models\n",
    "In this section we're going to export our best performing model into our current working directory, then load the model back in and make the same predictions again to see if everything saved correctly. "
   ]
  },
  {
   "cell_type": "markdown",
   "id": "5a793813",
   "metadata": {},
   "source": [
    "**B.1: Saving and Exporting our Model as a Pickle File**<br>\n",
    "Now it's time to save our pipeline estimator and export it as a pkl file into our current working directory."
   ]
  },
  {
   "cell_type": "code",
   "execution_count": 11,
   "id": "3a3e7560",
   "metadata": {},
   "outputs": [],
   "source": [
    "# Saving our finalised model and exporting it in our cwd as a pickle file. \n",
    "functions.saving_model(train_data=trainData, model=RandomForestRegressor(max_depth=20, min_samples_split=18, min_samples_leaf=2,\n",
    "                                                                         n_estimators=500))"
   ]
  },
  {
   "cell_type": "markdown",
   "id": "bdf69545",
   "metadata": {},
   "source": [
    "**B.2: Loading our pickle File and Evaluation**<br>\n",
    "The next part is to load our model back into the script and evaluate it again on the holdoutset. We run this again just to make sure that our entire pipeline components saved and loaded correctly and that our model has still retained its high performance."
   ]
  },
  {
   "cell_type": "code",
   "execution_count": 12,
   "id": "5c5f3b44",
   "metadata": {},
   "outputs": [],
   "source": [
    "# Loading our model back in. \n",
    "loaded_model = load(open(\"RandomForestRegressor.pkl\", \"rb\"))"
   ]
  },
  {
   "cell_type": "markdown",
   "id": "f4b36624",
   "metadata": {},
   "source": [
    "**B.3: Predicting on the Holdoutset**<br>\n",
    "Now it's time to test the performance of our loaded model."
   ]
  },
  {
   "cell_type": "code",
   "execution_count": 13,
   "id": "ad378e98",
   "metadata": {},
   "outputs": [
    {
     "name": "stdout",
     "output_type": "stream",
     "text": [
      "Our Random Forest Regressor scored an MSE of: 8.8462 and a RMSE of: 2.9742 on the holdout set.\n"
     ]
    }
   ],
   "source": [
    "# Predicting probabilities on the Holdout set's features. \n",
    "yhat = loaded_model.predict(holdoutX)\n",
    "\n",
    "# Error metrics. \n",
    "MSE = abs(mean_squared_error(holdoutLabels, yhat))\n",
    "RMSE = np.sqrt(abs(mean_squared_error(holdoutLabels, yhat)))\n",
    "\n",
    "print(f\"Our Random Forest Regressor scored an MSE of: %.4f and a RMSE of: %.4f on the holdout set.\" % (MSE, RMSE))"
   ]
  },
  {
   "cell_type": "markdown",
   "id": "5da13217",
   "metadata": {},
   "source": [
    "* It looks like our loaded model performed exactly how we wanted it to."
   ]
  },
  {
   "cell_type": "markdown",
   "id": "5ab3d626",
   "metadata": {},
   "source": [
    "&nbsp;"
   ]
  },
  {
   "cell_type": "markdown",
   "id": "37f915dd",
   "metadata": {},
   "source": [
    "### Section C: Residual Plot\n",
    "A residual plot shows the difference between the observed response and the fitted response values. In a perfect scenario we would want all our points clustered around zero because it would mean our model can make predictions with little to no error. "
   ]
  },
  {
   "cell_type": "markdown",
   "id": "9d14f294",
   "metadata": {},
   "source": [
    "**C.1: Plotting the Residual Plot**<br>\n",
    "Before we can plot our residual plot we first need to calculate our residuals, which is a simple formula of (actuals - predicted)."
   ]
  },
  {
   "cell_type": "code",
   "execution_count": 14,
   "id": "d9b226f7",
   "metadata": {},
   "outputs": [
    {
     "data": {
      "image/svg+xml": [
       "<svg class=\"main-svg\" xmlns=\"http://www.w3.org/2000/svg\" xmlns:xlink=\"http://www.w3.org/1999/xlink\" width=\"650\" height=\"400\" style=\"\" viewBox=\"0 0 650 400\"><rect x=\"0\" y=\"0\" width=\"650\" height=\"400\" style=\"fill: rgb(255, 255, 255); fill-opacity: 1;\"/><defs id=\"defs-6a9a84\"><g class=\"clips\"><clipPath id=\"clip6a9a84xyplot\" class=\"plotclip\"><rect width=\"490\" height=\"260\"/></clipPath><clipPath class=\"axesclip\" id=\"clip6a9a84x\"><rect x=\"80\" y=\"0\" width=\"490\" height=\"400\"/></clipPath><clipPath class=\"axesclip\" id=\"clip6a9a84y\"><rect x=\"0\" y=\"60\" width=\"650\" height=\"260\"/></clipPath><clipPath class=\"axesclip\" id=\"clip6a9a84xy\"><rect x=\"80\" y=\"60\" width=\"490\" height=\"260\"/></clipPath></g><g class=\"gradients\"/><g class=\"patterns\"/></defs><g class=\"bglayer\"><rect class=\"bg\" x=\"80\" y=\"60\" width=\"490\" height=\"260\" style=\"fill: rgb(248, 248, 246); fill-opacity: 1; stroke-width: 0;\"/></g><g class=\"layer-below\"><g class=\"imagelayer\"/><g class=\"shapelayer\"/></g><g class=\"cartesianlayer\"><g class=\"subplot xy\"><g class=\"layer-subplot\"><g class=\"shapelayer\"/><g class=\"imagelayer\"/></g><g class=\"minor-gridlayer\"><g class=\"x\"/><g class=\"y\"/></g><g class=\"gridlayer\"><g class=\"x\"><path class=\"xgrid crisp\" transform=\"translate(141.69,0)\" d=\"M0,60v260\" style=\"stroke: rgb(255, 255, 255); stroke-opacity: 1; stroke-width: 1px;\"/><path class=\"xgrid crisp\" transform=\"translate(261.11,0)\" d=\"M0,60v260\" style=\"stroke: rgb(255, 255, 255); stroke-opacity: 1; stroke-width: 1px;\"/><path class=\"xgrid crisp\" transform=\"translate(380.53,0)\" d=\"M0,60v260\" style=\"stroke: rgb(255, 255, 255); stroke-opacity: 1; stroke-width: 1px;\"/><path class=\"xgrid crisp\" transform=\"translate(499.95,0)\" d=\"M0,60v260\" style=\"stroke: rgb(255, 255, 255); stroke-opacity: 1; stroke-width: 1px;\"/></g><g class=\"y\"><path class=\"ygrid crisp\" transform=\"translate(0,313.14)\" d=\"M80,0h490\" style=\"stroke: rgb(255, 255, 255); stroke-opacity: 1; stroke-width: 1px;\"/><path class=\"ygrid crisp\" transform=\"translate(0,258.45)\" d=\"M80,0h490\" style=\"stroke: rgb(255, 255, 255); stroke-opacity: 1; stroke-width: 1px;\"/><path class=\"ygrid crisp\" transform=\"translate(0,149.07)\" d=\"M80,0h490\" style=\"stroke: rgb(255, 255, 255); stroke-opacity: 1; stroke-width: 1px;\"/><path class=\"ygrid crisp\" transform=\"translate(0,94.38)\" d=\"M80,0h490\" style=\"stroke: rgb(255, 255, 255); stroke-opacity: 1; stroke-width: 1px;\"/></g></g><g class=\"zerolinelayer\"><path class=\"yzl zl crisp\" transform=\"translate(0,203.76)\" d=\"M80,0h490\" style=\"stroke: rgb(255, 255, 255); stroke-opacity: 1; stroke-width: 2px;\"/></g><path class=\"xlines-below\"/><path class=\"ylines-below\"/><g class=\"overlines-below\"/><g class=\"xaxislayer-below\"/><g class=\"yaxislayer-below\"/><g class=\"overaxes-below\"/><g class=\"plot\" transform=\"translate(80,60)\" clip-path=\"url(#clip6a9a84xyplot)\"><g class=\"scatterlayer mlayer\"><g class=\"trace scatter trace630f9b\" style=\"stroke-miterlimit: 2; opacity: 1;\"><g class=\"fills\"/><g class=\"errorbars\"/><g class=\"lines\"/><g class=\"points\"><path class=\"point\" transform=\"translate(189.47,178.37)\" d=\"M3,0A3,3 0 1,1 0,-3A3,3 0 0,1 3,0Z\" style=\"opacity: 1; stroke-width: 0px; fill: rgb(99, 110, 250); fill-opacity: 1;\"/><path class=\"point\" transform=\"translate(93.93,147.38)\" d=\"M3,0A3,3 0 1,1 0,-3A3,3 0 0,1 3,0Z\" style=\"opacity: 1; stroke-width: 0px; fill: rgb(99, 110, 250); fill-opacity: 1;\"/><path class=\"point\" transform=\"translate(43.77,141.13)\" d=\"M3,0A3,3 0 1,1 0,-3A3,3 0 0,1 3,0Z\" style=\"opacity: 1; stroke-width: 0px; fill: rgb(99, 110, 250); fill-opacity: 1;\"/><path class=\"point\" transform=\"translate(242.01,157.97)\" d=\"M3,0A3,3 0 1,1 0,-3A3,3 0 0,1 3,0Z\" style=\"opacity: 1; stroke-width: 0px; fill: rgb(99, 110, 250); fill-opacity: 1;\"/><path class=\"point\" transform=\"translate(279.04,155.48)\" d=\"M3,0A3,3 0 1,1 0,-3A3,3 0 0,1 3,0Z\" style=\"opacity: 1; stroke-width: 0px; fill: rgb(99, 110, 250); fill-opacity: 1;\"/><path class=\"point\" transform=\"translate(210.96,125.41)\" d=\"M3,0A3,3 0 1,1 0,-3A3,3 0 0,1 3,0Z\" style=\"opacity: 1; stroke-width: 0px; fill: rgb(99, 110, 250); fill-opacity: 1;\"/><path class=\"point\" transform=\"translate(159.61,162.5)\" d=\"M3,0A3,3 0 1,1 0,-3A3,3 0 0,1 3,0Z\" style=\"opacity: 1; stroke-width: 0px; fill: rgb(99, 110, 250); fill-opacity: 1;\"/><path class=\"point\" transform=\"translate(461.75,130.56)\" d=\"M3,0A3,3 0 1,1 0,-3A3,3 0 0,1 3,0Z\" style=\"opacity: 1; stroke-width: 0px; fill: rgb(99, 110, 250); fill-opacity: 1;\"/><path class=\"point\" transform=\"translate(373.38,124.47)\" d=\"M3,0A3,3 0 1,1 0,-3A3,3 0 0,1 3,0Z\" style=\"opacity: 1; stroke-width: 0px; fill: rgb(99, 110, 250); fill-opacity: 1;\"/><path class=\"point\" transform=\"translate(226.49,151.09)\" d=\"M3,0A3,3 0 1,1 0,-3A3,3 0 0,1 3,0Z\" style=\"opacity: 1; stroke-width: 0px; fill: rgb(99, 110, 250); fill-opacity: 1;\"/><path class=\"point\" transform=\"translate(212.16,152.79)\" d=\"M3,0A3,3 0 1,1 0,-3A3,3 0 0,1 3,0Z\" style=\"opacity: 1; stroke-width: 0px; fill: rgb(99, 110, 250); fill-opacity: 1;\"/><path class=\"point\" transform=\"translate(212.16,130.06)\" d=\"M3,0A3,3 0 1,1 0,-3A3,3 0 0,1 3,0Z\" style=\"opacity: 1; stroke-width: 0px; fill: rgb(99, 110, 250); fill-opacity: 1;\"/><path class=\"point\" transform=\"translate(204.99,125.78)\" d=\"M3,0A3,3 0 1,1 0,-3A3,3 0 0,1 3,0Z\" style=\"opacity: 1; stroke-width: 0px; fill: rgb(99, 110, 250); fill-opacity: 1;\"/><path class=\"point\" transform=\"translate(215.74,116.85)\" d=\"M3,0A3,3 0 1,1 0,-3A3,3 0 0,1 3,0Z\" style=\"opacity: 1; stroke-width: 0px; fill: rgb(99, 110, 250); fill-opacity: 1;\"/><path class=\"point\" transform=\"translate(365.02,110.06)\" d=\"M3,0A3,3 0 1,1 0,-3A3,3 0 0,1 3,0Z\" style=\"opacity: 1; stroke-width: 0px; fill: rgb(99, 110, 250); fill-opacity: 1;\"/><path class=\"point\" transform=\"translate(154.84,109.38)\" d=\"M3,0A3,3 0 1,1 0,-3A3,3 0 0,1 3,0Z\" style=\"opacity: 1; stroke-width: 0px; fill: rgb(99, 110, 250); fill-opacity: 1;\"/><path class=\"point\" transform=\"translate(230.07,133.29)\" d=\"M3,0A3,3 0 1,1 0,-3A3,3 0 0,1 3,0Z\" style=\"opacity: 1; stroke-width: 0px; fill: rgb(99, 110, 250); fill-opacity: 1;\"/><path class=\"point\" transform=\"translate(201.41,125.86)\" d=\"M3,0A3,3 0 1,1 0,-3A3,3 0 0,1 3,0Z\" style=\"opacity: 1; stroke-width: 0px; fill: rgb(99, 110, 250); fill-opacity: 1;\"/><path class=\"point\" transform=\"translate(188.27,155.92)\" d=\"M3,0A3,3 0 1,1 0,-3A3,3 0 0,1 3,0Z\" style=\"opacity: 1; stroke-width: 0px; fill: rgb(99, 110, 250); fill-opacity: 1;\"/><path class=\"point\" transform=\"translate(261.12,167.82)\" d=\"M3,0A3,3 0 1,1 0,-3A3,3 0 0,1 3,0Z\" style=\"opacity: 1; stroke-width: 0px; fill: rgb(99, 110, 250); fill-opacity: 1;\"/><path class=\"point\" transform=\"translate(177.53,114.23)\" d=\"M3,0A3,3 0 1,1 0,-3A3,3 0 0,1 3,0Z\" style=\"opacity: 1; stroke-width: 0px; fill: rgb(99, 110, 250); fill-opacity: 1;\"/><path class=\"point\" transform=\"translate(195.44,157.68)\" d=\"M3,0A3,3 0 1,1 0,-3A3,3 0 0,1 3,0Z\" style=\"opacity: 1; stroke-width: 0px; fill: rgb(99, 110, 250); fill-opacity: 1;\"/><path class=\"point\" transform=\"translate(102.29,122.8)\" d=\"M3,0A3,3 0 1,1 0,-3A3,3 0 0,1 3,0Z\" style=\"opacity: 1; stroke-width: 0px; fill: rgb(99, 110, 250); fill-opacity: 1;\"/><path class=\"point\" transform=\"translate(218.13,155.54)\" d=\"M3,0A3,3 0 1,1 0,-3A3,3 0 0,1 3,0Z\" style=\"opacity: 1; stroke-width: 0px; fill: rgb(99, 110, 250); fill-opacity: 1;\"/><path class=\"point\" transform=\"translate(166.78,150.18)\" d=\"M3,0A3,3 0 1,1 0,-3A3,3 0 0,1 3,0Z\" style=\"opacity: 1; stroke-width: 0px; fill: rgb(99, 110, 250); fill-opacity: 1;\"/><path class=\"point\" transform=\"translate(191.86,138.12)\" d=\"M3,0A3,3 0 1,1 0,-3A3,3 0 0,1 3,0Z\" style=\"opacity: 1; stroke-width: 0px; fill: rgb(99, 110, 250); fill-opacity: 1;\"/><path class=\"point\" transform=\"translate(81.99,187.61)\" d=\"M3,0A3,3 0 1,1 0,-3A3,3 0 0,1 3,0Z\" style=\"opacity: 1; stroke-width: 0px; fill: rgb(99, 110, 250); fill-opacity: 1;\"/><path class=\"point\" transform=\"translate(200.22,166.15)\" d=\"M3,0A3,3 0 1,1 0,-3A3,3 0 0,1 3,0Z\" style=\"opacity: 1; stroke-width: 0px; fill: rgb(99, 110, 250); fill-opacity: 1;\"/><path class=\"point\" transform=\"translate(391.29,204.03)\" d=\"M3,0A3,3 0 1,1 0,-3A3,3 0 0,1 3,0Z\" style=\"opacity: 1; stroke-width: 0px; fill: rgb(99, 110, 250); fill-opacity: 1;\"/><path class=\"point\" transform=\"translate(258.73,141.93)\" d=\"M3,0A3,3 0 1,1 0,-3A3,3 0 0,1 3,0Z\" style=\"opacity: 1; stroke-width: 0px; fill: rgb(99, 110, 250); fill-opacity: 1;\"/><path class=\"point\" transform=\"translate(259.93,151.03)\" d=\"M3,0A3,3 0 1,1 0,-3A3,3 0 0,1 3,0Z\" style=\"opacity: 1; stroke-width: 0px; fill: rgb(99, 110, 250); fill-opacity: 1;\"/><path class=\"point\" transform=\"translate(219.32,56.46)\" d=\"M3,0A3,3 0 1,1 0,-3A3,3 0 0,1 3,0Z\" style=\"opacity: 1; stroke-width: 0px; fill: rgb(99, 110, 250); fill-opacity: 1;\"/><path class=\"point\" transform=\"translate(319.64,161.91)\" d=\"M3,0A3,3 0 1,1 0,-3A3,3 0 0,1 3,0Z\" style=\"opacity: 1; stroke-width: 0px; fill: rgb(99, 110, 250); fill-opacity: 1;\"/><path class=\"point\" transform=\"translate(28.25,171.38)\" d=\"M3,0A3,3 0 1,1 0,-3A3,3 0 0,1 3,0Z\" style=\"opacity: 1; stroke-width: 0px; fill: rgb(99, 110, 250); fill-opacity: 1;\"/><path class=\"point\" transform=\"translate(167.97,154.77)\" d=\"M3,0A3,3 0 1,1 0,-3A3,3 0 0,1 3,0Z\" style=\"opacity: 1; stroke-width: 0px; fill: rgb(99, 110, 250); fill-opacity: 1;\"/><path class=\"point\" transform=\"translate(126.18,129.24)\" d=\"M3,0A3,3 0 1,1 0,-3A3,3 0 0,1 3,0Z\" style=\"opacity: 1; stroke-width: 0px; fill: rgb(99, 110, 250); fill-opacity: 1;\"/><path class=\"point\" transform=\"translate(200.22,158.14)\" d=\"M3,0A3,3 0 1,1 0,-3A3,3 0 0,1 3,0Z\" style=\"opacity: 1; stroke-width: 0px; fill: rgb(99, 110, 250); fill-opacity: 1;\"/><path class=\"point\" transform=\"translate(210.96,100.33)\" d=\"M3,0A3,3 0 1,1 0,-3A3,3 0 0,1 3,0Z\" style=\"opacity: 1; stroke-width: 0px; fill: rgb(99, 110, 250); fill-opacity: 1;\"/><path class=\"point\" transform=\"translate(244.4,135.55)\" d=\"M3,0A3,3 0 1,1 0,-3A3,3 0 0,1 3,0Z\" style=\"opacity: 1; stroke-width: 0px; fill: rgb(99, 110, 250); fill-opacity: 1;\"/><path class=\"point\" transform=\"translate(201.41,131.37)\" d=\"M3,0A3,3 0 1,1 0,-3A3,3 0 0,1 3,0Z\" style=\"opacity: 1; stroke-width: 0px; fill: rgb(99, 110, 250); fill-opacity: 1;\"/><path class=\"point\" transform=\"translate(359.05,120.99)\" d=\"M3,0A3,3 0 1,1 0,-3A3,3 0 0,1 3,0Z\" style=\"opacity: 1; stroke-width: 0px; fill: rgb(99, 110, 250); fill-opacity: 1;\"/><path class=\"point\" transform=\"translate(190.66,126.74)\" d=\"M3,0A3,3 0 1,1 0,-3A3,3 0 0,1 3,0Z\" style=\"opacity: 1; stroke-width: 0px; fill: rgb(99, 110, 250); fill-opacity: 1;\"/><path class=\"point\" transform=\"translate(151.25,165.2)\" d=\"M3,0A3,3 0 1,1 0,-3A3,3 0 0,1 3,0Z\" style=\"opacity: 1; stroke-width: 0px; fill: rgb(99, 110, 250); fill-opacity: 1;\"/><path class=\"point\" transform=\"translate(202.61,125.93)\" d=\"M3,0A3,3 0 1,1 0,-3A3,3 0 0,1 3,0Z\" style=\"opacity: 1; stroke-width: 0px; fill: rgb(99, 110, 250); fill-opacity: 1;\"/><path class=\"point\" transform=\"translate(270.68,76.45)\" d=\"M3,0A3,3 0 1,1 0,-3A3,3 0 0,1 3,0Z\" style=\"opacity: 1; stroke-width: 0px; fill: rgb(99, 110, 250); fill-opacity: 1;\"/><path class=\"point\" transform=\"translate(201.41,136.79)\" d=\"M3,0A3,3 0 1,1 0,-3A3,3 0 0,1 3,0Z\" style=\"opacity: 1; stroke-width: 0px; fill: rgb(99, 110, 250); fill-opacity: 1;\"/><path class=\"point\" transform=\"translate(220.52,167.98)\" d=\"M3,0A3,3 0 1,1 0,-3A3,3 0 0,1 3,0Z\" style=\"opacity: 1; stroke-width: 0px; fill: rgb(99, 110, 250); fill-opacity: 1;\"/><path class=\"point\" transform=\"translate(199.02,117.79)\" d=\"M3,0A3,3 0 1,1 0,-3A3,3 0 0,1 3,0Z\" style=\"opacity: 1; stroke-width: 0px; fill: rgb(99, 110, 250); fill-opacity: 1;\"/><path class=\"point\" transform=\"translate(64.08,205.95)\" d=\"M3,0A3,3 0 1,1 0,-3A3,3 0 0,1 3,0Z\" style=\"opacity: 1; stroke-width: 0px; fill: rgb(99, 110, 250); fill-opacity: 1;\"/><path class=\"point\" transform=\"translate(218.13,155.24)\" d=\"M3,0A3,3 0 1,1 0,-3A3,3 0 0,1 3,0Z\" style=\"opacity: 1; stroke-width: 0px; fill: rgb(99, 110, 250); fill-opacity: 1;\"/><path class=\"point\" transform=\"translate(86.77,141.78)\" d=\"M3,0A3,3 0 1,1 0,-3A3,3 0 0,1 3,0Z\" style=\"opacity: 1; stroke-width: 0px; fill: rgb(99, 110, 250); fill-opacity: 1;\"/><path class=\"point\" transform=\"translate(158.42,133.59)\" d=\"M3,0A3,3 0 1,1 0,-3A3,3 0 0,1 3,0Z\" style=\"opacity: 1; stroke-width: 0px; fill: rgb(99, 110, 250); fill-opacity: 1;\"/><path class=\"point\" transform=\"translate(84.38,243.25)\" d=\"M3,0A3,3 0 1,1 0,-3A3,3 0 0,1 3,0Z\" style=\"opacity: 1; stroke-width: 0px; fill: rgb(99, 110, 250); fill-opacity: 1;\"/><path class=\"point\" transform=\"translate(201.41,125.62)\" d=\"M3,0A3,3 0 1,1 0,-3A3,3 0 0,1 3,0Z\" style=\"opacity: 1; stroke-width: 0px; fill: rgb(99, 110, 250); fill-opacity: 1;\"/><path class=\"point\" transform=\"translate(270.68,16.75)\" d=\"M3,0A3,3 0 1,1 0,-3A3,3 0 0,1 3,0Z\" style=\"opacity: 1; stroke-width: 0px; fill: rgb(99, 110, 250); fill-opacity: 1;\"/><path class=\"point\" transform=\"translate(98.71,157.71)\" d=\"M3,0A3,3 0 1,1 0,-3A3,3 0 0,1 3,0Z\" style=\"opacity: 1; stroke-width: 0px; fill: rgb(99, 110, 250); fill-opacity: 1;\"/><path class=\"point\" transform=\"translate(141.7,127.33)\" d=\"M3,0A3,3 0 1,1 0,-3A3,3 0 0,1 3,0Z\" style=\"opacity: 1; stroke-width: 0px; fill: rgb(99, 110, 250); fill-opacity: 1;\"/><path class=\"point\" transform=\"translate(332.77,156.53)\" d=\"M3,0A3,3 0 1,1 0,-3A3,3 0 0,1 3,0Z\" style=\"opacity: 1; stroke-width: 0px; fill: rgb(99, 110, 250); fill-opacity: 1;\"/><path class=\"point\" transform=\"translate(219.32,102.85)\" d=\"M3,0A3,3 0 1,1 0,-3A3,3 0 0,1 3,0Z\" style=\"opacity: 1; stroke-width: 0px; fill: rgb(99, 110, 250); fill-opacity: 1;\"/><path class=\"point\" transform=\"translate(178.72,134.19)\" d=\"M3,0A3,3 0 1,1 0,-3A3,3 0 0,1 3,0Z\" style=\"opacity: 1; stroke-width: 0px; fill: rgb(99, 110, 250); fill-opacity: 1;\"/><path class=\"point\" transform=\"translate(176.33,139.69)\" d=\"M3,0A3,3 0 1,1 0,-3A3,3 0 0,1 3,0Z\" style=\"opacity: 1; stroke-width: 0px; fill: rgb(99, 110, 250); fill-opacity: 1;\"/><path class=\"point\" transform=\"translate(207.38,149.82)\" d=\"M3,0A3,3 0 1,1 0,-3A3,3 0 0,1 3,0Z\" style=\"opacity: 1; stroke-width: 0px; fill: rgb(99, 110, 250); fill-opacity: 1;\"/><path class=\"point\" transform=\"translate(208.58,156.37)\" d=\"M3,0A3,3 0 1,1 0,-3A3,3 0 0,1 3,0Z\" style=\"opacity: 1; stroke-width: 0px; fill: rgb(99, 110, 250); fill-opacity: 1;\"/><path class=\"point\" transform=\"translate(103.49,161.08)\" d=\"M3,0A3,3 0 1,1 0,-3A3,3 0 0,1 3,0Z\" style=\"opacity: 1; stroke-width: 0px; fill: rgb(99, 110, 250); fill-opacity: 1;\"/><path class=\"point\" transform=\"translate(167.97,169.84)\" d=\"M3,0A3,3 0 1,1 0,-3A3,3 0 0,1 3,0Z\" style=\"opacity: 1; stroke-width: 0px; fill: rgb(99, 110, 250); fill-opacity: 1;\"/><path class=\"point\" transform=\"translate(109.46,148.24)\" d=\"M3,0A3,3 0 1,1 0,-3A3,3 0 0,1 3,0Z\" style=\"opacity: 1; stroke-width: 0px; fill: rgb(99, 110, 250); fill-opacity: 1;\"/><path class=\"point\" transform=\"translate(31.83,180.25)\" d=\"M3,0A3,3 0 1,1 0,-3A3,3 0 0,1 3,0Z\" style=\"opacity: 1; stroke-width: 0px; fill: rgb(99, 110, 250); fill-opacity: 1;\"/><path class=\"point\" transform=\"translate(188.27,149.49)\" d=\"M3,0A3,3 0 1,1 0,-3A3,3 0 0,1 3,0Z\" style=\"opacity: 1; stroke-width: 0px; fill: rgb(99, 110, 250); fill-opacity: 1;\"/><path class=\"point\" transform=\"translate(163.2,163.7)\" d=\"M3,0A3,3 0 1,1 0,-3A3,3 0 0,1 3,0Z\" style=\"opacity: 1; stroke-width: 0px; fill: rgb(99, 110, 250); fill-opacity: 1;\"/><path class=\"point\" transform=\"translate(176.33,135.43)\" d=\"M3,0A3,3 0 1,1 0,-3A3,3 0 0,1 3,0Z\" style=\"opacity: 1; stroke-width: 0px; fill: rgb(99, 110, 250); fill-opacity: 1;\"/><path class=\"point\" transform=\"translate(225.3,79.51)\" d=\"M3,0A3,3 0 1,1 0,-3A3,3 0 0,1 3,0Z\" style=\"opacity: 1; stroke-width: 0px; fill: rgb(99, 110, 250); fill-opacity: 1;\"/><path class=\"point\" transform=\"translate(194.25,137.84)\" d=\"M3,0A3,3 0 1,1 0,-3A3,3 0 0,1 3,0Z\" style=\"opacity: 1; stroke-width: 0px; fill: rgb(99, 110, 250); fill-opacity: 1;\"/><path class=\"point\" transform=\"translate(67.66,132.06)\" d=\"M3,0A3,3 0 1,1 0,-3A3,3 0 0,1 3,0Z\" style=\"opacity: 1; stroke-width: 0px; fill: rgb(99, 110, 250); fill-opacity: 1;\"/><path class=\"point\" transform=\"translate(193.05,144.09)\" d=\"M3,0A3,3 0 1,1 0,-3A3,3 0 0,1 3,0Z\" style=\"opacity: 1; stroke-width: 0px; fill: rgb(99, 110, 250); fill-opacity: 1;\"/><path class=\"point\" transform=\"translate(335.16,160.05)\" d=\"M3,0A3,3 0 1,1 0,-3A3,3 0 0,1 3,0Z\" style=\"opacity: 1; stroke-width: 0px; fill: rgb(99, 110, 250); fill-opacity: 1;\"/><path class=\"point\" transform=\"translate(121.4,232.49)\" d=\"M3,0A3,3 0 1,1 0,-3A3,3 0 0,1 3,0Z\" style=\"opacity: 1; stroke-width: 0px; fill: rgb(99, 110, 250); fill-opacity: 1;\"/><path class=\"point\" transform=\"translate(169.17,162.75)\" d=\"M3,0A3,3 0 1,1 0,-3A3,3 0 0,1 3,0Z\" style=\"opacity: 1; stroke-width: 0px; fill: rgb(99, 110, 250); fill-opacity: 1;\"/><path class=\"point\" transform=\"translate(318.44,107.9)\" d=\"M3,0A3,3 0 1,1 0,-3A3,3 0 0,1 3,0Z\" style=\"opacity: 1; stroke-width: 0px; fill: rgb(99, 110, 250); fill-opacity: 1;\"/><path class=\"point\" transform=\"translate(170.36,95.93)\" d=\"M3,0A3,3 0 1,1 0,-3A3,3 0 0,1 3,0Z\" style=\"opacity: 1; stroke-width: 0px; fill: rgb(99, 110, 250); fill-opacity: 1;\"/><path class=\"point\" transform=\"translate(77.21,146.94)\" d=\"M3,0A3,3 0 1,1 0,-3A3,3 0 0,1 3,0Z\" style=\"opacity: 1; stroke-width: 0px; fill: rgb(99, 110, 250); fill-opacity: 1;\"/><path class=\"point\" transform=\"translate(218.13,122.02)\" d=\"M3,0A3,3 0 1,1 0,-3A3,3 0 0,1 3,0Z\" style=\"opacity: 1; stroke-width: 0px; fill: rgb(99, 110, 250); fill-opacity: 1;\"/><path class=\"point\" transform=\"translate(257.54,112.19)\" d=\"M3,0A3,3 0 1,1 0,-3A3,3 0 0,1 3,0Z\" style=\"opacity: 1; stroke-width: 0px; fill: rgb(99, 110, 250); fill-opacity: 1;\"/><path class=\"point\" transform=\"translate(203.8,105.65)\" d=\"M3,0A3,3 0 1,1 0,-3A3,3 0 0,1 3,0Z\" style=\"opacity: 1; stroke-width: 0px; fill: rgb(99, 110, 250); fill-opacity: 1;\"/><path class=\"point\" transform=\"translate(226.49,109.08)\" d=\"M3,0A3,3 0 1,1 0,-3A3,3 0 0,1 3,0Z\" style=\"opacity: 1; stroke-width: 0px; fill: rgb(99, 110, 250); fill-opacity: 1;\"/><path class=\"point\" transform=\"translate(193.05,148.72)\" d=\"M3,0A3,3 0 1,1 0,-3A3,3 0 0,1 3,0Z\" style=\"opacity: 1; stroke-width: 0px; fill: rgb(99, 110, 250); fill-opacity: 1;\"/><path class=\"point\" transform=\"translate(226.49,96.73)\" d=\"M3,0A3,3 0 1,1 0,-3A3,3 0 0,1 3,0Z\" style=\"opacity: 1; stroke-width: 0px; fill: rgb(99, 110, 250); fill-opacity: 1;\"/><path class=\"point\" transform=\"translate(157.23,136.36)\" d=\"M3,0A3,3 0 1,1 0,-3A3,3 0 0,1 3,0Z\" style=\"opacity: 1; stroke-width: 0px; fill: rgb(99, 110, 250); fill-opacity: 1;\"/><path class=\"point\" transform=\"translate(313.67,123.27)\" d=\"M3,0A3,3 0 1,1 0,-3A3,3 0 0,1 3,0Z\" style=\"opacity: 1; stroke-width: 0px; fill: rgb(99, 110, 250); fill-opacity: 1;\"/><path class=\"point\" transform=\"translate(114.23,184.29)\" d=\"M3,0A3,3 0 1,1 0,-3A3,3 0 0,1 3,0Z\" style=\"opacity: 1; stroke-width: 0px; fill: rgb(99, 110, 250); fill-opacity: 1;\"/><path class=\"point\" transform=\"translate(384.13,72.56)\" d=\"M3,0A3,3 0 1,1 0,-3A3,3 0 0,1 3,0Z\" style=\"opacity: 1; stroke-width: 0px; fill: rgb(99, 110, 250); fill-opacity: 1;\"/><path class=\"point\" transform=\"translate(195.44,136.63)\" d=\"M3,0A3,3 0 1,1 0,-3A3,3 0 0,1 3,0Z\" style=\"opacity: 1; stroke-width: 0px; fill: rgb(99, 110, 250); fill-opacity: 1;\"/><path class=\"point\" transform=\"translate(233.65,117.03)\" d=\"M3,0A3,3 0 1,1 0,-3A3,3 0 0,1 3,0Z\" style=\"opacity: 1; stroke-width: 0px; fill: rgb(99, 110, 250); fill-opacity: 1;\"/><path class=\"point\" transform=\"translate(120.2,154.87)\" d=\"M3,0A3,3 0 1,1 0,-3A3,3 0 0,1 3,0Z\" style=\"opacity: 1; stroke-width: 0px; fill: rgb(99, 110, 250); fill-opacity: 1;\"/><path class=\"point\" transform=\"translate(312.47,112.28)\" d=\"M3,0A3,3 0 1,1 0,-3A3,3 0 0,1 3,0Z\" style=\"opacity: 1; stroke-width: 0px; fill: rgb(99, 110, 250); fill-opacity: 1;\"/><path class=\"point\" transform=\"translate(113.04,160.44)\" d=\"M3,0A3,3 0 1,1 0,-3A3,3 0 0,1 3,0Z\" style=\"opacity: 1; stroke-width: 0px; fill: rgb(99, 110, 250); fill-opacity: 1;\"/><path class=\"point\" transform=\"translate(324.42,133.86)\" d=\"M3,0A3,3 0 1,1 0,-3A3,3 0 0,1 3,0Z\" style=\"opacity: 1; stroke-width: 0px; fill: rgb(99, 110, 250); fill-opacity: 1;\"/><path class=\"point\" transform=\"translate(202.61,125.89)\" d=\"M3,0A3,3 0 1,1 0,-3A3,3 0 0,1 3,0Z\" style=\"opacity: 1; stroke-width: 0px; fill: rgb(99, 110, 250); fill-opacity: 1;\"/></g><g class=\"text\"/></g></g></g><g class=\"overplot\"/><path class=\"xlines-above crisp\" d=\"M0,0\" style=\"fill: none;\"/><path class=\"ylines-above crisp\" d=\"M0,0\" style=\"fill: none;\"/><g class=\"overlines-above\"/><g class=\"xaxislayer-above\"><g class=\"xtick\"><text text-anchor=\"middle\" x=\"0\" y=\"333\" transform=\"translate(141.69,0)\" style=\"font-family: 'Open Sans', verdana, arial, sans-serif; font-size: 12px; fill: rgb(42, 63, 95); fill-opacity: 1; white-space: pre; opacity: 1;\">10</text></g><g class=\"xtick\"><text text-anchor=\"middle\" x=\"0\" y=\"333\" style=\"font-family: 'Open Sans', verdana, arial, sans-serif; font-size: 12px; fill: rgb(42, 63, 95); fill-opacity: 1; white-space: pre; opacity: 1;\" transform=\"translate(261.11,0)\">20</text></g><g class=\"xtick\"><text text-anchor=\"middle\" x=\"0\" y=\"333\" style=\"font-family: 'Open Sans', verdana, arial, sans-serif; font-size: 12px; fill: rgb(42, 63, 95); fill-opacity: 1; white-space: pre; opacity: 1;\" transform=\"translate(380.53,0)\">30</text></g><g class=\"xtick\"><text text-anchor=\"middle\" x=\"0\" y=\"333\" style=\"font-family: 'Open Sans', verdana, arial, sans-serif; font-size: 12px; fill: rgb(42, 63, 95); fill-opacity: 1; white-space: pre; opacity: 1;\" transform=\"translate(499.95,0)\">40</text></g></g><g class=\"yaxislayer-above\"><g class=\"ytick\"><text text-anchor=\"end\" x=\"79\" y=\"4.199999999999999\" transform=\"translate(0,313.14)\" style=\"font-family: 'Open Sans', verdana, arial, sans-serif; font-size: 12px; fill: rgb(42, 63, 95); fill-opacity: 1; white-space: pre; opacity: 1;\">−10</text></g><g class=\"ytick\"><text text-anchor=\"end\" x=\"79\" y=\"4.199999999999999\" style=\"font-family: 'Open Sans', verdana, arial, sans-serif; font-size: 12px; fill: rgb(42, 63, 95); fill-opacity: 1; white-space: pre; opacity: 1;\" transform=\"translate(0,258.45)\">−5</text></g><g class=\"ytick\"><text text-anchor=\"end\" x=\"79\" y=\"4.199999999999999\" style=\"font-family: 'Open Sans', verdana, arial, sans-serif; font-size: 12px; fill: rgb(42, 63, 95); fill-opacity: 1; white-space: pre; opacity: 1;\" transform=\"translate(0,203.76)\">0</text></g><g class=\"ytick\"><text text-anchor=\"end\" x=\"79\" y=\"4.199999999999999\" style=\"font-family: 'Open Sans', verdana, arial, sans-serif; font-size: 12px; fill: rgb(42, 63, 95); fill-opacity: 1; white-space: pre; opacity: 1;\" transform=\"translate(0,149.07)\">5</text></g><g class=\"ytick\"><text text-anchor=\"end\" x=\"79\" y=\"4.199999999999999\" style=\"font-family: 'Open Sans', verdana, arial, sans-serif; font-size: 12px; fill: rgb(42, 63, 95); fill-opacity: 1; white-space: pre; opacity: 1;\" transform=\"translate(0,94.38)\">10</text></g></g><g class=\"overaxes-above\"/></g></g><g class=\"polarlayer\"/><g class=\"smithlayer\"/><g class=\"ternarylayer\"/><g class=\"geolayer\"/><g class=\"funnelarealayer\"/><g class=\"pielayer\"/><g class=\"iciclelayer\"/><g class=\"treemaplayer\"/><g class=\"sunburstlayer\"/><g class=\"glimages\"/><defs id=\"topdefs-6a9a84\"><g class=\"clips\"/></defs><g class=\"layer-above\"><g class=\"imagelayer\"/><g class=\"shapelayer\"><path data-index=\"0\" fill-rule=\"evenodd\" d=\"M80,203.76L570,203.76\" clip-path=\"url(#clip6a9a84y)\" style=\"opacity: 1; stroke: rgb(0, 0, 0); stroke-opacity: 1; fill: rgb(0, 0, 0); fill-opacity: 0; stroke-width: 2px;\"/></g></g><g class=\"infolayer\"><g class=\"g-gtitle\"><text class=\"gtitle\" x=\"32.5\" y=\"30\" text-anchor=\"start\" dy=\"0em\" style=\"font-family: 'Arial Black'; font-size: 20px; fill: rgb(42, 63, 95); opacity: 1; font-weight: normal; white-space: pre;\">Residual Plot</text></g><g class=\"g-xtitle\"><text class=\"xtitle\" x=\"325\" y=\"360.8\" text-anchor=\"middle\" style=\"font-family: 'Open Sans', verdana, arial, sans-serif; font-size: 14px; fill: rgb(42, 63, 95); opacity: 1; font-weight: normal; white-space: pre;\">Residuals</text></g><g class=\"g-ytitle\"><text class=\"ytitle\" transform=\"rotate(-90,29.121875000000003,190)\" x=\"29.121875000000003\" y=\"190\" text-anchor=\"middle\" style=\"font-family: 'Open Sans', verdana, arial, sans-serif; font-size: 14px; fill: rgb(42, 63, 95); opacity: 1; font-weight: normal; white-space: pre;\">Actual</text></g></g></svg>"
      ]
     },
     "metadata": {},
     "output_type": "display_data"
    }
   ],
   "source": [
    "# Calculating residuals. \n",
    "residuals = holdoutLabels - yhat\n",
    "\n",
    "plot_functions.residual_plot(xaxis=holdoutLabels, yaxis=residuals)"
   ]
  },
  {
   "cell_type": "markdown",
   "id": "8a018f37",
   "metadata": {},
   "source": [
    "* Generally we want most of our points to be as close to the zero line as possible. So far the majority of our points are clustered around the line, with a few points drifting at the 10 points apart.\n",
    "* Another way to check if our points are close to the line is by plotting the distribution."
   ]
  },
  {
   "cell_type": "markdown",
   "id": "da8b18bd",
   "metadata": {},
   "source": [
    "**C.2: Distribution of Errors**<br>\n",
    "The next step is to check the distribution of our residuals."
   ]
  },
  {
   "cell_type": "code",
   "execution_count": 15,
   "id": "aebd1bc0",
   "metadata": {},
   "outputs": [
    {
     "data": {
      "image/svg+xml": [
       "<svg class=\"main-svg\" xmlns=\"http://www.w3.org/2000/svg\" xmlns:xlink=\"http://www.w3.org/1999/xlink\" width=\"650\" height=\"400\" style=\"\" viewBox=\"0 0 650 400\"><rect x=\"0\" y=\"0\" width=\"650\" height=\"400\" style=\"fill: rgb(255, 255, 255); fill-opacity: 1;\"/><defs id=\"defs-fbdaec\"><g class=\"clips\"><clipPath id=\"clipfbdaecxyplot\" class=\"plotclip\"><rect width=\"490\" height=\"260\"/></clipPath><clipPath class=\"axesclip\" id=\"clipfbdaecx\"><rect x=\"80\" y=\"0\" width=\"490\" height=\"400\"/></clipPath><clipPath class=\"axesclip\" id=\"clipfbdaecy\"><rect x=\"0\" y=\"60\" width=\"650\" height=\"260\"/></clipPath><clipPath class=\"axesclip\" id=\"clipfbdaecxy\"><rect x=\"80\" y=\"60\" width=\"490\" height=\"260\"/></clipPath></g><g class=\"gradients\"/><g class=\"patterns\"/></defs><g class=\"bglayer\"><rect class=\"bg\" x=\"80\" y=\"60\" width=\"490\" height=\"260\" style=\"fill: rgb(248, 248, 246); fill-opacity: 1; stroke-width: 0;\"/></g><g class=\"layer-below\"><g class=\"imagelayer\"/><g class=\"shapelayer\"/></g><g class=\"cartesianlayer\"><g class=\"subplot xy\"><g class=\"layer-subplot\"><g class=\"shapelayer\"/><g class=\"imagelayer\"/></g><g class=\"minor-gridlayer\"><g class=\"x\"/><g class=\"y\"/></g><g class=\"gridlayer\"><g class=\"x\"/><g class=\"y\"><path class=\"ygrid crisp\" transform=\"translate(0,258.25)\" d=\"M80,0h490\" style=\"stroke: rgb(255, 255, 255); stroke-opacity: 1; stroke-width: 1px;\"/><path class=\"ygrid crisp\" transform=\"translate(0,196.5)\" d=\"M80,0h490\" style=\"stroke: rgb(255, 255, 255); stroke-opacity: 1; stroke-width: 1px;\"/><path class=\"ygrid crisp\" transform=\"translate(0,134.75)\" d=\"M80,0h490\" style=\"stroke: rgb(255, 255, 255); stroke-opacity: 1; stroke-width: 1px;\"/><path class=\"ygrid crisp\" transform=\"translate(0,73)\" d=\"M80,0h490\" style=\"stroke: rgb(255, 255, 255); stroke-opacity: 1; stroke-width: 1px;\"/></g></g><g class=\"zerolinelayer\"><path class=\"yzl zl crisp\" transform=\"translate(0,320)\" d=\"M80,0h490\" style=\"stroke: rgb(255, 255, 255); stroke-opacity: 1; stroke-width: 2px;\"/></g><path class=\"xlines-below\"/><path class=\"ylines-below\"/><g class=\"overlines-below\"/><g class=\"xaxislayer-below\"/><g class=\"yaxislayer-below\"/><g class=\"overaxes-below\"/><g class=\"plot\" transform=\"translate(80,60)\" clip-path=\"url(#clipfbdaecxyplot)\"><g class=\"barlayer mlayer\"><g class=\"trace bars\" shape-rendering=\"crispEdges\" style=\"opacity: 1;\"><g class=\"points\"><g class=\"point\"><path d=\"M0,260V247.65H22.27V260Z\" style=\"vector-effect: non-scaling-stroke; opacity: 1; stroke-width: 0px; fill: rgb(99, 110, 250); fill-opacity: 1;\"/></g><g class=\"point\"><path d=\"M22.27,260V247.65H44.55V260Z\" style=\"vector-effect: non-scaling-stroke; opacity: 1; stroke-width: 0px; fill: rgb(99, 110, 250); fill-opacity: 1;\"/></g><g class=\"point\"><path d=\"M0,0Z\" style=\"vector-effect: non-scaling-stroke; opacity: 1; stroke-width: 0px; fill: rgb(99, 110, 250); fill-opacity: 1;\"/></g><g class=\"point\"><path d=\"M0,0Z\" style=\"vector-effect: non-scaling-stroke; opacity: 1; stroke-width: 0px; fill: rgb(99, 110, 250); fill-opacity: 1;\"/></g><g class=\"point\"><path d=\"M89.09,260V235.3H111.36V260Z\" style=\"vector-effect: non-scaling-stroke; opacity: 1; stroke-width: 0px; fill: rgb(99, 110, 250); fill-opacity: 1;\"/></g><g class=\"point\"><path d=\"M111.36,260V247.65H133.64V260Z\" style=\"vector-effect: non-scaling-stroke; opacity: 1; stroke-width: 0px; fill: rgb(99, 110, 250); fill-opacity: 1;\"/></g><g class=\"point\"><path d=\"M133.64,260V222.95H155.91V260Z\" style=\"vector-effect: non-scaling-stroke; opacity: 1; stroke-width: 0px; fill: rgb(99, 110, 250); fill-opacity: 1;\"/></g><g class=\"point\"><path d=\"M155.91,260V198.25H178.18V260Z\" style=\"vector-effect: non-scaling-stroke; opacity: 1; stroke-width: 0px; fill: rgb(99, 110, 250); fill-opacity: 1;\"/></g><g class=\"point\"><path d=\"M178.18,260V13H200.45V260Z\" style=\"vector-effect: non-scaling-stroke; opacity: 1; stroke-width: 0px; fill: rgb(99, 110, 250); fill-opacity: 1;\"/></g><g class=\"point\"><path d=\"M200.45,260V124.15H222.73V260Z\" style=\"vector-effect: non-scaling-stroke; opacity: 1; stroke-width: 0px; fill: rgb(99, 110, 250); fill-opacity: 1;\"/></g><g class=\"point\"><path d=\"M222.73,260V74.75H245V260Z\" style=\"vector-effect: non-scaling-stroke; opacity: 1; stroke-width: 0px; fill: rgb(99, 110, 250); fill-opacity: 1;\"/></g><g class=\"point\"><path d=\"M245,260V50.05H267.27V260Z\" style=\"vector-effect: non-scaling-stroke; opacity: 1; stroke-width: 0px; fill: rgb(99, 110, 250); fill-opacity: 1;\"/></g><g class=\"point\"><path d=\"M267.27,260V173.55H289.55V260Z\" style=\"vector-effect: non-scaling-stroke; opacity: 1; stroke-width: 0px; fill: rgb(99, 110, 250); fill-opacity: 1;\"/></g><g class=\"point\"><path d=\"M289.55,260V173.55H311.82V260Z\" style=\"vector-effect: non-scaling-stroke; opacity: 1; stroke-width: 0px; fill: rgb(99, 110, 250); fill-opacity: 1;\"/></g><g class=\"point\"><path d=\"M311.82,260V235.3H334.09V260Z\" style=\"vector-effect: non-scaling-stroke; opacity: 1; stroke-width: 0px; fill: rgb(99, 110, 250); fill-opacity: 1;\"/></g><g class=\"point\"><path d=\"M334.09,260V247.65H356.36V260Z\" style=\"vector-effect: non-scaling-stroke; opacity: 1; stroke-width: 0px; fill: rgb(99, 110, 250); fill-opacity: 1;\"/></g><g class=\"point\"><path d=\"M356.36,260V235.3H378.64V260Z\" style=\"vector-effect: non-scaling-stroke; opacity: 1; stroke-width: 0px; fill: rgb(99, 110, 250); fill-opacity: 1;\"/></g><g class=\"point\"><path d=\"M378.64,260V247.65H400.91V260Z\" style=\"vector-effect: non-scaling-stroke; opacity: 1; stroke-width: 0px; fill: rgb(99, 110, 250); fill-opacity: 1;\"/></g><g class=\"point\"><path d=\"M0,0Z\" style=\"vector-effect: non-scaling-stroke; opacity: 1; stroke-width: 0px; fill: rgb(99, 110, 250); fill-opacity: 1;\"/></g><g class=\"point\"><path d=\"M0,0Z\" style=\"vector-effect: non-scaling-stroke; opacity: 1; stroke-width: 0px; fill: rgb(99, 110, 250); fill-opacity: 1;\"/></g><g class=\"point\"><path d=\"M0,0Z\" style=\"vector-effect: non-scaling-stroke; opacity: 1; stroke-width: 0px; fill: rgb(99, 110, 250); fill-opacity: 1;\"/></g><g class=\"point\"><path d=\"M467.73,260V247.65H490V260Z\" style=\"vector-effect: non-scaling-stroke; opacity: 1; stroke-width: 0px; fill: rgb(99, 110, 250); fill-opacity: 1;\"/></g></g></g></g></g><g class=\"overplot\"/><path class=\"xlines-above crisp\" d=\"M0,0\" style=\"fill: none;\"/><path class=\"ylines-above crisp\" d=\"M0,0\" style=\"fill: none;\"/><g class=\"overlines-above\"/><g class=\"xaxislayer-above\"><g class=\"xtick\"><text text-anchor=\"middle\" x=\"0\" y=\"333\" transform=\"translate(80,0)\" style=\"font-family: 'Open Sans', verdana, arial, sans-serif; font-size: 12px; fill: rgb(42, 63, 95); fill-opacity: 1; white-space: pre; opacity: 1;\">−10</text></g><g class=\"xtick\"><text text-anchor=\"middle\" x=\"0\" y=\"333\" style=\"font-family: 'Open Sans', verdana, arial, sans-serif; font-size: 12px; fill: rgb(42, 63, 95); fill-opacity: 1; white-space: pre; opacity: 1;\" transform=\"translate(191.36,0)\">−5</text></g><g class=\"xtick\"><text text-anchor=\"middle\" x=\"0\" y=\"333\" style=\"font-family: 'Open Sans', verdana, arial, sans-serif; font-size: 12px; fill: rgb(42, 63, 95); fill-opacity: 1; white-space: pre; opacity: 1;\" transform=\"translate(302.73,0)\">0</text></g><g class=\"xtick\"><text text-anchor=\"middle\" x=\"0\" y=\"333\" style=\"font-family: 'Open Sans', verdana, arial, sans-serif; font-size: 12px; fill: rgb(42, 63, 95); fill-opacity: 1; white-space: pre; opacity: 1;\" transform=\"translate(414.09,0)\">5</text></g><g class=\"xtick\"><text text-anchor=\"middle\" x=\"0\" y=\"333\" style=\"font-family: 'Open Sans', verdana, arial, sans-serif; font-size: 12px; fill: rgb(42, 63, 95); fill-opacity: 1; white-space: pre; opacity: 1;\" transform=\"translate(525.45,0)\">10</text></g></g><g class=\"yaxislayer-above\"><g class=\"ytick\"><text text-anchor=\"end\" x=\"79\" y=\"4.199999999999999\" transform=\"translate(0,320)\" style=\"font-family: 'Open Sans', verdana, arial, sans-serif; font-size: 12px; fill: rgb(42, 63, 95); fill-opacity: 1; white-space: pre; opacity: 1;\">0</text></g><g class=\"ytick\"><text text-anchor=\"end\" x=\"79\" y=\"4.199999999999999\" style=\"font-family: 'Open Sans', verdana, arial, sans-serif; font-size: 12px; fill: rgb(42, 63, 95); fill-opacity: 1; white-space: pre; opacity: 1;\" transform=\"translate(0,258.25)\">5</text></g><g class=\"ytick\"><text text-anchor=\"end\" x=\"79\" y=\"4.199999999999999\" style=\"font-family: 'Open Sans', verdana, arial, sans-serif; font-size: 12px; fill: rgb(42, 63, 95); fill-opacity: 1; white-space: pre; opacity: 1;\" transform=\"translate(0,196.5)\">10</text></g><g class=\"ytick\"><text text-anchor=\"end\" x=\"79\" y=\"4.199999999999999\" style=\"font-family: 'Open Sans', verdana, arial, sans-serif; font-size: 12px; fill: rgb(42, 63, 95); fill-opacity: 1; white-space: pre; opacity: 1;\" transform=\"translate(0,134.75)\">15</text></g><g class=\"ytick\"><text text-anchor=\"end\" x=\"79\" y=\"4.199999999999999\" style=\"font-family: 'Open Sans', verdana, arial, sans-serif; font-size: 12px; fill: rgb(42, 63, 95); fill-opacity: 1; white-space: pre; opacity: 1;\" transform=\"translate(0,73)\">20</text></g></g><g class=\"overaxes-above\"/></g></g><g class=\"polarlayer\"/><g class=\"smithlayer\"/><g class=\"ternarylayer\"/><g class=\"geolayer\"/><g class=\"funnelarealayer\"/><g class=\"pielayer\"/><g class=\"iciclelayer\"/><g class=\"treemaplayer\"/><g class=\"sunburstlayer\"/><g class=\"glimages\"/><defs id=\"topdefs-fbdaec\"><g class=\"clips\"/></defs><g class=\"layer-above\"><g class=\"imagelayer\"/><g class=\"shapelayer\"/></g><g class=\"infolayer\"><g class=\"g-gtitle\"><text class=\"gtitle\" x=\"32.5\" y=\"30\" text-anchor=\"start\" dy=\"0em\" style=\"font-family: 'Arial Black'; font-size: 20px; fill: rgb(42, 63, 95); opacity: 1; font-weight: normal; white-space: pre;\">Distribution of Resiudal Error</text></g><g class=\"g-xtitle\"><text class=\"xtitle\" x=\"325\" y=\"360.8\" text-anchor=\"middle\" style=\"font-family: 'Open Sans', verdana, arial, sans-serif; font-size: 14px; fill: rgb(42, 63, 95); opacity: 1; font-weight: normal; white-space: pre;\">Residuals</text></g><g class=\"g-ytitle\"><text class=\"ytitle\" transform=\"rotate(-90,38.934375,190)\" x=\"38.934375\" y=\"190\" text-anchor=\"middle\" style=\"font-family: 'Open Sans', verdana, arial, sans-serif; font-size: 14px; fill: rgb(42, 63, 95); opacity: 1; font-weight: normal; white-space: pre;\">count</text></g></g></svg>"
      ]
     },
     "metadata": {},
     "output_type": "display_data"
    }
   ],
   "source": [
    "plot_functions.distribution(xaxis=residuals)"
   ]
  },
  {
   "cell_type": "markdown",
   "id": "3e277ee3",
   "metadata": {},
   "source": [
    "* As you can see our residuals show a normal distribution which means most of the data is concerntrated around the mean of 0, which is exactly what we want."
   ]
  },
  {
   "cell_type": "markdown",
   "id": "198250bb",
   "metadata": {},
   "source": [
    "**C.3: R2**<br>\n",
    "R2 is a goodness-of-fit measure for regression models. This statistic indicates the % of the variance in the dependant variable that the independant variables explain collectively. It is measured on a scale from 0-100%."
   ]
  },
  {
   "cell_type": "code",
   "execution_count": 16,
   "id": "ef2b4c50",
   "metadata": {},
   "outputs": [
    {
     "name": "stdout",
     "output_type": "stream",
     "text": [
      "An R2 of 81.05% tells us that 81.05% of the variability observed in the target variable is explained by our model.\n"
     ]
    }
   ],
   "source": [
    "r2 = r2_score(holdoutLabels, yhat)\n",
    "\n",
    "print(\"An R2 of %.2f%% tells us that %.2f%% of the variability observed in the target variable is explained by our model.\" % (r2*100, r2*100))"
   ]
  },
  {
   "cell_type": "markdown",
   "id": "f7522da9",
   "metadata": {},
   "source": [
    "**C.4: Mean Absolute Error**<br>\n",
    "The MAE is basically on average the errors our algorithm will make when conducting predictions. It's always good to calculate the MAE as unlike MSE, the MAE is in the same scale as the dataset, so it's easier to make comparisons when using mean absolute error. "
   ]
  },
  {
   "cell_type": "code",
   "execution_count": 17,
   "id": "45f33878",
   "metadata": {},
   "outputs": [
    {
     "name": "stdout",
     "output_type": "stream",
     "text": [
      "The mean absolute score of our XGB Regressor is: 2.17 and the mean of our target variable is: 22.53\n"
     ]
    }
   ],
   "source": [
    "mae = abs(mean_absolute_error(holdoutLabels, yhat)) # Calculating mean absloute error. \n",
    "\n",
    "# Importing the full data. \n",
    "fullDF = pd.read_csv(r\"{}\\boston_housing.csv\".format(root), delim_whitespace=True, header=None) # Importing the entire dataset.\n",
    "bostonHeaders = ['CRIM', 'ZN', 'INDUS', 'CHAS', 'NOX', 'RM', 'AGE', 'DIS', 'RAD', 'TAX', 'PTRATIO', 'B', 'LSTAT', 'MEDV']\n",
    "fullDF.columns = bostonHeaders # Defining our headers.\n",
    "meanMEDV = fullDF[\"MEDV\"].mean() # Average value of MEDV.\n",
    "\n",
    "print(\"The mean absolute score of our XGB Regressor is: %.2f and the mean of our target variable is: %.2f\" % (mae, meanMEDV))"
   ]
  },
  {
   "cell_type": "markdown",
   "id": "aab89f01",
   "metadata": {},
   "source": [
    "**C.5: Conclusion**<br>\n",
    "Through our empirical testing on the holdout set, the model that performed the best was our Random Forest Regressor which scored an MSE of 8.75, a RMSE of 2.96 and a R2 score of 81.31%. Furthermore when plotting the distribution of our residuals, our regressor showed a symmetrical distriubtion with a mean of 0, which indicates when conducting predictions our regressor is less likely to make errors. \n",
    "\n",
    "The mean value of \"MEDV\" (label) is 22.53, while our \"Mean Absolute Error\" is 2.17. This tells us on average our predictions are off by 2.17, and that we have a 9.64% error rate (2.17/23.53)."
   ]
  },
  {
   "cell_type": "markdown",
   "id": "6bbe7ec5",
   "metadata": {},
   "source": [
    "&nbsp;"
   ]
  },
  {
   "cell_type": "markdown",
   "id": "9a53987f",
   "metadata": {},
   "source": [
    "| Model | Model Type | MSE | RMSE | R2 |  Hyperparameters | \n",
    "|---------|---------|---------|---------|---------|---------|\n",
    "| **Gradient Boosting Regressor** | Base Model   |9.32 | 3.05 | - |learning_rate=0.1, max_depth=20, min_samples_split=50, n_estimators=500, <br>validation_fraction=0.2, n_iter_no_change=8, tol=1.5 |\n",
    "| **Random Forest Regressor** | Log Transformed |8.75 |2.96 | 81.31% |max_depth=20, min_samples_split=18, min_samples_leaf=2,  n_estimators=500|\n",
    "| **XGB Regressor** | Log Transformed | 9.69 |3.11 | -|learning_rate=0.1, max_depth=2, min_child_weight=15, n_estimators=101|"
   ]
  },
  {
   "cell_type": "markdown",
   "id": "91ea8957",
   "metadata": {},
   "source": [
    "&nbsp;"
   ]
  },
  {
   "cell_type": "markdown",
   "id": "4da3901c",
   "metadata": {},
   "source": [
    "&nbsp;\n",
    "**Author:** Aaron Chew&nbsp;&nbsp;&nbsp;&nbsp;&nbsp;&nbsp; **|** &nbsp;&nbsp;&nbsp;&nbsp;&nbsp;&nbsp;**Date Published:** 11/08/2022 &nbsp;&nbsp;&nbsp;&nbsp;&nbsp;&nbsp;**|** &nbsp;&nbsp;&nbsp;&nbsp;&nbsp;&nbsp;**Email:** aaronsamuelchew@gmail.com &nbsp;&nbsp;&nbsp;&nbsp;&nbsp;&nbsp;**|**&nbsp;&nbsp;&nbsp;&nbsp;&nbsp;&nbsp; **GitHub:** https://github.com/aaron-chew  "
   ]
  }
 ],
 "metadata": {
  "kernelspec": {
   "display_name": "Python 3",
   "language": "python",
   "name": "python3"
  },
  "language_info": {
   "codemirror_mode": {
    "name": "ipython",
    "version": 3
   },
   "file_extension": ".py",
   "mimetype": "text/x-python",
   "name": "python",
   "nbconvert_exporter": "python",
   "pygments_lexer": "ipython3",
   "version": "3.7.4"
  }
 },
 "nbformat": 4,
 "nbformat_minor": 5
}

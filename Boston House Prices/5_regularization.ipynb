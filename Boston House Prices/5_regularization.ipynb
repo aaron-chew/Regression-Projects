{
 "cells": [
  {
   "cell_type": "markdown",
   "id": "567ccdfa",
   "metadata": {},
   "source": [
    "&nbsp;"
   ]
  },
  {
   "cell_type": "markdown",
   "id": "3064bcb1",
   "metadata": {},
   "source": [
    "# 5. Regularization \n",
    "While training a machine learning model, the model can easily be overfitted or underfitted. \n",
    "To avoid this, we use regularization in machine learning to properly fit a model onto our test set. Overfitting occurs when the model learns too much detail and noise from the training data to the point when new data is exposed, the model will perform poorly on it. Regularization techniques help reduce the chance of overfitting by either adding penalties or stopping before the validation set's performance starts to decline. "
   ]
  },
  {
   "cell_type": "code",
   "execution_count": 1,
   "id": "3b6970d8",
   "metadata": {},
   "outputs": [],
   "source": [
    "# Standard libraries. \n",
    "import pandas as pd\n",
    "import numpy as np \n",
    "import os\n",
    "from plotly.subplots import make_subplots\n",
    "import plotly.graph_objects as go\n",
    "import plotly.express as px\n",
    "\n",
    "# Importing our functions. \n",
    "import functions\n",
    "import plot_functions\n",
    "\n",
    "# Importing emsemble models. \n",
    "from sklearn.ensemble import GradientBoostingRegressor, RandomForestRegressor\n",
    "from xgboost import XGBRegressor\n",
    "\n",
    "# Import transformers. \n",
    "from sklearn.pipeline import Pipeline\n",
    "from sklearn.preprocessing import StandardScaler, Normalizer, OneHotEncoder, FunctionTransformer\n",
    "\n",
    "# Renders plotly figs into svg static images. \n",
    "import plotly.io as pio\n",
    "pio.renderers.default = \"svg\""
   ]
  },
  {
   "cell_type": "code",
   "execution_count": 2,
   "id": "9ed397c5",
   "metadata": {},
   "outputs": [
    {
     "data": {
      "text/html": [
       "<div>\n",
       "<style scoped>\n",
       "    .dataframe tbody tr th:only-of-type {\n",
       "        vertical-align: middle;\n",
       "    }\n",
       "\n",
       "    .dataframe tbody tr th {\n",
       "        vertical-align: top;\n",
       "    }\n",
       "\n",
       "    .dataframe thead th {\n",
       "        text-align: right;\n",
       "    }\n",
       "</style>\n",
       "<table border=\"1\" class=\"dataframe\">\n",
       "  <thead>\n",
       "    <tr style=\"text-align: right;\">\n",
       "      <th></th>\n",
       "      <th>CRIM</th>\n",
       "      <th>ZN</th>\n",
       "      <th>INDUS</th>\n",
       "      <th>CHAS</th>\n",
       "      <th>NOX</th>\n",
       "      <th>RM</th>\n",
       "      <th>AGE</th>\n",
       "      <th>DIS</th>\n",
       "      <th>RAD</th>\n",
       "      <th>TAX</th>\n",
       "      <th>PTRATIO</th>\n",
       "      <th>B</th>\n",
       "      <th>LSTAT</th>\n",
       "      <th>MEDV</th>\n",
       "    </tr>\n",
       "  </thead>\n",
       "  <tbody>\n",
       "    <tr>\n",
       "      <th>0</th>\n",
       "      <td>0.78570</td>\n",
       "      <td>20.0</td>\n",
       "      <td>3.97</td>\n",
       "      <td>0</td>\n",
       "      <td>0.647</td>\n",
       "      <td>7.014</td>\n",
       "      <td>84.6</td>\n",
       "      <td>2.1329</td>\n",
       "      <td>5</td>\n",
       "      <td>264.0</td>\n",
       "      <td>13.0</td>\n",
       "      <td>384.07</td>\n",
       "      <td>14.79</td>\n",
       "      <td>30.7</td>\n",
       "    </tr>\n",
       "    <tr>\n",
       "      <th>1</th>\n",
       "      <td>0.06263</td>\n",
       "      <td>0.0</td>\n",
       "      <td>11.93</td>\n",
       "      <td>0</td>\n",
       "      <td>0.573</td>\n",
       "      <td>6.593</td>\n",
       "      <td>69.1</td>\n",
       "      <td>2.4786</td>\n",
       "      <td>1</td>\n",
       "      <td>273.0</td>\n",
       "      <td>21.0</td>\n",
       "      <td>391.99</td>\n",
       "      <td>9.67</td>\n",
       "      <td>22.4</td>\n",
       "    </tr>\n",
       "  </tbody>\n",
       "</table>\n",
       "</div>"
      ],
      "text/plain": [
       "      CRIM    ZN  INDUS  CHAS    NOX     RM   AGE     DIS  RAD    TAX  \\\n",
       "0  0.78570  20.0   3.97     0  0.647  7.014  84.6  2.1329    5  264.0   \n",
       "1  0.06263   0.0  11.93     0  0.573  6.593  69.1  2.4786    1  273.0   \n",
       "\n",
       "   PTRATIO       B  LSTAT  MEDV  \n",
       "0     13.0  384.07  14.79  30.7  \n",
       "1     21.0  391.99   9.67  22.4  "
      ]
     },
     "execution_count": 2,
     "metadata": {},
     "output_type": "execute_result"
    }
   ],
   "source": [
    "root = os.getcwd() # Setting root directory as cwd. \n",
    "df = pd.read_csv(r\"{}\\train_PriceCapRemoved.csv\".format(root)) # Importing the train set.\n",
    "df.head(2)"
   ]
  },
  {
   "cell_type": "markdown",
   "id": "758fde51",
   "metadata": {},
   "source": [
    "### Section A: Regularization\n",
    "This section will focus on enabling regularization techniques for all our chosen models to counter overfitting. "
   ]
  },
  {
   "cell_type": "markdown",
   "id": "7f466352",
   "metadata": {},
   "source": [
    "**A.1: Check for Overfitting**<br>\n",
    "Before we enable regularization it's a good idea to first check whether our models overfitted or not."
   ]
  },
  {
   "cell_type": "code",
   "execution_count": 3,
   "id": "d8dc7276",
   "metadata": {},
   "outputs": [],
   "source": [
    "# Splitting the data. \n",
    "X = df.iloc[:,:-1] \n",
    "y = df.iloc[:,-1]"
   ]
  },
  {
   "cell_type": "code",
   "execution_count": 4,
   "id": "1b728413",
   "metadata": {},
   "outputs": [
    {
     "name": "stdout",
     "output_type": "stream",
     "text": [
      "Model scored an Train_MSE_Score of: -0.00 and a Validation_MSE of: -8.02\n"
     ]
    }
   ],
   "source": [
    "overfitGBR = functions.model_evaluation()\n",
    "overfitGBR.preprocessing(df)\n",
    "overfitGBR.add_pipe_component(\"s\", StandardScaler())\n",
    "overfitGBR.add_pipe_component(\"clf\", GradientBoostingRegressor(learning_rate=0.1, max_depth=20, min_samples_split=50,\n",
    "                                                               n_estimators=500))\n",
    "pipe = Pipeline(steps=overfitGBR.estimators)\n",
    "pipe = pipe.fit(X, y)\n",
    "overfitGBR.overfitting_checker(X, y, pipe)"
   ]
  },
  {
   "cell_type": "code",
   "execution_count": 5,
   "id": "50b00b14",
   "metadata": {},
   "outputs": [
    {
     "name": "stdout",
     "output_type": "stream",
     "text": [
      "Model scored an Train_MSE_Score of: -1.97 and a Validation_MSE of: -9.13\n"
     ]
    }
   ],
   "source": [
    "overfitRFR = functions.model_evaluation()\n",
    "overfitRFR.preprocessing(df)\n",
    "overfitRFR.add_pipe_component(\"log\", FunctionTransformer(np.log1p))\n",
    "overfitRFR.add_pipe_component(\"clf\", RandomForestRegressor(max_depth=20, min_samples_split=2, min_samples_leaf=2, \n",
    "                                                           n_estimators=500))\n",
    "pipe = Pipeline(steps=overfitRFR.estimators)\n",
    "pipe = pipe.fit(X, y)\n",
    "overfitRFR.overfitting_checker(X, y, pipe)"
   ]
  },
  {
   "cell_type": "code",
   "execution_count": 6,
   "id": "425205f9",
   "metadata": {},
   "outputs": [
    {
     "name": "stdout",
     "output_type": "stream",
     "text": [
      "Model scored an Train_MSE_Score of: -1.18 and a Validation_MSE of: -7.31\n"
     ]
    }
   ],
   "source": [
    "overfitXGB = functions.model_evaluation()\n",
    "overfitXGB.preprocessing(df)\n",
    "overfitXGB.add_pipe_component(\"log\", FunctionTransformer(np.log1p))\n",
    "overfitXGB.add_pipe_component(\"clf\", XGBRegressor(learning_rate=0.1, max_depth=2, min_child_weight=15, n_estimators=500))\n",
    "pipe = Pipeline(steps=overfitXGB.estimators)\n",
    "pipe = pipe.fit(X, y)\n",
    "overfitXGB.overfitting_checker(X, y, pipe)"
   ]
  },
  {
   "cell_type": "markdown",
   "id": "a53f15e6",
   "metadata": {},
   "source": [
    "* It seems like for most models there is some degree of overfitting, so in the next section we'll enable regularization to punish models that overfit."
   ]
  },
  {
   "cell_type": "markdown",
   "id": "f0fae854",
   "metadata": {},
   "source": [
    "| Model | Model Type | Train MSE | Validation MSE |\n",
    "|---------|---------|---------|---------|\n",
    "| **Gradient Boosting Regressor** |  Base Model | 0.00 |8.03 |\n",
    "| **Random Forest Regressor** |  Log Transformed | 1.97 |9.13 |\n",
    "| **XGB Regressor** |  Log Transformed | 1.18 |7.31 |"
   ]
  },
  {
   "cell_type": "markdown",
   "id": "6c0e5ab3",
   "metadata": {},
   "source": [
    "**A.3: Regularizing Gradient Boosting Regressor**<br>\n",
    "To enable early stopping for our Gradient Boosting Regressor, we include the \"n_iter_no_change\" (early stopping), \"validation_fraction\" (validation set %) and \"tol\" (tolerance level) parameters."
   ]
  },
  {
   "cell_type": "code",
   "execution_count": 7,
   "id": "8cb416eb",
   "metadata": {},
   "outputs": [
    {
     "name": "stdout",
     "output_type": "stream",
     "text": [
      "Model scored an Train_MSE_Score of: 4.17 and a Validation_MSE of: 9.61 and the difference between the two is: 5.45\n"
     ]
    }
   ],
   "source": [
    "testGBR, trainGBR, testTrainDifference = list(), list(), list()\n",
    "\n",
    "# ML algorithms are stochastic in nature, so we'll evlauate our model through 10 iterations. \n",
    "for i in range(1,11): \n",
    "    GBR = functions.model_evaluation() # Creating our class instance. \n",
    "    GBR.preprocessing(df) \n",
    "    # Adding transformers to pipeline.\n",
    "    GBR.add_pipe_component(\"clf\", GradientBoostingRegressor(learning_rate=0.1, max_depth=20, min_samples_split=50, \n",
    "                                                            n_estimators=500, validation_fraction=0.2,\n",
    "                                                            n_iter_no_change=8, tol=1.5))\n",
    "    pipe = Pipeline(steps=GBR.estimators) # Creating pipeline instance.  \n",
    "    pipe = pipe.fit(X, y) # Fitting the data to our estimator. \n",
    "    GBR.overfitting_checker_no_print(X, y, pipe) # Evaluation using cross validation, enabling train score. \n",
    "    \n",
    "    # Storing average results.  \n",
    "    trainGBR.append(abs(GBR.results[\"train_score\"].mean()))\n",
    "    testGBR.append(abs(GBR.results[\"test_score\"].mean()))\n",
    "    testTrainDifference.append(round(abs(GBR.results[\"test_score\"].mean()) - abs(GBR.results[\"train_score\"].mean()),2))\n",
    "    \n",
    "print('Model scored an Train_MSE_Score of: %.2f and a Validation_MSE of: %.2f and the difference between the two is: %.2f' \n",
    "      % (np.mean(trainGBR), np.mean(testGBR), np.mean(testTrainDifference)))"
   ]
  },
  {
   "cell_type": "markdown",
   "id": "4c7ca956",
   "metadata": {},
   "source": [
    "**A.4: Regularizing Random Forest Regressor**<br>\n",
    "The next step is to regularize our Random Forest."
   ]
  },
  {
   "cell_type": "code",
   "execution_count": 8,
   "id": "e280fbe6",
   "metadata": {},
   "outputs": [
    {
     "name": "stdout",
     "output_type": "stream",
     "text": [
      "Model scored an Train_MSE_Score of: 4.87 and a Validation_MSE of: 9.92 and the difference between the two is: 5.05\n"
     ]
    }
   ],
   "source": [
    "testRFR, trainRFR, testTrainDifference2 = list(), list(), list()\n",
    "\n",
    "for i in range(1,11):\n",
    "    # Check if the model overfit. \n",
    "    RFR = functions.model_evaluation()\n",
    "    RFR.preprocessing(df)\n",
    "    # Checking if our hypertuned models overfited.\n",
    "    RFR.add_pipe_component(\"log\", FunctionTransformer(np.log1p))\n",
    "    RFR.add_pipe_component(\"clf\", RandomForestRegressor(max_depth=20, min_samples_split=18, min_samples_leaf=2, \n",
    "                                                               n_estimators=500))\n",
    "    pipe = Pipeline(steps=RFR.estimators)\n",
    "    pipe = pipe.fit(X, y)\n",
    "    RFR.overfitting_checker_no_print(X, y, pipe) \n",
    "    \n",
    "    # Storing average results.  \n",
    "    trainRFR.append(abs(RFR.results[\"train_score\"].mean()))\n",
    "    testRFR.append(abs(RFR.results[\"test_score\"].mean()))\n",
    "    testTrainDifference2.append(round(abs(RFR.results[\"test_score\"].mean()) - abs(RFR.results[\"train_score\"].mean()),2))\n",
    "    \n",
    "print('Model scored an Train_MSE_Score of: %.2f and a Validation_MSE of: %.2f and the difference between the two is: %.2f' \n",
    "      % (np.mean(trainRFR), np.mean(testRFR), np.mean(testTrainDifference2)))"
   ]
  },
  {
   "cell_type": "markdown",
   "id": "bc56639e",
   "metadata": {},
   "source": [
    "| Model | Model Type | Regularization Metrics | MSE |\n",
    "|---------|---------|---------|---------|\n",
    "| **Gradient Boosting Regressor** | Base Model|validation_fraction=0.2, n_iter_no_change=8, tol=1.5 | 9.65 |\n",
    "| **Random Forest Regressor** | Log Transformed | min_samples_split=18, max_depth=20 |9.90 |"
   ]
  },
  {
   "cell_type": "markdown",
   "id": "78bbc9e7",
   "metadata": {},
   "source": [
    "**A.5: Regularizing XGB Regressor**<br>\n",
    "To regularize our XGB Regressor we can implement the early stopping technique. This method involves the algorithm to stop training once the loss function of the validation set starts to deteroriate."
   ]
  },
  {
   "cell_type": "code",
   "execution_count": 9,
   "id": "a6f39dcb",
   "metadata": {},
   "outputs": [
    {
     "data": {
      "text/html": [
       "<div>\n",
       "<style scoped>\n",
       "    .dataframe tbody tr th:only-of-type {\n",
       "        vertical-align: middle;\n",
       "    }\n",
       "\n",
       "    .dataframe tbody tr th {\n",
       "        vertical-align: top;\n",
       "    }\n",
       "\n",
       "    .dataframe thead th {\n",
       "        text-align: right;\n",
       "    }\n",
       "</style>\n",
       "<table border=\"1\" class=\"dataframe\">\n",
       "  <thead>\n",
       "    <tr style=\"text-align: right;\">\n",
       "      <th></th>\n",
       "      <th>CRIM</th>\n",
       "      <th>ZN</th>\n",
       "      <th>INDUS</th>\n",
       "      <th>CHAS</th>\n",
       "      <th>NOX</th>\n",
       "      <th>RM</th>\n",
       "      <th>AGE</th>\n",
       "      <th>DIS</th>\n",
       "      <th>RAD</th>\n",
       "      <th>TAX</th>\n",
       "      <th>PTRATIO</th>\n",
       "      <th>B</th>\n",
       "      <th>LSTAT</th>\n",
       "    </tr>\n",
       "  </thead>\n",
       "  <tbody>\n",
       "    <tr>\n",
       "      <th>0</th>\n",
       "      <td>0.579810</td>\n",
       "      <td>3.044522</td>\n",
       "      <td>1.60342</td>\n",
       "      <td>0.0</td>\n",
       "      <td>0.498955</td>\n",
       "      <td>2.081190</td>\n",
       "      <td>4.449685</td>\n",
       "      <td>1.141959</td>\n",
       "      <td>1.791759</td>\n",
       "      <td>5.579730</td>\n",
       "      <td>2.639057</td>\n",
       "      <td>5.953425</td>\n",
       "      <td>2.759377</td>\n",
       "    </tr>\n",
       "    <tr>\n",
       "      <th>1</th>\n",
       "      <td>0.060747</td>\n",
       "      <td>0.000000</td>\n",
       "      <td>2.55955</td>\n",
       "      <td>0.0</td>\n",
       "      <td>0.452985</td>\n",
       "      <td>2.027227</td>\n",
       "      <td>4.249923</td>\n",
       "      <td>1.246630</td>\n",
       "      <td>0.693147</td>\n",
       "      <td>5.613128</td>\n",
       "      <td>3.091042</td>\n",
       "      <td>5.973784</td>\n",
       "      <td>2.367436</td>\n",
       "    </tr>\n",
       "  </tbody>\n",
       "</table>\n",
       "</div>"
      ],
      "text/plain": [
       "       CRIM        ZN    INDUS  CHAS       NOX        RM       AGE       DIS  \\\n",
       "0  0.579810  3.044522  1.60342   0.0  0.498955  2.081190  4.449685  1.141959   \n",
       "1  0.060747  0.000000  2.55955   0.0  0.452985  2.027227  4.249923  1.246630   \n",
       "\n",
       "        RAD       TAX   PTRATIO         B     LSTAT  \n",
       "0  1.791759  5.579730  2.639057  5.953425  2.759377  \n",
       "1  0.693147  5.613128  3.091042  5.973784  2.367436  "
      ]
     },
     "execution_count": 9,
     "metadata": {},
     "output_type": "execute_result"
    }
   ],
   "source": [
    "log = FunctionTransformer(np.log1p) # Log instance. \n",
    "logFeatures = log.fit_transform(X) # Transforming our features sclae to log. \n",
    "dfLog = pd.DataFrame(data=logFeatures, columns=list(X.columns)) # Place output into dataframe. \n",
    "dfLog.head(2) # Check results. "
   ]
  },
  {
   "cell_type": "code",
   "execution_count": 10,
   "id": "74ba7f30",
   "metadata": {},
   "outputs": [],
   "source": [
    "# We'll set \"n_estimators\" to 500, to ensure the model has enough training time to overfit. \n",
    "XGBR = functions.Early_Stopping(dfLog, y, XGBRegressor(eval_metric=[\"mae\"], learning_rate=0.1, max_depth=2, \n",
    "                                                   min_child_weight=15, n_estimators=500))"
   ]
  },
  {
   "cell_type": "code",
   "execution_count": 11,
   "id": "55d1bda1",
   "metadata": {},
   "outputs": [
    {
     "data": {
      "image/svg+xml": [
       "<svg class=\"main-svg\" xmlns=\"http://www.w3.org/2000/svg\" xmlns:xlink=\"http://www.w3.org/1999/xlink\" width=\"800\" height=\"400\" style=\"\" viewBox=\"0 0 800 400\"><rect x=\"0\" y=\"0\" width=\"800\" height=\"400\" style=\"fill: rgb(255, 255, 255); fill-opacity: 1;\"/><defs id=\"defs-48eb85\"><g class=\"clips\"><clipPath id=\"clip48eb85xyplot\" class=\"plotclip\"><rect width=\"620\" height=\"220\"/></clipPath><clipPath class=\"axesclip\" id=\"clip48eb85x\"><rect x=\"80\" y=\"0\" width=\"620\" height=\"400\"/></clipPath><clipPath class=\"axesclip\" id=\"clip48eb85y\"><rect x=\"0\" y=\"100\" width=\"800\" height=\"220\"/></clipPath><clipPath class=\"axesclip\" id=\"clip48eb85xy\"><rect x=\"80\" y=\"100\" width=\"620\" height=\"220\"/></clipPath></g><g class=\"gradients\"/><g class=\"patterns\"/></defs><g class=\"bglayer\"><rect class=\"bg\" x=\"80\" y=\"100\" width=\"620\" height=\"220\" style=\"fill: rgb(248, 248, 246); fill-opacity: 1; stroke-width: 0;\"/></g><g class=\"layer-below\"><g class=\"imagelayer\"/><g class=\"shapelayer\"/></g><g class=\"cartesianlayer\"><g class=\"subplot xy\"><g class=\"layer-subplot\"><g class=\"shapelayer\"/><g class=\"imagelayer\"/></g><g class=\"minor-gridlayer\"><g class=\"x\"/><g class=\"y\"/></g><g class=\"gridlayer\"><g class=\"x\"><path class=\"xgrid crisp\" transform=\"translate(204.25,0)\" d=\"M0,100v220\" style=\"stroke: rgb(255, 255, 255); stroke-opacity: 1; stroke-width: 1px;\"/><path class=\"xgrid crisp\" transform=\"translate(328.5,0)\" d=\"M0,100v220\" style=\"stroke: rgb(255, 255, 255); stroke-opacity: 1; stroke-width: 1px;\"/><path class=\"xgrid crisp\" transform=\"translate(452.75,0)\" d=\"M0,100v220\" style=\"stroke: rgb(255, 255, 255); stroke-opacity: 1; stroke-width: 1px;\"/><path class=\"xgrid crisp\" transform=\"translate(576.99,0)\" d=\"M0,100v220\" style=\"stroke: rgb(255, 255, 255); stroke-opacity: 1; stroke-width: 1px;\"/></g><g class=\"y\"><path class=\"ygrid crisp\" transform=\"translate(0,263.65)\" d=\"M80,0h620\" style=\"stroke: rgb(255, 255, 255); stroke-opacity: 1; stroke-width: 1px;\"/><path class=\"ygrid crisp\" transform=\"translate(0,210.2)\" d=\"M80,0h620\" style=\"stroke: rgb(255, 255, 255); stroke-opacity: 1; stroke-width: 1px;\"/><path class=\"ygrid crisp\" transform=\"translate(0,156.74)\" d=\"M80,0h620\" style=\"stroke: rgb(255, 255, 255); stroke-opacity: 1; stroke-width: 1px;\"/><path class=\"ygrid crisp\" transform=\"translate(0,103.28)\" d=\"M80,0h620\" style=\"stroke: rgb(255, 255, 255); stroke-opacity: 1; stroke-width: 1px;\"/></g></g><g class=\"zerolinelayer\"><path class=\"xzl zl crisp\" transform=\"translate(80,0)\" d=\"M0,100v220\" style=\"stroke: rgb(255, 255, 255); stroke-opacity: 1; stroke-width: 2px;\"/><path class=\"yzl zl crisp\" transform=\"translate(0,317.11)\" d=\"M80,0h620\" style=\"stroke: rgb(255, 255, 255); stroke-opacity: 1; stroke-width: 2px;\"/></g><path class=\"xlines-below\"/><path class=\"ylines-below\"/><g class=\"overlines-below\"/><g class=\"xaxislayer-below\"/><g class=\"yaxislayer-below\"/><g class=\"overaxes-below\"/><g class=\"plot\" transform=\"translate(80,100)\" clip-path=\"url(#clip48eb85xyplot)\"><g class=\"scatterlayer mlayer\"><g class=\"trace scatter trace17051b\" style=\"stroke-miterlimit: 2; opacity: 1;\"><g class=\"fills\"/><g class=\"errorbars\"/><g class=\"lines\"><path class=\"js-line\" d=\"M0,11L4.97,80.65L6.21,93.84L11.18,135.08L12.42,142.93L17.39,166.12L18.64,170.05L22.36,179.16L23.61,181.57L28.58,187.9L29.82,188.89L33.55,190.95L34.79,191.32L39.76,192.2L41,192.29L47.21,192.91L48.46,192.89L55.91,193.11L57.15,193.09L238.56,194.53L239.8,194.51L288.26,194.55L289.5,194.56L344.17,194.42L345.41,194.42L392.63,194.36L393.87,194.37L620,193.85\" style=\"vector-effect: non-scaling-stroke; fill: none; stroke: rgb(99, 110, 250); stroke-opacity: 1; stroke-width: 2px; opacity: 1;\"/></g><g class=\"points\"/><g class=\"text\"/></g><g class=\"trace scatter trace47e54c\" style=\"stroke-miterlimit: 2; opacity: 1;\"><g class=\"fills\"/><g class=\"errorbars\"/><g class=\"lines\"><path class=\"js-line\" d=\"M0,14.75L4.97,83.32L6.21,96.39L11.18,136.39L12.42,143.95L17.39,166.68L18.64,170.87L22.36,180.34L23.61,182.57L27.33,188.1L28.58,189.23L33.55,193.04L34.79,193.56L39.76,195.21L41,195.42L49.7,196.78L50.94,196.86L70.82,198.69L72.06,198.73L126.73,201.76L127.98,201.8L141.64,202.31L142.89,202.33L226.13,204.28L227.37,204.31L342.93,206.35L344.17,206.36L620,209\" style=\"vector-effect: non-scaling-stroke; fill: none; stroke: rgb(239, 85, 59); stroke-opacity: 1; stroke-width: 2px; opacity: 1;\"/></g><g class=\"points\"/><g class=\"text\"/></g></g></g><g class=\"overplot\"/><path class=\"xlines-above crisp\" d=\"M0,0\" style=\"fill: none;\"/><path class=\"ylines-above crisp\" d=\"M0,0\" style=\"fill: none;\"/><g class=\"overlines-above\"/><g class=\"xaxislayer-above\"><g class=\"xtick\"><text text-anchor=\"middle\" x=\"0\" y=\"333\" transform=\"translate(80,0)\" style=\"font-family: 'Open Sans', verdana, arial, sans-serif; font-size: 12px; fill: rgb(42, 63, 95); fill-opacity: 1; white-space: pre; opacity: 1;\">0</text></g><g class=\"xtick\"><text text-anchor=\"middle\" x=\"0\" y=\"333\" style=\"font-family: 'Open Sans', verdana, arial, sans-serif; font-size: 12px; fill: rgb(42, 63, 95); fill-opacity: 1; white-space: pre; opacity: 1;\" transform=\"translate(204.25,0)\">100</text></g><g class=\"xtick\"><text text-anchor=\"middle\" x=\"0\" y=\"333\" style=\"font-family: 'Open Sans', verdana, arial, sans-serif; font-size: 12px; fill: rgb(42, 63, 95); fill-opacity: 1; white-space: pre; opacity: 1;\" transform=\"translate(328.5,0)\">200</text></g><g class=\"xtick\"><text text-anchor=\"middle\" x=\"0\" y=\"333\" style=\"font-family: 'Open Sans', verdana, arial, sans-serif; font-size: 12px; fill: rgb(42, 63, 95); fill-opacity: 1; white-space: pre; opacity: 1;\" transform=\"translate(452.75,0)\">300</text></g><g class=\"xtick\"><text text-anchor=\"middle\" x=\"0\" y=\"333\" style=\"font-family: 'Open Sans', verdana, arial, sans-serif; font-size: 12px; fill: rgb(42, 63, 95); fill-opacity: 1; white-space: pre; opacity: 1;\" transform=\"translate(576.99,0)\">400</text></g></g><g class=\"yaxislayer-above\"><g class=\"ytick\"><text text-anchor=\"end\" x=\"79\" y=\"4.199999999999999\" transform=\"translate(0,317.11)\" style=\"font-family: 'Open Sans', verdana, arial, sans-serif; font-size: 12px; fill: rgb(42, 63, 95); fill-opacity: 1; white-space: pre; opacity: 1;\">0</text></g><g class=\"ytick\"><text text-anchor=\"end\" x=\"79\" y=\"4.199999999999999\" style=\"font-family: 'Open Sans', verdana, arial, sans-serif; font-size: 12px; fill: rgb(42, 63, 95); fill-opacity: 1; white-space: pre; opacity: 1;\" transform=\"translate(0,263.65)\">5</text></g><g class=\"ytick\"><text text-anchor=\"end\" x=\"79\" y=\"4.199999999999999\" style=\"font-family: 'Open Sans', verdana, arial, sans-serif; font-size: 12px; fill: rgb(42, 63, 95); fill-opacity: 1; white-space: pre; opacity: 1;\" transform=\"translate(0,210.2)\">10</text></g><g class=\"ytick\"><text text-anchor=\"end\" x=\"79\" y=\"4.199999999999999\" style=\"font-family: 'Open Sans', verdana, arial, sans-serif; font-size: 12px; fill: rgb(42, 63, 95); fill-opacity: 1; white-space: pre; opacity: 1;\" transform=\"translate(0,156.74)\">15</text></g><g class=\"ytick\"><text text-anchor=\"end\" x=\"79\" y=\"4.199999999999999\" style=\"font-family: 'Open Sans', verdana, arial, sans-serif; font-size: 12px; fill: rgb(42, 63, 95); fill-opacity: 1; white-space: pre; opacity: 1;\" transform=\"translate(0,103.28)\">20</text></g></g><g class=\"overaxes-above\"/></g></g><g class=\"polarlayer\"/><g class=\"smithlayer\"/><g class=\"ternarylayer\"/><g class=\"geolayer\"/><g class=\"funnelarealayer\"/><g class=\"pielayer\"/><g class=\"iciclelayer\"/><g class=\"treemaplayer\"/><g class=\"sunburstlayer\"/><g class=\"glimages\"/><defs id=\"topdefs-48eb85\"><g class=\"clips\"/><clipPath id=\"legend48eb85\"><rect width=\"76\" height=\"48\" x=\"0\" y=\"0\"/></clipPath></defs><g class=\"layer-above\"><g class=\"imagelayer\"/><g class=\"shapelayer\"/></g><g class=\"infolayer\"><g class=\"legend\" pointer-events=\"all\" transform=\"translate(712.4,100)\"><rect class=\"bg\" shape-rendering=\"crispEdges\" style=\"stroke: rgb(68, 68, 68); stroke-opacity: 1; fill: rgb(255, 255, 255); fill-opacity: 1; stroke-width: 0px;\" width=\"76\" height=\"48\" x=\"0\" y=\"0\"/><g class=\"scrollbox\" transform=\"\" clip-path=\"url(#legend48eb85)\"><g class=\"groups\"><g class=\"traces\" transform=\"translate(0,14.5)\" style=\"opacity: 1;\"><text class=\"legendtext\" text-anchor=\"start\" x=\"40\" y=\"4.680000000000001\" style=\"font-family: 'Open Sans', verdana, arial, sans-serif; font-size: 12px; fill: rgb(42, 63, 95); fill-opacity: 1; white-space: pre;\">Train</text><g class=\"layers\" style=\"opacity: 1;\"><g class=\"legendfill\"/><g class=\"legendlines\"><path class=\"js-line\" d=\"M5,0h30\" style=\"fill: none; stroke: rgb(99, 110, 250); stroke-opacity: 1; stroke-width: 2px;\"/></g><g class=\"legendsymbols\"><g class=\"legendpoints\"/></g></g><rect class=\"legendtoggle\" x=\"0\" y=\"-9.5\" width=\"70.234375\" height=\"19\" style=\"fill: rgb(0, 0, 0); fill-opacity: 0;\"/></g><g class=\"traces\" transform=\"translate(0,33.5)\" style=\"opacity: 1;\"><text class=\"legendtext\" text-anchor=\"start\" x=\"40\" y=\"4.680000000000001\" style=\"font-family: 'Open Sans', verdana, arial, sans-serif; font-size: 12px; fill: rgb(42, 63, 95); fill-opacity: 1; white-space: pre;\">Test</text><g class=\"layers\" style=\"opacity: 1;\"><g class=\"legendfill\"/><g class=\"legendlines\"><path class=\"js-line\" d=\"M5,0h30\" style=\"fill: none; stroke: rgb(239, 85, 59); stroke-opacity: 1; stroke-width: 2px;\"/></g><g class=\"legendsymbols\"><g class=\"legendpoints\"/></g></g><rect class=\"legendtoggle\" x=\"0\" y=\"-9.5\" width=\"70.234375\" height=\"19\" style=\"fill: rgb(0, 0, 0); fill-opacity: 0;\"/></g></g></g><rect class=\"scrollbar\" rx=\"20\" ry=\"3\" width=\"0\" height=\"0\" style=\"fill: rgb(128, 139, 164); fill-opacity: 1;\" x=\"0\" y=\"0\"/></g><g class=\"g-gtitle\"><text class=\"gtitle\" x=\"40\" y=\"50\" text-anchor=\"start\" dy=\"0em\" style=\"font-family: 'Arial Black'; font-size: 20px; fill: rgb(42, 63, 95); opacity: 1; font-weight: normal; white-space: pre;\">XGB Regressor Loss Curve</text></g><g class=\"g-xtitle\"><text class=\"xtitle\" x=\"390\" y=\"360.8\" text-anchor=\"middle\" style=\"font-family: 'Open Sans', verdana, arial, sans-serif; font-size: 14px; fill: rgb(42, 63, 95); opacity: 1; font-weight: normal; white-space: pre;\">Epochs</text></g><g class=\"g-ytitle\"><text class=\"ytitle\" transform=\"rotate(-90,38.934375,210)\" x=\"38.934375\" y=\"210\" text-anchor=\"middle\" style=\"font-family: 'Open Sans', verdana, arial, sans-serif; font-size: 14px; fill: rgb(42, 63, 95); opacity: 1; font-weight: normal; white-space: pre;\">MAE</text></g></g></svg>"
      ]
     },
     "metadata": {},
     "output_type": "display_data"
    }
   ],
   "source": [
    "plot_functions.LogLoss_Curve(XGBR.x_axis, XGBR.results[\"validation_1\"]['mae'], \n",
    "                        XGBR.results[\"validation_0\"]['mae'])"
   ]
  },
  {
   "cell_type": "code",
   "execution_count": 12,
   "id": "0605454e",
   "metadata": {},
   "outputs": [],
   "source": [
    "# We'll set \"n_estimators\" to 500, to ensure the model has enough training time to overfit. \n",
    "earlyStoppingXGBR = functions.Early_Stopping(dfLog, y, XGBRegressor(early_stopping_rounds=10, eval_metric=[\"mae\"], \n",
    "                                                    learning_rate=0.1,max_depth=2, min_child_weight=15, n_estimators=500))"
   ]
  },
  {
   "cell_type": "code",
   "execution_count": 13,
   "id": "599fdedc",
   "metadata": {},
   "outputs": [
    {
     "data": {
      "image/svg+xml": [
       "<svg class=\"main-svg\" xmlns=\"http://www.w3.org/2000/svg\" xmlns:xlink=\"http://www.w3.org/1999/xlink\" width=\"800\" height=\"400\" style=\"\" viewBox=\"0 0 800 400\"><rect x=\"0\" y=\"0\" width=\"800\" height=\"400\" style=\"fill: rgb(255, 255, 255); fill-opacity: 1;\"/><defs id=\"defs-3cfe32\"><g class=\"clips\"><clipPath id=\"clip3cfe32xyplot\" class=\"plotclip\"><rect width=\"640\" height=\"260\"/></clipPath><clipPath class=\"axesclip\" id=\"clip3cfe32x\"><rect x=\"80\" y=\"0\" width=\"640\" height=\"400\"/></clipPath><clipPath class=\"axesclip\" id=\"clip3cfe32y\"><rect x=\"0\" y=\"60\" width=\"800\" height=\"260\"/></clipPath><clipPath class=\"axesclip\" id=\"clip3cfe32xy\"><rect x=\"80\" y=\"60\" width=\"640\" height=\"260\"/></clipPath></g><g class=\"gradients\"/><g class=\"patterns\"/></defs><g class=\"bglayer\"><rect class=\"bg\" x=\"80\" y=\"60\" width=\"640\" height=\"260\" style=\"fill: rgb(248, 248, 246); fill-opacity: 1; stroke-width: 0;\"/></g><g class=\"layer-below\"><g class=\"imagelayer\"/><g class=\"shapelayer\"/></g><g class=\"cartesianlayer\"><g class=\"subplot xy\"><g class=\"layer-subplot\"><g class=\"shapelayer\"/><g class=\"imagelayer\"/></g><g class=\"minor-gridlayer\"><g class=\"x\"/><g class=\"y\"/></g><g class=\"gridlayer\"><g class=\"x\"><path class=\"xgrid crisp\" transform=\"translate(196.36,0)\" d=\"M0,60v260\" style=\"stroke: rgb(255, 255, 255); stroke-opacity: 1; stroke-width: 1px;\"/><path class=\"xgrid crisp\" transform=\"translate(312.73,0)\" d=\"M0,60v260\" style=\"stroke: rgb(255, 255, 255); stroke-opacity: 1; stroke-width: 1px;\"/><path class=\"xgrid crisp\" transform=\"translate(429.09,0)\" d=\"M0,60v260\" style=\"stroke: rgb(255, 255, 255); stroke-opacity: 1; stroke-width: 1px;\"/><path class=\"xgrid crisp\" transform=\"translate(545.45,0)\" d=\"M0,60v260\" style=\"stroke: rgb(255, 255, 255); stroke-opacity: 1; stroke-width: 1px;\"/><path class=\"xgrid crisp\" transform=\"translate(661.82,0)\" d=\"M0,60v260\" style=\"stroke: rgb(255, 255, 255); stroke-opacity: 1; stroke-width: 1px;\"/></g><g class=\"y\"><path class=\"ygrid crisp\" transform=\"translate(0,267.94)\" d=\"M80,0h640\" style=\"stroke: rgb(255, 255, 255); stroke-opacity: 1; stroke-width: 1px;\"/><path class=\"ygrid crisp\" transform=\"translate(0,199.68)\" d=\"M80,0h640\" style=\"stroke: rgb(255, 255, 255); stroke-opacity: 1; stroke-width: 1px;\"/><path class=\"ygrid crisp\" transform=\"translate(0,131.41)\" d=\"M80,0h640\" style=\"stroke: rgb(255, 255, 255); stroke-opacity: 1; stroke-width: 1px;\"/><path class=\"ygrid crisp\" transform=\"translate(0,63.15)\" d=\"M80,0h640\" style=\"stroke: rgb(255, 255, 255); stroke-opacity: 1; stroke-width: 1px;\"/></g></g><g class=\"zerolinelayer\"><path class=\"xzl zl crisp\" transform=\"translate(80,0)\" d=\"M0,60v260\" style=\"stroke: rgb(255, 255, 255); stroke-opacity: 1; stroke-width: 2px;\"/></g><path class=\"xlines-below\"/><path class=\"ylines-below\"/><g class=\"overlines-below\"/><g class=\"xaxislayer-below\"/><g class=\"yaxislayer-below\"/><g class=\"overaxes-below\"/><g class=\"plot\" transform=\"translate(80,60)\" clip-path=\"url(#clip3cfe32xyplot)\"><g class=\"scatterlayer mlayer\"><g class=\"trace scatter traced16954\" style=\"stroke-miterlimit: 2; opacity: 1;\"><g class=\"fills\"/><g class=\"errorbars\"/><g class=\"lines\"><path class=\"js-line\" d=\"M0,13L11.64,62.12L17.45,83.18L29.09,118.79L34.91,134.11L46.55,160.65L52.36,171.46L58.18,181.49L64,189.98L75.64,204.78L81.45,211.1L93.09,220.73L98.91,224.72L116.36,233.25L122.18,235.47L139.64,240.17L145.45,241.27L162.91,243.27L168.73,243.76L203.64,245.06L209.45,245.1L279.27,245.56L285.09,245.75L442.18,246.72L448,246.75L529.45,246.98L535.27,246.99L640,246.89\" style=\"vector-effect: non-scaling-stroke; fill: none; stroke: rgb(99, 110, 250); stroke-opacity: 1; stroke-width: 2px; opacity: 1;\"/></g><g class=\"points\"/><g class=\"text\"/></g></g></g><g class=\"overplot\"/><path class=\"xlines-above crisp\" d=\"M0,0\" style=\"fill: none;\"/><path class=\"ylines-above crisp\" d=\"M0,0\" style=\"fill: none;\"/><g class=\"overlines-above\"/><g class=\"xaxislayer-above\"><g class=\"xtick\"><text text-anchor=\"middle\" x=\"0\" y=\"333\" transform=\"translate(80,0)\" style=\"font-family: 'Open Sans', verdana, arial, sans-serif; font-size: 12px; fill: rgb(42, 63, 95); fill-opacity: 1; white-space: pre; opacity: 1;\">0</text></g><g class=\"xtick\"><text text-anchor=\"middle\" x=\"0\" y=\"333\" style=\"font-family: 'Open Sans', verdana, arial, sans-serif; font-size: 12px; fill: rgb(42, 63, 95); fill-opacity: 1; white-space: pre; opacity: 1;\" transform=\"translate(196.36,0)\">20</text></g><g class=\"xtick\"><text text-anchor=\"middle\" x=\"0\" y=\"333\" style=\"font-family: 'Open Sans', verdana, arial, sans-serif; font-size: 12px; fill: rgb(42, 63, 95); fill-opacity: 1; white-space: pre; opacity: 1;\" transform=\"translate(312.73,0)\">40</text></g><g class=\"xtick\"><text text-anchor=\"middle\" x=\"0\" y=\"333\" style=\"font-family: 'Open Sans', verdana, arial, sans-serif; font-size: 12px; fill: rgb(42, 63, 95); fill-opacity: 1; white-space: pre; opacity: 1;\" transform=\"translate(429.09,0)\">60</text></g><g class=\"xtick\"><text text-anchor=\"middle\" x=\"0\" y=\"333\" style=\"font-family: 'Open Sans', verdana, arial, sans-serif; font-size: 12px; fill: rgb(42, 63, 95); fill-opacity: 1; white-space: pre; opacity: 1;\" transform=\"translate(545.45,0)\">80</text></g><g class=\"xtick\"><text text-anchor=\"middle\" x=\"0\" y=\"333\" style=\"font-family: 'Open Sans', verdana, arial, sans-serif; font-size: 12px; fill: rgb(42, 63, 95); fill-opacity: 1; white-space: pre; opacity: 1;\" transform=\"translate(661.82,0)\">100</text></g></g><g class=\"yaxislayer-above\"><g class=\"ytick\"><text text-anchor=\"end\" x=\"79\" y=\"4.199999999999999\" transform=\"translate(0,267.94)\" style=\"font-family: 'Open Sans', verdana, arial, sans-serif; font-size: 12px; fill: rgb(42, 63, 95); fill-opacity: 1; white-space: pre; opacity: 1;\">5</text></g><g class=\"ytick\"><text text-anchor=\"end\" x=\"79\" y=\"4.199999999999999\" style=\"font-family: 'Open Sans', verdana, arial, sans-serif; font-size: 12px; fill: rgb(42, 63, 95); fill-opacity: 1; white-space: pre; opacity: 1;\" transform=\"translate(0,199.68)\">10</text></g><g class=\"ytick\"><text text-anchor=\"end\" x=\"79\" y=\"4.199999999999999\" style=\"font-family: 'Open Sans', verdana, arial, sans-serif; font-size: 12px; fill: rgb(42, 63, 95); fill-opacity: 1; white-space: pre; opacity: 1;\" transform=\"translate(0,131.41)\">15</text></g><g class=\"ytick\"><text text-anchor=\"end\" x=\"79\" y=\"4.199999999999999\" style=\"font-family: 'Open Sans', verdana, arial, sans-serif; font-size: 12px; fill: rgb(42, 63, 95); fill-opacity: 1; white-space: pre; opacity: 1;\" transform=\"translate(0,63.15)\">20</text></g></g><g class=\"overaxes-above\"/></g></g><g class=\"polarlayer\"/><g class=\"smithlayer\"/><g class=\"ternarylayer\"/><g class=\"geolayer\"/><g class=\"funnelarealayer\"/><g class=\"pielayer\"/><g class=\"iciclelayer\"/><g class=\"treemaplayer\"/><g class=\"sunburstlayer\"/><g class=\"glimages\"/><defs id=\"topdefs-3cfe32\"><g class=\"clips\"/></defs><g class=\"layer-above\"><g class=\"imagelayer\"/><g class=\"shapelayer\"><path data-index=\"0\" fill-rule=\"evenodd\" d=\"M667.64,320L667.64,60\" clip-path=\"url(#clip3cfe32x)\" style=\"opacity: 1; stroke: rgb(0, 0, 0); stroke-opacity: 1; fill: rgb(0, 0, 0); fill-opacity: 0; stroke-dasharray: 9px, 9px; stroke-width: 2px;\"/></g></g><g class=\"infolayer\"><g class=\"g-gtitle\"><text class=\"gtitle\" x=\"40\" y=\"30\" text-anchor=\"start\" dy=\"0em\" style=\"font-family: 'Arial Black'; font-size: 20px; fill: rgb(42, 63, 95); opacity: 1; font-weight: normal; white-space: pre;\">XGB Regressor Early Stopping</text></g><g class=\"g-xtitle\"><text class=\"xtitle\" x=\"400\" y=\"360.8\" text-anchor=\"middle\" style=\"font-family: 'Open Sans', verdana, arial, sans-serif; font-size: 14px; fill: rgb(42, 63, 95); opacity: 1; font-weight: normal; white-space: pre;\">Epochs</text></g><g class=\"g-ytitle\"><text class=\"ytitle\" transform=\"rotate(-90,38.934375,190)\" x=\"38.934375\" y=\"190\" text-anchor=\"middle\" style=\"font-family: 'Open Sans', verdana, arial, sans-serif; font-size: 14px; fill: rgb(42, 63, 95); opacity: 1; font-weight: normal; white-space: pre;\">MAE</text></g></g></svg>"
      ]
     },
     "metadata": {},
     "output_type": "display_data"
    },
    {
     "name": "stdout",
     "output_type": "stream",
     "text": [
      "The model stopped training at around 110 epochs, with the best loss score observed at: 101.\n"
     ]
    }
   ],
   "source": [
    "# Plot early stopping results. \n",
    "fig = px.line(x=earlyStoppingXGBR.x_axis, y=earlyStoppingXGBR.results['validation_1']['mae'])\n",
    "fig.add_vline(x=earlyStoppingXGBR.clf.best_ntree_limit, line_width=2, line_dash=\"dash\", line_color=\"black\") # Best loss score. \n",
    "fig.update_layout(title='XGB Regressor Early Stopping',\n",
    "                       xaxis_title='Epochs',\n",
    "                       yaxis_title='MAE',\n",
    "                       height=400, width=800, plot_bgcolor='#F8F8F6', title_font_size=20, title_font_family='Arial Black')\n",
    "fig.show()\n",
    "\n",
    "print(\"The model stopped training at around 110 epochs, with the best loss score observed at: %.0f.\" % (\n",
    "    earlyStoppingXGBR.clf.best_ntree_limit))\n",
    "# Now we know that we should set our number of trees (n_estimator) to =101 to avoid overfitting."
   ]
  },
  {
   "cell_type": "markdown",
   "id": "3c388413",
   "metadata": {},
   "source": [
    "**A.6: Conclusion**<br>\n",
    "To sum up, we successfully regularized our regressor models through early stopping and managed to soften the impact of overfitting, whilst still retaining our strong validation performance. With all our models regularized and fitted with the best combination of hyperparameters it is now time to truely test our algorithms on the holdout dataset, that we put aside from the beginning of the project."
   ]
  },
  {
   "cell_type": "markdown",
   "id": "ed0e6368",
   "metadata": {},
   "source": [
    "&nbsp;"
   ]
  },
  {
   "cell_type": "markdown",
   "id": "0401ad8f",
   "metadata": {},
   "source": [
    "| Model | Model Type | Regularized Hyperparameters | \n",
    "|---------|---------|---------|\n",
    "| **Gradient Boosting Regressor** | Base Model   |learning_rate=0.1, max_depth=20, min_samples_split=50, n_estimators=500, <br>validation_fraction=0.2, n_iter_no_change=8, tol=1.5 | \n",
    "| **Random Forest Regressor** | Log Transformed |max_depth=20, min_samples_split=18, min_samples_leaf=2,  n_estimators=500 |\n",
    "| **XGB Regressor** | Log Transformed | learning_rate=0.1, max_depth=2, min_child_weight=15, n_estimators=101 |"
   ]
  },
  {
   "cell_type": "markdown",
   "id": "241d1956",
   "metadata": {},
   "source": [
    "&nbsp;"
   ]
  },
  {
   "cell_type": "markdown",
   "id": "3d0d61bb",
   "metadata": {},
   "source": [
    "&nbsp;\n",
    "**Author:** Aaron Chew&nbsp;&nbsp;&nbsp;&nbsp;&nbsp;&nbsp; **|** &nbsp;&nbsp;&nbsp;&nbsp;&nbsp;&nbsp;**Date Published:** 11/08/2022 &nbsp;&nbsp;&nbsp;&nbsp;&nbsp;&nbsp;**|** &nbsp;&nbsp;&nbsp;&nbsp;&nbsp;&nbsp;**Email:** aaronsamuelchew@gmail.com &nbsp;&nbsp;&nbsp;&nbsp;&nbsp;&nbsp;**|**&nbsp;&nbsp;&nbsp;&nbsp;&nbsp;&nbsp; **GitHub:** https://github.com/aaron-chew  "
   ]
  }
 ],
 "metadata": {
  "kernelspec": {
   "display_name": "Python 3",
   "language": "python",
   "name": "python3"
  },
  "language_info": {
   "codemirror_mode": {
    "name": "ipython",
    "version": 3
   },
   "file_extension": ".py",
   "mimetype": "text/x-python",
   "name": "python",
   "nbconvert_exporter": "python",
   "pygments_lexer": "ipython3",
   "version": "3.7.4"
  }
 },
 "nbformat": 4,
 "nbformat_minor": 5
}

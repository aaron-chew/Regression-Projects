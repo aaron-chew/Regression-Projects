{
 "cells": [
  {
   "cell_type": "markdown",
   "id": "d6b62979",
   "metadata": {},
   "source": [
    "&nbsp;"
   ]
  },
  {
   "cell_type": "markdown",
   "id": "28a161ad",
   "metadata": {},
   "source": [
    "# 2. Base Models\n",
    "Whenever conducting empirical testing, it is always a good idea to have a point of reference to compare against, this can come in the form of a benchmark. A benchmark is something that serves as a standard by which others may be measured or judged. In the world of machine learning, benchmarks don’t have to consist of world class models, on the contrary a good starting point is always the default algorithms. The point of having a benchmark is to test out our hypotheses to analyze whether our assumptions measure up and perform the way we hypothesize."
   ]
  },
  {
   "cell_type": "code",
   "execution_count": 1,
   "id": "8acf7598",
   "metadata": {},
   "outputs": [],
   "source": [
    "# Importing standard libraries. \n",
    "import pandas as pd\n",
    "import numpy as np \n",
    "import os\n",
    "import plotly.express as px\n",
    "import plotly.graph_objects as go\n",
    "\n",
    "# Importing functions. \n",
    "import plot_functions\n",
    "\n",
    "# ML models. \n",
    "from sklearn.linear_model import LinearRegression, ElasticNet\n",
    "from sklearn.tree import DecisionTreeRegressor\n",
    "from sklearn.svm import SVR\n",
    "from sklearn.neighbors import KNeighborsRegressor\n",
    "\n",
    "# Ensemble Models.\n",
    "from sklearn.ensemble import GradientBoostingRegressor, RandomForestRegressor\n",
    "from xgboost import XGBRegressor\n",
    "\n",
    "# Cross Validation Library.  \n",
    "from sklearn.model_selection import KFold, cross_validate\n",
    "from sklearn.pipeline import Pipeline\n",
    "from sklearn.impute import SimpleImputer\n",
    "from sklearn.compose import ColumnTransformer\n",
    "from sklearn.preprocessing import OneHotEncoder\n",
    "\n",
    "# Render on github. \n",
    "import plotly.io as pio\n",
    "pio.renderers.default = \"svg\""
   ]
  },
  {
   "cell_type": "code",
   "execution_count": 2,
   "id": "a2716f66",
   "metadata": {
    "scrolled": true
   },
   "outputs": [
    {
     "data": {
      "text/html": [
       "<div>\n",
       "<style scoped>\n",
       "    .dataframe tbody tr th:only-of-type {\n",
       "        vertical-align: middle;\n",
       "    }\n",
       "\n",
       "    .dataframe tbody tr th {\n",
       "        vertical-align: top;\n",
       "    }\n",
       "\n",
       "    .dataframe thead th {\n",
       "        text-align: right;\n",
       "    }\n",
       "</style>\n",
       "<table border=\"1\" class=\"dataframe\">\n",
       "  <thead>\n",
       "    <tr style=\"text-align: right;\">\n",
       "      <th></th>\n",
       "      <th>cylinders</th>\n",
       "      <th>displacement</th>\n",
       "      <th>horsepower</th>\n",
       "      <th>weight</th>\n",
       "      <th>acceleration</th>\n",
       "      <th>model year</th>\n",
       "      <th>origin</th>\n",
       "      <th>car name</th>\n",
       "      <th>mpg</th>\n",
       "    </tr>\n",
       "  </thead>\n",
       "  <tbody>\n",
       "    <tr>\n",
       "      <th>0</th>\n",
       "      <td>6</td>\n",
       "      <td>173.0</td>\n",
       "      <td>110.0</td>\n",
       "      <td>2725</td>\n",
       "      <td>12.6</td>\n",
       "      <td>81</td>\n",
       "      <td>1</td>\n",
       "      <td>chevrolet citation</td>\n",
       "      <td>23.5</td>\n",
       "    </tr>\n",
       "    <tr>\n",
       "      <th>1</th>\n",
       "      <td>8</td>\n",
       "      <td>400.0</td>\n",
       "      <td>170.0</td>\n",
       "      <td>4746</td>\n",
       "      <td>12.0</td>\n",
       "      <td>71</td>\n",
       "      <td>1</td>\n",
       "      <td>ford country squire (sw)</td>\n",
       "      <td>13.0</td>\n",
       "    </tr>\n",
       "  </tbody>\n",
       "</table>\n",
       "</div>"
      ],
      "text/plain": [
       "   cylinders  displacement  horsepower  weight  acceleration  model year  \\\n",
       "0          6         173.0       110.0    2725          12.6          81   \n",
       "1          8         400.0       170.0    4746          12.0          71   \n",
       "\n",
       "   origin                  car name   mpg  \n",
       "0       1        chevrolet citation  23.5  \n",
       "1       1  ford country squire (sw)  13.0  "
      ]
     },
     "execution_count": 2,
     "metadata": {},
     "output_type": "execute_result"
    }
   ],
   "source": [
    "root = os.getcwd() # Setting root directory as cwd. \n",
    "df = pd.read_csv(r\"{}\\train.csv\".format(root)) # Importing the train set.\n",
    "df.head(2)"
   ]
  },
  {
   "cell_type": "markdown",
   "id": "007100ea",
   "metadata": {},
   "source": [
    "&nbsp;"
   ]
  },
  {
   "cell_type": "markdown",
   "id": "4900181a",
   "metadata": {},
   "source": [
    "### Section A: Base Model Testing\n",
    "In this section we will be exploring a variety of Machine Learning algorithms and how well they perform with our newly processed data. We'll pick out the top 3 best performing models and use them as our benchmarks, when conducting hypotheses. Since this is a regression task, the loss function we will be focusing on is the Mean Squared Error (MSE).  \n",
    "\n",
    "Furthermore, we'll be constructing a pipeline with applied steps. Since we're dealing with two different data types (numerical and categorical) we will create a ColumnTransformer object that will enable us to apply different transformers to specific feature data types. Because for example, it wouldn't make sense to OneHotEncode a numerical feature. "
   ]
  },
  {
   "cell_type": "markdown",
   "id": "2fbdeda8",
   "metadata": {},
   "source": [
    "**A.1: Splitting Numerical & Categorical Features**<br>\n",
    "Our first step before constructing our pipeline estimator is to categorize our features into either \"numerical\" or \"categorical\"."
   ]
  },
  {
   "cell_type": "code",
   "execution_count": 3,
   "id": "157d29b9",
   "metadata": {},
   "outputs": [
    {
     "name": "stdout",
     "output_type": "stream",
     "text": [
      "Numerical columns are: ['cylinders', 'displacement', 'horsepower', 'weight', 'acceleration', 'model year', 'origin']\n",
      "Categorical columns are: ['car name']\n"
     ]
    }
   ],
   "source": [
    "# Separating our numerical & categorical columns for ColumnTransformer. \n",
    "numerical = list(df.select_dtypes(exclude=['object']).columns)\n",
    "numerical.remove(\"mpg\") # Remove label from data. \n",
    "print(f'Numerical columns are: {numerical}')\n",
    "\n",
    "categorical = list(df.select_dtypes(['object']).columns)\n",
    "print(f'Categorical columns are: {categorical}')"
   ]
  },
  {
   "cell_type": "markdown",
   "id": "6b43359e",
   "metadata": {},
   "source": [
    "**A.2: Constructing our Pipeline**<br>\n",
    "As mentioned earlier, specific transforms such as OHE are only suitable for categorical data, so we need to utilize a ColumnTransformer which gives us the ability to apply certain steps to specific data types. We'll then combine and apply this step into our final pipeline just before adding in our model."
   ]
  },
  {
   "cell_type": "code",
   "execution_count": 4,
   "id": "2f626cfa",
   "metadata": {},
   "outputs": [
    {
     "name": "stdout",
     "output_type": "stream",
     "text": [
      "LR scored an MSE train score of: 0.88 and a test score of: 213575666577669718016.00\n",
      "EN scored an MSE train score of: 12.33 and a test score of: 12.86\n",
      "CART scored an MSE train score of: 0.00 and a test score of: 14.40\n",
      "SVR scored an MSE train score of: 20.71 and a test score of: 21.09\n",
      "KNN scored an MSE train score of: 11.88 and a test score of: 17.70\n",
      "GBR scored an MSE train score of: 1.24 and a test score of: 9.05\n",
      "RFR scored an MSE train score of: 1.81 and a test score of: 8.64\n",
      "XGB scored an MSE train score of: 0.08 and a test score of: 9.99\n"
     ]
    }
   ],
   "source": [
    "X = df.iloc[:,:-1]\n",
    "y = df.iloc[:,-1]\n",
    "\n",
    "models, results = list(), list()\n",
    "modelNames = ['LR', 'EN', 'CART', 'SVR', 'KNN', 'GBR', 'RFR', 'XGB']\n",
    "modelInstance = [LinearRegression(), ElasticNet(), DecisionTreeRegressor(), SVR(), KNeighborsRegressor(), \n",
    "                 RandomForestRegressor(), GradientBoostingRegressor(), XGBRegressor()]\n",
    "\n",
    "modelScores = {}\n",
    "\n",
    "# Storing the model name and instance inside as tuples inside a list. \n",
    "for name, model in zip(modelNames, modelInstance):\n",
    "    # Define categorical pipeline.\n",
    "    cat_pipe = Pipeline([\n",
    "        ('imputer', SimpleImputer(strategy='most_frequent')),\n",
    "        ('encoder', OneHotEncoder(handle_unknown='ignore', sparse=False))])\n",
    "\n",
    "    # Define numerical pipeline\n",
    "    num_pipe = Pipeline([\n",
    "        ('imputer', SimpleImputer(strategy='median'))])\n",
    "\n",
    "    # Combine categorical and numerical pipelines.\n",
    "    preprocessor = ColumnTransformer([\n",
    "        ('cat', cat_pipe, categorical),\n",
    "        ('num', num_pipe, numerical)])\n",
    "\n",
    "    # Fit a pipeline with transformers and an estimator to the training data.\n",
    "    pipe = Pipeline([\n",
    "        ('preprocessor', preprocessor),\n",
    "        (name, model)])\n",
    "\n",
    "    # Using KFold, with 5 splits. \n",
    "    cv = KFold(n_splits=5, shuffle=True, random_state=42)\n",
    "    cv_results = cross_validate(pipe, X, y, cv=cv, scoring='neg_mean_squared_error', return_train_score=True)\n",
    "    results.append(abs(cv_results['test_score']))\n",
    "    print(\"%s scored an MSE train score of: %.2f and a test score of: %.2f\" % (name, \n",
    "                                                                                  abs(cv_results['train_score'].mean()), \n",
    "                                                                                  abs(cv_results['test_score'].mean())))\n",
    "    \n",
    "    # Storing results to use as benchmark values.\n",
    "    modelScores[name] = round(abs(cv_results['test_score'].mean()),4)"
   ]
  },
  {
   "cell_type": "markdown",
   "id": "44524e63",
   "metadata": {},
   "source": [
    "**A.3: Table of Results**<br>\n",
    "Based on the results, the three models I will choose are: Gradient Boosting Regressor, Random Forest Regressor and the XGB Regressor. Even though these models overfitted, they are tree ensemble methods, which means we can implement various techniques to remove overfitting."
   ]
  },
  {
   "cell_type": "markdown",
   "id": "d9d8d6e6",
   "metadata": {},
   "source": [
    "| Model | Train MSE | Validation MSE | Overfit | Accept Model |\n",
    "|---------|---------|---------|---------|---------|\n",
    "| **Linear Regression** | 0.88 | 21357566... |✔️ |❌ |\n",
    "| **ElasticNet** | 12.33 | 12.86 |❌ |❌ |\n",
    "| **Decision Tree** | 0.00 | 13.70 |✔️ |❌ |\n",
    "| **Support Vector Regressor** | 20.71 | 21.09 |❌ |❌ |\n",
    "| **K Neighbors Regressor** | 11.88 | 17.70 |✔️ |❌ |\n",
    "| **Gradient Boosting Regressor** | 1.24 | 9.18 |✔️ |✔️ |\n",
    "| **Random Forest Regressor** | 1.81 | 8.72 |✔️ |✔️ |\n",
    "| **XGB Regressor** | 0.08 | 9.99 |✔️ |✔️ |"
   ]
  },
  {
   "cell_type": "markdown",
   "id": "f39eb30b",
   "metadata": {},
   "source": [
    "**A.4: Plotting the 5 Folds Score**<br>\n",
    "Let's see the distribution of each model's folds."
   ]
  },
  {
   "cell_type": "code",
   "execution_count": 5,
   "id": "327efef1",
   "metadata": {},
   "outputs": [
    {
     "data": {
      "image/svg+xml": [
       "<svg class=\"main-svg\" xmlns=\"http://www.w3.org/2000/svg\" xmlns:xlink=\"http://www.w3.org/1999/xlink\" width=\"950\" height=\"450\" style=\"\" viewBox=\"0 0 950 450\"><rect x=\"0\" y=\"0\" width=\"950\" height=\"450\" style=\"fill: rgb(255, 255, 255); fill-opacity: 1;\"/><defs id=\"defs-c227bc\"><g class=\"clips\"><clipPath id=\"clipc227bcxyplot\" class=\"plotclip\"><rect width=\"765\" height=\"270\"/></clipPath><clipPath class=\"axesclip\" id=\"clipc227bcx\"><rect x=\"80\" y=\"0\" width=\"765\" height=\"450\"/></clipPath><clipPath class=\"axesclip\" id=\"clipc227bcy\"><rect x=\"0\" y=\"100\" width=\"950\" height=\"270\"/></clipPath><clipPath class=\"axesclip\" id=\"clipc227bcxy\"><rect x=\"80\" y=\"100\" width=\"765\" height=\"270\"/></clipPath></g><g class=\"gradients\"/><g class=\"patterns\"/></defs><g class=\"bglayer\"><rect class=\"bg\" x=\"80\" y=\"100\" width=\"765\" height=\"270\" style=\"fill: rgb(248, 248, 246); fill-opacity: 1; stroke-width: 0;\"/></g><g class=\"layer-below\"><g class=\"imagelayer\"/><g class=\"shapelayer\"/></g><g class=\"cartesianlayer\"><g class=\"subplot xy\"><g class=\"layer-subplot\"><g class=\"shapelayer\"/><g class=\"imagelayer\"/></g><g class=\"minor-gridlayer\"><g class=\"x\"/><g class=\"y\"/></g><g class=\"gridlayer\"><g class=\"x\"/><g class=\"y\"><path class=\"ygrid crisp\" transform=\"translate(0,348.05)\" d=\"M80,0h765\" style=\"stroke: rgb(255, 255, 255); stroke-opacity: 1; stroke-width: 1px;\"/><path class=\"ygrid crisp\" transform=\"translate(0,294.06)\" d=\"M80,0h765\" style=\"stroke: rgb(255, 255, 255); stroke-opacity: 1; stroke-width: 1px;\"/><path class=\"ygrid crisp\" transform=\"translate(0,240.07)\" d=\"M80,0h765\" style=\"stroke: rgb(255, 255, 255); stroke-opacity: 1; stroke-width: 1px;\"/><path class=\"ygrid crisp\" transform=\"translate(0,186.07)\" d=\"M80,0h765\" style=\"stroke: rgb(255, 255, 255); stroke-opacity: 1; stroke-width: 1px;\"/><path class=\"ygrid crisp\" transform=\"translate(0,132.07999999999998)\" d=\"M80,0h765\" style=\"stroke: rgb(255, 255, 255); stroke-opacity: 1; stroke-width: 1px;\"/></g></g><g class=\"zerolinelayer\"/><path class=\"xlines-below\"/><path class=\"ylines-below\"/><g class=\"overlines-below\"/><g class=\"xaxislayer-below\"/><g class=\"yaxislayer-below\"/><g class=\"overaxes-below\"/><g class=\"plot\" transform=\"translate(80,100)\" clip-path=\"url(#clipc227bcxyplot)\"><g class=\"boxlayer mlayer\"><g class=\"trace boxes\" style=\"opacity: 1;\"><path class=\"box\" d=\"M27.87,171.7H81.42M27.87,192.05H81.42V133.25H27.87ZM54.64,192.05V205.33M54.64,133.25V110.33M41.26,205.33H68.03M41.26,110.33H68.03\" style=\"vector-effect: non-scaling-stroke; stroke-width: 2px; stroke: rgb(99, 110, 250); stroke-opacity: 1; fill: rgb(99, 110, 250); fill-opacity: 0.5;\"/><g class=\"points\"/></g><g class=\"trace boxes\" style=\"opacity: 1;\"><path class=\"box\" d=\"M137.15,161.14H190.7M137.15,164.65H190.7V129.98H137.15ZM163.93,164.65V170.44M163.93,129.98V97.55M150.54,170.44H177.32M150.54,97.55H177.32\" style=\"vector-effect: non-scaling-stroke; stroke-width: 2px; stroke: rgb(239, 85, 59); stroke-opacity: 1; fill: rgb(239, 85, 59); fill-opacity: 0.5;\"/><g class=\"points\"/></g><g class=\"trace boxes\" style=\"opacity: 1;\"><path class=\"box\" d=\"M246.44,71.38H299.99M246.44,110.81H299.99V19.38H246.44ZM273.21,110.81V176.1M273.21,19.38V13.5M259.83,176.1H286.6M259.83,13.5H286.6\" style=\"vector-effect: non-scaling-stroke; stroke-width: 2px; stroke: rgb(0, 204, 150); stroke-opacity: 1; fill: rgb(0, 204, 150); fill-opacity: 0.5;\"/><g class=\"points\"/></g><g class=\"trace boxes\" style=\"opacity: 1;\"><path class=\"box\" d=\"M355.73,123.93H409.28M355.73,134.61H409.28V84.98H355.73ZM382.5,134.61V164.33M382.5,84.98V42.26M369.11,164.33H395.89M369.11,42.26H395.89\" style=\"vector-effect: non-scaling-stroke; stroke-width: 2px; stroke: rgb(171, 99, 250); stroke-opacity: 1; fill: rgb(171, 99, 250); fill-opacity: 0.5;\"/><g class=\"points\"/></g><g class=\"trace boxes\" style=\"opacity: 1;\"><path class=\"box\" d=\"M465.01,190.83H518.56M465.01,226.53H518.56V181.98H465.01ZM491.79,226.53V256.5M491.79,181.98V172.78M478.4,256.5H505.17M478.4,172.78H505.17\" style=\"vector-effect: non-scaling-stroke; stroke-width: 2px; stroke: rgb(255, 161, 90); stroke-opacity: 1; fill: rgb(255, 161, 90); fill-opacity: 0.5;\"/><g class=\"points\"/></g><g class=\"trace boxes\" style=\"opacity: 1;\"><path class=\"box\" d=\"M574.3,207.38H627.85M574.3,219.32H627.85V197.55H574.3ZM601.07,219.32V248.81M601.07,197.55V171.72M587.68,248.81H614.46M587.68,171.72H614.46\" style=\"vector-effect: non-scaling-stroke; stroke-width: 2px; stroke: rgb(25, 211, 243); stroke-opacity: 1; fill: rgb(25, 211, 243); fill-opacity: 0.5;\"/><g class=\"points\"/></g><g class=\"trace boxes\" style=\"opacity: 1;\"><path class=\"box\" d=\"M683.58,196.54H737.13M683.58,214.03H737.13V166.82H683.58ZM710.36,214.03V245.72M710.36,166.82V153.99M696.97,245.72H723.74M696.97,153.99H723.74\" style=\"vector-effect: non-scaling-stroke; stroke-width: 2px; stroke: rgb(255, 102, 146); stroke-opacity: 1; fill: rgb(255, 102, 146); fill-opacity: 0.5;\"/><g class=\"points\"/></g></g></g><g class=\"overplot\"/><path class=\"xlines-above crisp\" d=\"M0,0\" style=\"fill: none;\"/><path class=\"ylines-above crisp\" d=\"M0,0\" style=\"fill: none;\"/><g class=\"overlines-above\"/><g class=\"xaxislayer-above\"><g class=\"xtick\"><text text-anchor=\"middle\" x=\"0\" y=\"383\" transform=\"translate(134.64,0)\" style=\"font-family: 'Open Sans', verdana, arial, sans-serif; font-size: 12px; fill: rgb(42, 63, 95); fill-opacity: 1; white-space: pre; opacity: 1;\">EN</text></g><g class=\"xtick\"><text text-anchor=\"middle\" x=\"0\" y=\"383\" transform=\"translate(243.93,0)\" style=\"font-family: 'Open Sans', verdana, arial, sans-serif; font-size: 12px; fill: rgb(42, 63, 95); fill-opacity: 1; white-space: pre; opacity: 1;\">CART</text></g><g class=\"xtick\"><text text-anchor=\"middle\" x=\"0\" y=\"383\" transform=\"translate(353.21,0)\" style=\"font-family: 'Open Sans', verdana, arial, sans-serif; font-size: 12px; fill: rgb(42, 63, 95); fill-opacity: 1; white-space: pre; opacity: 1;\">SVR</text></g><g class=\"xtick\"><text text-anchor=\"middle\" x=\"0\" y=\"383\" transform=\"translate(462.5,0)\" style=\"font-family: 'Open Sans', verdana, arial, sans-serif; font-size: 12px; fill: rgb(42, 63, 95); fill-opacity: 1; white-space: pre; opacity: 1;\">KNN</text></g><g class=\"xtick\"><text text-anchor=\"middle\" x=\"0\" y=\"383\" transform=\"translate(571.79,0)\" style=\"font-family: 'Open Sans', verdana, arial, sans-serif; font-size: 12px; fill: rgb(42, 63, 95); fill-opacity: 1; white-space: pre; opacity: 1;\">GBR</text></g><g class=\"xtick\"><text text-anchor=\"middle\" x=\"0\" y=\"383\" transform=\"translate(681.07,0)\" style=\"font-family: 'Open Sans', verdana, arial, sans-serif; font-size: 12px; fill: rgb(42, 63, 95); fill-opacity: 1; white-space: pre; opacity: 1;\">RFR</text></g><g class=\"xtick\"><text text-anchor=\"middle\" x=\"0\" y=\"383\" transform=\"translate(790.36,0)\" style=\"font-family: 'Open Sans', verdana, arial, sans-serif; font-size: 12px; fill: rgb(42, 63, 95); fill-opacity: 1; white-space: pre; opacity: 1;\">XGB</text></g></g><g class=\"yaxislayer-above\"><g class=\"ytick\"><text text-anchor=\"end\" x=\"79\" y=\"4.199999999999999\" transform=\"translate(0,348.05)\" style=\"font-family: 'Open Sans', verdana, arial, sans-serif; font-size: 12px; fill: rgb(42, 63, 95); fill-opacity: 1; white-space: pre; opacity: 1;\">5</text></g><g class=\"ytick\"><text text-anchor=\"end\" x=\"79\" y=\"4.199999999999999\" style=\"font-family: 'Open Sans', verdana, arial, sans-serif; font-size: 12px; fill: rgb(42, 63, 95); fill-opacity: 1; white-space: pre; opacity: 1;\" transform=\"translate(0,294.06)\">10</text></g><g class=\"ytick\"><text text-anchor=\"end\" x=\"79\" y=\"4.199999999999999\" style=\"font-family: 'Open Sans', verdana, arial, sans-serif; font-size: 12px; fill: rgb(42, 63, 95); fill-opacity: 1; white-space: pre; opacity: 1;\" transform=\"translate(0,240.07)\">15</text></g><g class=\"ytick\"><text text-anchor=\"end\" x=\"79\" y=\"4.199999999999999\" style=\"font-family: 'Open Sans', verdana, arial, sans-serif; font-size: 12px; fill: rgb(42, 63, 95); fill-opacity: 1; white-space: pre; opacity: 1;\" transform=\"translate(0,186.07)\">20</text></g><g class=\"ytick\"><text text-anchor=\"end\" x=\"79\" y=\"4.199999999999999\" style=\"font-family: 'Open Sans', verdana, arial, sans-serif; font-size: 12px; fill: rgb(42, 63, 95); fill-opacity: 1; white-space: pre; opacity: 1;\" transform=\"translate(0,132.07999999999998)\">25</text></g></g><g class=\"overaxes-above\"/></g></g><g class=\"polarlayer\"/><g class=\"smithlayer\"/><g class=\"ternarylayer\"/><g class=\"geolayer\"/><g class=\"funnelarealayer\"/><g class=\"pielayer\"/><g class=\"iciclelayer\"/><g class=\"treemaplayer\"/><g class=\"sunburstlayer\"/><g class=\"glimages\"/><defs id=\"topdefs-c227bc\"><g class=\"clips\"/><clipPath id=\"legendc227bc\"><rect width=\"78\" height=\"143\" x=\"0\" y=\"0\"/></clipPath></defs><g class=\"layer-above\"><g class=\"imagelayer\"/><g class=\"shapelayer\"/></g><g class=\"infolayer\"><g class=\"legend\" pointer-events=\"all\" transform=\"translate(860.3000000000001,100)\"><rect class=\"bg\" shape-rendering=\"crispEdges\" style=\"stroke: rgb(68, 68, 68); stroke-opacity: 1; fill: rgb(255, 255, 255); fill-opacity: 1; stroke-width: 0px;\" width=\"78\" height=\"143\" x=\"0\" y=\"0\"/><g class=\"scrollbox\" transform=\"\" clip-path=\"url(#legendc227bc)\"><g class=\"groups\"><g class=\"traces\" transform=\"translate(0,14.5)\" style=\"opacity: 1;\"><text class=\"legendtext\" text-anchor=\"start\" x=\"40\" y=\"4.680000000000001\" style=\"font-family: 'Open Sans', verdana, arial, sans-serif; font-size: 12px; fill: rgb(42, 63, 95); fill-opacity: 1; white-space: pre;\">EN</text><g class=\"layers\" style=\"opacity: 1;\"><g class=\"legendfill\"/><g class=\"legendlines\"/><g class=\"legendsymbols\"><g class=\"legendpoints\"><path class=\"legendbox\" d=\"M6,6H-6V-6H6Z\" transform=\"translate(20,0)\" style=\"stroke-width: 2px; fill: rgb(99, 110, 250); fill-opacity: 0.5; stroke: rgb(99, 110, 250); stroke-opacity: 1;\"/></g></g></g><rect class=\"legendtoggle\" x=\"0\" y=\"-9.5\" width=\"72.578125\" height=\"19\" style=\"fill: rgb(0, 0, 0); fill-opacity: 0;\"/></g><g class=\"traces\" transform=\"translate(0,33.5)\" style=\"opacity: 1;\"><text class=\"legendtext\" text-anchor=\"start\" x=\"40\" y=\"4.680000000000001\" style=\"font-family: 'Open Sans', verdana, arial, sans-serif; font-size: 12px; fill: rgb(42, 63, 95); fill-opacity: 1; white-space: pre;\">CART</text><g class=\"layers\" style=\"opacity: 1;\"><g class=\"legendfill\"/><g class=\"legendlines\"/><g class=\"legendsymbols\"><g class=\"legendpoints\"><path class=\"legendbox\" d=\"M6,6H-6V-6H6Z\" transform=\"translate(20,0)\" style=\"stroke-width: 2px; fill: rgb(239, 85, 59); fill-opacity: 0.5; stroke: rgb(239, 85, 59); stroke-opacity: 1;\"/></g></g></g><rect class=\"legendtoggle\" x=\"0\" y=\"-9.5\" width=\"72.578125\" height=\"19\" style=\"fill: rgb(0, 0, 0); fill-opacity: 0;\"/></g><g class=\"traces\" transform=\"translate(0,52.5)\" style=\"opacity: 1;\"><text class=\"legendtext\" text-anchor=\"start\" x=\"40\" y=\"4.680000000000001\" style=\"font-family: 'Open Sans', verdana, arial, sans-serif; font-size: 12px; fill: rgb(42, 63, 95); fill-opacity: 1; white-space: pre;\">SVR</text><g class=\"layers\" style=\"opacity: 1;\"><g class=\"legendfill\"/><g class=\"legendlines\"/><g class=\"legendsymbols\"><g class=\"legendpoints\"><path class=\"legendbox\" d=\"M6,6H-6V-6H6Z\" transform=\"translate(20,0)\" style=\"stroke-width: 2px; fill: rgb(0, 204, 150); fill-opacity: 0.5; stroke: rgb(0, 204, 150); stroke-opacity: 1;\"/></g></g></g><rect class=\"legendtoggle\" x=\"0\" y=\"-9.5\" width=\"72.578125\" height=\"19\" style=\"fill: rgb(0, 0, 0); fill-opacity: 0;\"/></g><g class=\"traces\" transform=\"translate(0,71.5)\" style=\"opacity: 1;\"><text class=\"legendtext\" text-anchor=\"start\" x=\"40\" y=\"4.680000000000001\" style=\"font-family: 'Open Sans', verdana, arial, sans-serif; font-size: 12px; fill: rgb(42, 63, 95); fill-opacity: 1; white-space: pre;\">KNN</text><g class=\"layers\" style=\"opacity: 1;\"><g class=\"legendfill\"/><g class=\"legendlines\"/><g class=\"legendsymbols\"><g class=\"legendpoints\"><path class=\"legendbox\" d=\"M6,6H-6V-6H6Z\" transform=\"translate(20,0)\" style=\"stroke-width: 2px; fill: rgb(171, 99, 250); fill-opacity: 0.5; stroke: rgb(171, 99, 250); stroke-opacity: 1;\"/></g></g></g><rect class=\"legendtoggle\" x=\"0\" y=\"-9.5\" width=\"72.578125\" height=\"19\" style=\"fill: rgb(0, 0, 0); fill-opacity: 0;\"/></g><g class=\"traces\" transform=\"translate(0,90.5)\" style=\"opacity: 1;\"><text class=\"legendtext\" text-anchor=\"start\" x=\"40\" y=\"4.680000000000001\" style=\"font-family: 'Open Sans', verdana, arial, sans-serif; font-size: 12px; fill: rgb(42, 63, 95); fill-opacity: 1; white-space: pre;\">GBR</text><g class=\"layers\" style=\"opacity: 1;\"><g class=\"legendfill\"/><g class=\"legendlines\"/><g class=\"legendsymbols\"><g class=\"legendpoints\"><path class=\"legendbox\" d=\"M6,6H-6V-6H6Z\" transform=\"translate(20,0)\" style=\"stroke-width: 2px; fill: rgb(255, 161, 90); fill-opacity: 0.5; stroke: rgb(255, 161, 90); stroke-opacity: 1;\"/></g></g></g><rect class=\"legendtoggle\" x=\"0\" y=\"-9.5\" width=\"72.578125\" height=\"19\" style=\"fill: rgb(0, 0, 0); fill-opacity: 0;\"/></g><g class=\"traces\" transform=\"translate(0,109.5)\" style=\"opacity: 1;\"><text class=\"legendtext\" text-anchor=\"start\" x=\"40\" y=\"4.680000000000001\" style=\"font-family: 'Open Sans', verdana, arial, sans-serif; font-size: 12px; fill: rgb(42, 63, 95); fill-opacity: 1; white-space: pre;\">RFR</text><g class=\"layers\" style=\"opacity: 1;\"><g class=\"legendfill\"/><g class=\"legendlines\"/><g class=\"legendsymbols\"><g class=\"legendpoints\"><path class=\"legendbox\" d=\"M6,6H-6V-6H6Z\" transform=\"translate(20,0)\" style=\"stroke-width: 2px; fill: rgb(25, 211, 243); fill-opacity: 0.5; stroke: rgb(25, 211, 243); stroke-opacity: 1;\"/></g></g></g><rect class=\"legendtoggle\" x=\"0\" y=\"-9.5\" width=\"72.578125\" height=\"19\" style=\"fill: rgb(0, 0, 0); fill-opacity: 0;\"/></g><g class=\"traces\" transform=\"translate(0,128.5)\" style=\"opacity: 1;\"><text class=\"legendtext\" text-anchor=\"start\" x=\"40\" y=\"4.680000000000001\" style=\"font-family: 'Open Sans', verdana, arial, sans-serif; font-size: 12px; fill: rgb(42, 63, 95); fill-opacity: 1; white-space: pre;\">XGB</text><g class=\"layers\" style=\"opacity: 1;\"><g class=\"legendfill\"/><g class=\"legendlines\"/><g class=\"legendsymbols\"><g class=\"legendpoints\"><path class=\"legendbox\" d=\"M6,6H-6V-6H6Z\" transform=\"translate(20,0)\" style=\"stroke-width: 2px; fill: rgb(255, 102, 146); fill-opacity: 0.5; stroke: rgb(255, 102, 146); stroke-opacity: 1;\"/></g></g></g><rect class=\"legendtoggle\" x=\"0\" y=\"-9.5\" width=\"72.578125\" height=\"19\" style=\"fill: rgb(0, 0, 0); fill-opacity: 0;\"/></g></g></g><rect class=\"scrollbar\" rx=\"20\" ry=\"3\" width=\"0\" height=\"0\" style=\"fill: rgb(128, 139, 164); fill-opacity: 1;\" x=\"0\" y=\"0\"/></g><g class=\"g-gtitle\"><text class=\"gtitle\" x=\"47.5\" y=\"50\" text-anchor=\"start\" dy=\"0em\" style=\"font-family: 'Arial Black'; font-size: 20px; fill: rgb(42, 63, 95); opacity: 1; font-weight: normal; white-space: pre;\">Performance Over 5 Folds</text></g><g class=\"g-xtitle\"/><g class=\"g-ytitle\"/></g></svg>"
      ]
     },
     "metadata": {},
     "output_type": "display_data"
    }
   ],
   "source": [
    "plot_functions.kfold(scores=results)"
   ]
  },
  {
   "cell_type": "markdown",
   "id": "bb240648",
   "metadata": {},
   "source": [
    "* Note that we left out the LinearRegression's result as it's outside the scale of the other regression models.\n",
    "* Interestingly the models that performed the best had a normal distrubtion, while the models that performed worst off were skewed."
   ]
  },
  {
   "cell_type": "markdown",
   "id": "f09b63d7",
   "metadata": {},
   "source": [
    "&nbsp;"
   ]
  },
  {
   "cell_type": "markdown",
   "id": "3e135e96",
   "metadata": {},
   "source": [
    "&nbsp;\n",
    "**Author:** Aaron Chew&nbsp;&nbsp;&nbsp;&nbsp;&nbsp;&nbsp; **|** &nbsp;&nbsp;&nbsp;&nbsp;&nbsp;&nbsp;**Date Published:** 11/08/2022 &nbsp;&nbsp;&nbsp;&nbsp;&nbsp;&nbsp;**|** &nbsp;&nbsp;&nbsp;&nbsp;&nbsp;&nbsp;**Email:** aaronsamuelchew@gmail.com &nbsp;&nbsp;&nbsp;&nbsp;&nbsp;&nbsp;**|**&nbsp;&nbsp;&nbsp;&nbsp;&nbsp;&nbsp; **GitHub:** https://github.com/aaron-chew  "
   ]
  }
 ],
 "metadata": {
  "kernelspec": {
   "display_name": "Python 3",
   "language": "python",
   "name": "python3"
  },
  "language_info": {
   "codemirror_mode": {
    "name": "ipython",
    "version": 3
   },
   "file_extension": ".py",
   "mimetype": "text/x-python",
   "name": "python",
   "nbconvert_exporter": "python",
   "pygments_lexer": "ipython3",
   "version": "3.7.4"
  }
 },
 "nbformat": 4,
 "nbformat_minor": 5
}

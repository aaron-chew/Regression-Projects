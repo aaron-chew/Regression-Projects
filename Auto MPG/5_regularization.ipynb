{
 "cells": [
  {
   "cell_type": "markdown",
   "id": "562c02e9",
   "metadata": {},
   "source": [
    "&nbsp;"
   ]
  },
  {
   "cell_type": "markdown",
   "id": "25171d6c",
   "metadata": {},
   "source": [
    "# 5. Regularization \n",
    "While training a machine learning model, the model can easily be overfitted or underfitted. \n",
    "To avoid this, we use regularization in machine learning to properly fit a model onto our test set. Overfitting occurs when the model learns too much detail and noise from the training data to the point when new data is exposed, the model will perform poorly on it. Regularization techniques help reduce the chance of overfitting by either adding penalties or stopping before the validation set's performance starts to decline. "
   ]
  },
  {
   "cell_type": "code",
   "execution_count": 1,
   "id": "01ab39f4",
   "metadata": {},
   "outputs": [],
   "source": [
    "# Standard libraries. \n",
    "import pandas as pd\n",
    "import numpy as np \n",
    "import os\n",
    "from plotly.subplots import make_subplots\n",
    "import plotly.graph_objects as go\n",
    "import plotly.express as px\n",
    "\n",
    "# Importing our functions. \n",
    "import functions\n",
    "import visuals\n",
    "\n",
    "# Importing emsemble models. \n",
    "from sklearn.ensemble import GradientBoostingRegressor, RandomForestRegressor\n",
    "from xgboost import XGBRegressor\n",
    "\n",
    "# Import transformers. \n",
    "from sklearn.pipeline import Pipeline\n",
    "\n",
    "# Renders plotly figs into svg static images. \n",
    "import plotly.io as pio\n",
    "pio.renderers.default = \"svg\""
   ]
  },
  {
   "cell_type": "code",
   "execution_count": 2,
   "id": "65104777",
   "metadata": {},
   "outputs": [
    {
     "data": {
      "text/html": [
       "<div>\n",
       "<style scoped>\n",
       "    .dataframe tbody tr th:only-of-type {\n",
       "        vertical-align: middle;\n",
       "    }\n",
       "\n",
       "    .dataframe tbody tr th {\n",
       "        vertical-align: top;\n",
       "    }\n",
       "\n",
       "    .dataframe thead th {\n",
       "        text-align: right;\n",
       "    }\n",
       "</style>\n",
       "<table border=\"1\" class=\"dataframe\">\n",
       "  <thead>\n",
       "    <tr style=\"text-align: right;\">\n",
       "      <th></th>\n",
       "      <th>car name_amc ambassador brougham</th>\n",
       "      <th>car name_amc ambassador dpl</th>\n",
       "      <th>car name_amc ambassador sst</th>\n",
       "      <th>car name_amc concord</th>\n",
       "      <th>car name_amc concord dl</th>\n",
       "      <th>car name_amc concord dl 6</th>\n",
       "      <th>car name_amc gremlin</th>\n",
       "      <th>car name_amc hornet</th>\n",
       "      <th>car name_amc hornet sportabout (sw)</th>\n",
       "      <th>car name_amc matador</th>\n",
       "      <th>...</th>\n",
       "      <th>car name_vw rabbit</th>\n",
       "      <th>car name_vw rabbit c (diesel)</th>\n",
       "      <th>cylinders</th>\n",
       "      <th>displacement</th>\n",
       "      <th>horsepower</th>\n",
       "      <th>weight</th>\n",
       "      <th>acceleration</th>\n",
       "      <th>model year</th>\n",
       "      <th>origin</th>\n",
       "      <th>mpg</th>\n",
       "    </tr>\n",
       "  </thead>\n",
       "  <tbody>\n",
       "    <tr>\n",
       "      <th>0</th>\n",
       "      <td>0.0</td>\n",
       "      <td>0.0</td>\n",
       "      <td>0.0</td>\n",
       "      <td>0.0</td>\n",
       "      <td>0.0</td>\n",
       "      <td>0.0</td>\n",
       "      <td>0.0</td>\n",
       "      <td>0.0</td>\n",
       "      <td>0.0</td>\n",
       "      <td>0.0</td>\n",
       "      <td>...</td>\n",
       "      <td>0.0</td>\n",
       "      <td>0.0</td>\n",
       "      <td>6.0</td>\n",
       "      <td>173.0</td>\n",
       "      <td>110.0</td>\n",
       "      <td>2725.0</td>\n",
       "      <td>12.6</td>\n",
       "      <td>81.0</td>\n",
       "      <td>1.0</td>\n",
       "      <td>23.5</td>\n",
       "    </tr>\n",
       "    <tr>\n",
       "      <th>1</th>\n",
       "      <td>0.0</td>\n",
       "      <td>0.0</td>\n",
       "      <td>0.0</td>\n",
       "      <td>0.0</td>\n",
       "      <td>0.0</td>\n",
       "      <td>0.0</td>\n",
       "      <td>0.0</td>\n",
       "      <td>0.0</td>\n",
       "      <td>0.0</td>\n",
       "      <td>0.0</td>\n",
       "      <td>...</td>\n",
       "      <td>0.0</td>\n",
       "      <td>0.0</td>\n",
       "      <td>8.0</td>\n",
       "      <td>400.0</td>\n",
       "      <td>170.0</td>\n",
       "      <td>4746.0</td>\n",
       "      <td>12.0</td>\n",
       "      <td>71.0</td>\n",
       "      <td>1.0</td>\n",
       "      <td>13.0</td>\n",
       "    </tr>\n",
       "  </tbody>\n",
       "</table>\n",
       "<p>2 rows × 259 columns</p>\n",
       "</div>"
      ],
      "text/plain": [
       "   car name_amc ambassador brougham  car name_amc ambassador dpl  \\\n",
       "0                               0.0                          0.0   \n",
       "1                               0.0                          0.0   \n",
       "\n",
       "   car name_amc ambassador sst  car name_amc concord  car name_amc concord dl  \\\n",
       "0                          0.0                   0.0                      0.0   \n",
       "1                          0.0                   0.0                      0.0   \n",
       "\n",
       "   car name_amc concord dl 6  car name_amc gremlin  car name_amc hornet  \\\n",
       "0                        0.0                   0.0                  0.0   \n",
       "1                        0.0                   0.0                  0.0   \n",
       "\n",
       "   car name_amc hornet sportabout (sw)  car name_amc matador  ...  \\\n",
       "0                                  0.0                   0.0  ...   \n",
       "1                                  0.0                   0.0  ...   \n",
       "\n",
       "   car name_vw rabbit  car name_vw rabbit c (diesel)  cylinders  displacement  \\\n",
       "0                 0.0                            0.0        6.0         173.0   \n",
       "1                 0.0                            0.0        8.0         400.0   \n",
       "\n",
       "   horsepower  weight  acceleration  model year  origin   mpg  \n",
       "0       110.0  2725.0          12.6        81.0     1.0  23.5  \n",
       "1       170.0  4746.0          12.0        71.0     1.0  13.0  \n",
       "\n",
       "[2 rows x 259 columns]"
      ]
     },
     "execution_count": 2,
     "metadata": {},
     "output_type": "execute_result"
    }
   ],
   "source": [
    "root = os.getcwd() # Setting root directory as cwd. \n",
    "df = pd.read_csv(r\"{}\\train.csv\".format(root)) # Importing the train set.\n",
    "processed = pd.read_csv(r\"{}\\processed.csv\".format(root)) # Importing the processed train dataset.\n",
    "processed.head(2)"
   ]
  },
  {
   "cell_type": "markdown",
   "id": "813fa9d9",
   "metadata": {},
   "source": [
    "&nbsp;"
   ]
  },
  {
   "cell_type": "markdown",
   "id": "ef404921",
   "metadata": {},
   "source": [
    "### Section A: Regularization\n",
    "This section will focus on enabling regularization techniques for all our chosen models to counter overfitting. "
   ]
  },
  {
   "cell_type": "markdown",
   "id": "47ab9cc5",
   "metadata": {},
   "source": [
    "**A.1: Check for Overfitting**<br>\n",
    "Before we enable regularization it's a good idea to first check whether our models overfitted or not."
   ]
  },
  {
   "cell_type": "code",
   "execution_count": 3,
   "id": "0148769d",
   "metadata": {},
   "outputs": [],
   "source": [
    "# Splitting the data. \n",
    "X = df.iloc[:,:-1] \n",
    "y = df.iloc[:,-1]"
   ]
  },
  {
   "cell_type": "code",
   "execution_count": 4,
   "id": "0c2955b7",
   "metadata": {},
   "outputs": [
    {
     "name": "stdout",
     "output_type": "stream",
     "text": [
      "Model scored an Train_MSE_Score of: -0.51 and a Validation_MSE of: -9.09\n"
     ]
    }
   ],
   "source": [
    "overfitGBR = functions.model_evaluation()\n",
    "overfitGBR.preprocessing(df)\n",
    "overfitGBR.add_pipe_component(\"clf\", GradientBoostingRegressor(learning_rate=0.1, max_depth=50, min_samples_split=50, n_estimators=50))\n",
    "pipe = Pipeline(steps=overfitGBR.estimators)\n",
    "pipe = pipe.fit(X, y)\n",
    "overfitGBR.overfitting_checker(X, y, pipe)"
   ]
  },
  {
   "cell_type": "code",
   "execution_count": 5,
   "id": "abb0d74f",
   "metadata": {},
   "outputs": [
    {
     "name": "stdout",
     "output_type": "stream",
     "text": [
      "Model scored an Train_MSE_Score of: -2.23 and a Validation_MSE of: -8.97\n"
     ]
    }
   ],
   "source": [
    "overfitRFR = functions.model_evaluation()\n",
    "overfitRFR.preprocessing(df)\n",
    "overfitRFR.add_pipe_component(\"clf\", RandomForestRegressor(max_depth=50, min_samples_split=2, min_samples_leaf=2, \n",
    "                                                           n_estimators=50))\n",
    "pipe = Pipeline(steps=overfitRFR.estimators)\n",
    "pipe = pipe.fit(X, y)\n",
    "overfitRFR.overfitting_checker(X, y, pipe)"
   ]
  },
  {
   "cell_type": "code",
   "execution_count": 6,
   "id": "32a4bffc",
   "metadata": {},
   "outputs": [
    {
     "name": "stdout",
     "output_type": "stream",
     "text": [
      "Model scored an Train_MSE_Score of: -0.57 and a Validation_MSE of: -8.82\n"
     ]
    }
   ],
   "source": [
    "overfitXGB = functions.model_evaluation()\n",
    "overfitXGB.preprocessing(df)\n",
    "overfitXGB.add_pipe_component(\"clf\", XGBRegressor(learning_rate=0.1, max_depth=20, min_child_weight=15, n_estimators=250))\n",
    "pipe = Pipeline(steps=overfitXGB.estimators)\n",
    "pipe = pipe.fit(X, y)\n",
    "overfitXGB.overfitting_checker(X, y, pipe)"
   ]
  },
  {
   "cell_type": "markdown",
   "id": "82c4423b",
   "metadata": {},
   "source": [
    "* It seems like for most models there is some degree of overfitting, so in the next section we'll enable regularization to punish mdoels that overfit."
   ]
  },
  {
   "cell_type": "markdown",
   "id": "afb6b140",
   "metadata": {},
   "source": [
    "| Model | Model Type | Train MSE | Validation MSE |\n",
    "|---------|---------|---------|---------|\n",
    "| **Gradient Boosting Regressor** |  Base Model | 0.51 |9.17 |\n",
    "| **Random Forest Regressor** |  Base Model | 2.25 |9.11 |\n",
    "| **XGB Regressor** |  Base Model | 0.57 |8.82 |"
   ]
  },
  {
   "cell_type": "markdown",
   "id": "8dc36eb1",
   "metadata": {},
   "source": [
    "**A.3: Regularizing Gradient Boosting Regressor**<br>\n",
    "To enable early stopping for our Gradient Boosting Regressor, we include the \"n_iter_no_change\" (early stopping), \"validation_fraction\" (validation set %) and \"tol\" (tolerance level) parameters."
   ]
  },
  {
   "cell_type": "code",
   "execution_count": 7,
   "id": "21552700",
   "metadata": {},
   "outputs": [
    {
     "name": "stdout",
     "output_type": "stream",
     "text": [
      "Model scored an Train_MSE_Score of: 5.36 and a Validation_MSE of: 10.45 and the difference between the two is: 5.09\n"
     ]
    }
   ],
   "source": [
    "testGBR, trainGBR, testTrainDifference = list(), list(), list()\n",
    "\n",
    "# ML algorithms are stochastic in nature, so we'll evlauate our model through 10 iterations. \n",
    "for i in range(1,11): \n",
    "    # Check if the model overfit. \n",
    "    GBR = functions.model_evaluation()\n",
    "    GBR.preprocessing(df)\n",
    "    # Checking if our hypertuned models overfited.\n",
    "    GBR.add_pipe_component(\"clf\", GradientBoostingRegressor(learning_rate=0.1, max_depth=50, min_samples_split=50, n_estimators=50,\n",
    "                                                            validation_fraction=0.2, n_iter_no_change=5, tol=1))\n",
    "    pipe = Pipeline(steps=GBR.estimators)\n",
    "    pipe = pipe.fit(X, y)\n",
    "    GBR.overfitting_checker_no_print(X, y, pipe) \n",
    "    \n",
    "    # Storing average results.  \n",
    "    trainGBR.append(abs(GBR.results[\"train_score\"].mean()))\n",
    "    testGBR.append(abs(GBR.results[\"test_score\"].mean()))\n",
    "    testTrainDifference.append(round(abs(GBR.results[\"test_score\"].mean()) - abs(GBR.results[\"train_score\"].mean()),2))\n",
    "    \n",
    "print('Model scored an Train_MSE_Score of: %.2f and a Validation_MSE of: %.2f and the difference between the two is: %.2f' \n",
    "      % (np.mean(trainGBR), np.mean(testGBR), np.mean(testTrainDifference)))"
   ]
  },
  {
   "cell_type": "markdown",
   "id": "c1e6f524",
   "metadata": {},
   "source": [
    "**A.4: Regularizing Random Forest Regressor**<br>\n",
    "To regularize our Random Forest Regressor we increased our min_samples_split to 25."
   ]
  },
  {
   "cell_type": "code",
   "execution_count": 8,
   "id": "57cc45a1",
   "metadata": {},
   "outputs": [
    {
     "name": "stdout",
     "output_type": "stream",
     "text": [
      "Model scored an Train_MSE_Score of: 6.66 and a Validation_MSE of: 10.59 and the difference between the two is: 3.93\n"
     ]
    }
   ],
   "source": [
    "testRFR, trainRFR, testTrainDifference = list(), list(), list()\n",
    "\n",
    "# ML algorithms are stochastic in nature, so we'll evlauate our model through 10 iterations. \n",
    "for i in range(1,11): \n",
    "    # Check if the model overfit. \n",
    "    RFR = functions.model_evaluation()\n",
    "    RFR.preprocessing(df)\n",
    "    # Checking if our hypertuned models overfited.\n",
    "    RFR.add_pipe_component(\"clf\", RandomForestRegressor(max_depth=50, min_samples_split=25, min_samples_leaf=2, \n",
    "                                                               n_estimators=50))\n",
    "    pipe = Pipeline(steps=RFR.estimators)\n",
    "    pipe = pipe.fit(X, y)\n",
    "    RFR.overfitting_checker_no_print(X, y, pipe) \n",
    "\n",
    "    # Storing average results.  \n",
    "    trainRFR.append(abs(RFR.results[\"train_score\"].mean()))\n",
    "    testRFR.append(abs(RFR.results[\"test_score\"].mean()))\n",
    "    testTrainDifference.append(round(abs(RFR.results[\"test_score\"].mean()) - abs(RFR.results[\"train_score\"].mean()),2))\n",
    "    \n",
    "print('Model scored an Train_MSE_Score of: %.2f and a Validation_MSE of: %.2f and the difference between the two is: %.2f' \n",
    "      % (np.mean(trainRFR), np.mean(testRFR), np.mean(testTrainDifference)))"
   ]
  },
  {
   "cell_type": "markdown",
   "id": "c38cd593",
   "metadata": {},
   "source": [
    "| Model | Model Type | Regularization Metrics | MSE |\n",
    "|---------|---------|---------|---------|\n",
    "| **Gradient Boosting Regressor** | Base Model|validation_fraction=0.2, n_iter_no_change=5, tol=1 | 10.50 |\n",
    "| **Random Forest Regressor** | Log Transformed | min_samples_split=25, max_depth=18 |10.54 |"
   ]
  },
  {
   "cell_type": "markdown",
   "id": "e57be471",
   "metadata": {},
   "source": [
    "**A.5: Regularizing XGB Regressor**<br>\n",
    "To regularize our XGB Regressor we can implement the early stopping technique. This method involves the algorithm to stop training n number of epochs once the loss function of the validation set starts to deteroriate."
   ]
  },
  {
   "cell_type": "code",
   "execution_count": 9,
   "id": "593d893b",
   "metadata": {},
   "outputs": [],
   "source": [
    "# Splitting the data. \n",
    "X = processed.iloc[:,:-1]\n",
    "y = processed.iloc[:,-1]"
   ]
  },
  {
   "cell_type": "code",
   "execution_count": 10,
   "id": "ad1393f6",
   "metadata": {},
   "outputs": [],
   "source": [
    "# We'll set \"n_estimators\" to 500, to ensure the model has enough training time to overfit. \n",
    "XGBR = functions.Early_Stopping(X, y, XGBRegressor(eval_metric=[\"mae\"], learning_rate=0.1, max_depth=20, \n",
    "                                                   min_child_weight=15, n_estimators=1000))"
   ]
  },
  {
   "cell_type": "code",
   "execution_count": 11,
   "id": "28353de5",
   "metadata": {},
   "outputs": [
    {
     "data": {
      "image/svg+xml": [
       "<svg class=\"main-svg\" xmlns=\"http://www.w3.org/2000/svg\" xmlns:xlink=\"http://www.w3.org/1999/xlink\" width=\"800\" height=\"400\" style=\"\" viewBox=\"0 0 800 400\"><rect x=\"0\" y=\"0\" width=\"800\" height=\"400\" style=\"fill: rgb(255, 255, 255); fill-opacity: 1;\"/><defs id=\"defs-1138f6\"><g class=\"clips\"><clipPath id=\"clip1138f6xyplot\" class=\"plotclip\"><rect width=\"620\" height=\"220\"/></clipPath><clipPath class=\"axesclip\" id=\"clip1138f6x\"><rect x=\"80\" y=\"0\" width=\"620\" height=\"400\"/></clipPath><clipPath class=\"axesclip\" id=\"clip1138f6y\"><rect x=\"0\" y=\"100\" width=\"800\" height=\"220\"/></clipPath><clipPath class=\"axesclip\" id=\"clip1138f6xy\"><rect x=\"80\" y=\"100\" width=\"620\" height=\"220\"/></clipPath></g><g class=\"gradients\"/><g class=\"patterns\"/></defs><g class=\"bglayer\"><rect class=\"bg\" x=\"80\" y=\"100\" width=\"620\" height=\"220\" style=\"fill: rgb(248, 248, 246); fill-opacity: 1; stroke-width: 0;\"/></g><g class=\"layer-below\"><g class=\"imagelayer\"/><g class=\"shapelayer\"/></g><g class=\"cartesianlayer\"><g class=\"subplot xy\"><g class=\"layer-subplot\"><g class=\"shapelayer\"/><g class=\"imagelayer\"/></g><g class=\"minor-gridlayer\"><g class=\"x\"/><g class=\"y\"/></g><g class=\"gridlayer\"><g class=\"x\"><path class=\"xgrid crisp\" transform=\"translate(204.12,0)\" d=\"M0,100v220\" style=\"stroke: rgb(255, 255, 255); stroke-opacity: 1; stroke-width: 1px;\"/><path class=\"xgrid crisp\" transform=\"translate(328.25,0)\" d=\"M0,100v220\" style=\"stroke: rgb(255, 255, 255); stroke-opacity: 1; stroke-width: 1px;\"/><path class=\"xgrid crisp\" transform=\"translate(452.37,0)\" d=\"M0,100v220\" style=\"stroke: rgb(255, 255, 255); stroke-opacity: 1; stroke-width: 1px;\"/><path class=\"xgrid crisp\" transform=\"translate(576.5,0)\" d=\"M0,100v220\" style=\"stroke: rgb(255, 255, 255); stroke-opacity: 1; stroke-width: 1px;\"/></g><g class=\"y\"><path class=\"ygrid crisp\" transform=\"translate(0,263.08000000000004)\" d=\"M80,0h620\" style=\"stroke: rgb(255, 255, 255); stroke-opacity: 1; stroke-width: 1px;\"/><path class=\"ygrid crisp\" transform=\"translate(0,216.28)\" d=\"M80,0h620\" style=\"stroke: rgb(255, 255, 255); stroke-opacity: 1; stroke-width: 1px;\"/><path class=\"ygrid crisp\" transform=\"translate(0,169.48000000000002)\" d=\"M80,0h620\" style=\"stroke: rgb(255, 255, 255); stroke-opacity: 1; stroke-width: 1px;\"/><path class=\"ygrid crisp\" transform=\"translate(0,122.68)\" d=\"M80,0h620\" style=\"stroke: rgb(255, 255, 255); stroke-opacity: 1; stroke-width: 1px;\"/></g></g><g class=\"zerolinelayer\"><path class=\"xzl zl crisp\" transform=\"translate(80,0)\" d=\"M0,100v220\" style=\"stroke: rgb(255, 255, 255); stroke-opacity: 1; stroke-width: 2px;\"/><path class=\"yzl zl crisp\" transform=\"translate(0,309.88)\" d=\"M80,0h620\" style=\"stroke: rgb(255, 255, 255); stroke-opacity: 1; stroke-width: 2px;\"/></g><path class=\"xlines-below\"/><path class=\"ylines-below\"/><g class=\"overlines-below\"/><g class=\"xaxislayer-below\"/><g class=\"yaxislayer-below\"/><g class=\"overaxes-below\"/><g class=\"plot\" transform=\"translate(80,100)\" clip-path=\"url(#clip1138f6xyplot)\"><g class=\"scatterlayer mlayer\"><g class=\"trace scatter trace3fd594\" style=\"stroke-miterlimit: 2; opacity: 1;\"><g class=\"fills\"/><g class=\"errorbars\"/><g class=\"lines\"><path class=\"js-line\" d=\"M0,11L3.1,90.03L3.72,101.53L6.83,143.41L7.45,149.45L9.93,167.19L10.55,170.19L13.03,178.39L13.65,179.62L16.14,183.05L16.76,183.53L20.48,185.57L21.1,185.68L28.55,186.48L29.17,186.51L34.75,186.58L35.38,186.62L63.3,186.44L63.92,186.46L75.72,186.6L76.34,186.61L96.2,186.7L96.82,186.7L152.67,186.88L153.29,186.86L178.74,186.95L179.36,186.95L225.29,186.96L225.91,186.95L620,186.95\" style=\"vector-effect: non-scaling-stroke; fill: none; stroke: rgb(99, 110, 250); stroke-opacity: 1; stroke-width: 2px; opacity: 1;\"/></g><g class=\"points\"/><g class=\"text\"/></g><g class=\"trace scatter traceab431f\" style=\"stroke-miterlimit: 2; opacity: 1;\"><g class=\"fills\"/><g class=\"errorbars\"/><g class=\"lines\"><path class=\"js-line\" d=\"M0,16.75L3.1,94.17L3.72,105.49L6.83,147.2L7.45,153.24L10.55,175.25L11.17,178.36L14.27,188.89L14.89,190.16L18,194.46L18.62,195.03L22.96,197.43L23.58,197.66L31.03,199.25L31.65,199.33L41.58,200.49L42.2,200.57L99.3,203.65L99.92,203.67L140.88,204.91L141.5,204.92L211.63,206.44L212.25,206.44L253.21,207.02L253.83,207.02L358.1,207.96L358.72,207.96L430.09,208.37L430.71,208.37L491.53,208.61L492.15,208.61L549.25,208.79L549.87,208.79L620,209\" style=\"vector-effect: non-scaling-stroke; fill: none; stroke: rgb(239, 85, 59); stroke-opacity: 1; stroke-width: 2px; opacity: 1;\"/></g><g class=\"points\"/><g class=\"text\"/></g></g></g><g class=\"overplot\"/><path class=\"xlines-above crisp\" d=\"M0,0\" style=\"fill: none;\"/><path class=\"ylines-above crisp\" d=\"M0,0\" style=\"fill: none;\"/><g class=\"overlines-above\"/><g class=\"xaxislayer-above\"><g class=\"xtick\"><text text-anchor=\"middle\" x=\"0\" y=\"333\" transform=\"translate(80,0)\" style=\"font-family: 'Open Sans', verdana, arial, sans-serif; font-size: 12px; fill: rgb(42, 63, 95); fill-opacity: 1; white-space: pre; opacity: 1;\">0</text></g><g class=\"xtick\"><text text-anchor=\"middle\" x=\"0\" y=\"333\" style=\"font-family: 'Open Sans', verdana, arial, sans-serif; font-size: 12px; fill: rgb(42, 63, 95); fill-opacity: 1; white-space: pre; opacity: 1;\" transform=\"translate(204.12,0)\">200</text></g><g class=\"xtick\"><text text-anchor=\"middle\" x=\"0\" y=\"333\" style=\"font-family: 'Open Sans', verdana, arial, sans-serif; font-size: 12px; fill: rgb(42, 63, 95); fill-opacity: 1; white-space: pre; opacity: 1;\" transform=\"translate(328.25,0)\">400</text></g><g class=\"xtick\"><text text-anchor=\"middle\" x=\"0\" y=\"333\" style=\"font-family: 'Open Sans', verdana, arial, sans-serif; font-size: 12px; fill: rgb(42, 63, 95); fill-opacity: 1; white-space: pre; opacity: 1;\" transform=\"translate(452.37,0)\">600</text></g><g class=\"xtick\"><text text-anchor=\"middle\" x=\"0\" y=\"333\" style=\"font-family: 'Open Sans', verdana, arial, sans-serif; font-size: 12px; fill: rgb(42, 63, 95); fill-opacity: 1; white-space: pre; opacity: 1;\" transform=\"translate(576.5,0)\">800</text></g></g><g class=\"yaxislayer-above\"><g class=\"ytick\"><text text-anchor=\"end\" x=\"79\" y=\"4.199999999999999\" transform=\"translate(0,309.88)\" style=\"font-family: 'Open Sans', verdana, arial, sans-serif; font-size: 12px; fill: rgb(42, 63, 95); fill-opacity: 1; white-space: pre; opacity: 1;\">0</text></g><g class=\"ytick\"><text text-anchor=\"end\" x=\"79\" y=\"4.199999999999999\" style=\"font-family: 'Open Sans', verdana, arial, sans-serif; font-size: 12px; fill: rgb(42, 63, 95); fill-opacity: 1; white-space: pre; opacity: 1;\" transform=\"translate(0,263.08000000000004)\">5</text></g><g class=\"ytick\"><text text-anchor=\"end\" x=\"79\" y=\"4.199999999999999\" style=\"font-family: 'Open Sans', verdana, arial, sans-serif; font-size: 12px; fill: rgb(42, 63, 95); fill-opacity: 1; white-space: pre; opacity: 1;\" transform=\"translate(0,216.28)\">10</text></g><g class=\"ytick\"><text text-anchor=\"end\" x=\"79\" y=\"4.199999999999999\" style=\"font-family: 'Open Sans', verdana, arial, sans-serif; font-size: 12px; fill: rgb(42, 63, 95); fill-opacity: 1; white-space: pre; opacity: 1;\" transform=\"translate(0,169.48000000000002)\">15</text></g><g class=\"ytick\"><text text-anchor=\"end\" x=\"79\" y=\"4.199999999999999\" style=\"font-family: 'Open Sans', verdana, arial, sans-serif; font-size: 12px; fill: rgb(42, 63, 95); fill-opacity: 1; white-space: pre; opacity: 1;\" transform=\"translate(0,122.68)\">20</text></g></g><g class=\"overaxes-above\"/></g></g><g class=\"polarlayer\"/><g class=\"smithlayer\"/><g class=\"ternarylayer\"/><g class=\"geolayer\"/><g class=\"funnelarealayer\"/><g class=\"pielayer\"/><g class=\"iciclelayer\"/><g class=\"treemaplayer\"/><g class=\"sunburstlayer\"/><g class=\"glimages\"/><defs id=\"topdefs-1138f6\"><g class=\"clips\"/><clipPath id=\"legend1138f6\"><rect width=\"76\" height=\"48\" x=\"0\" y=\"0\"/></clipPath></defs><g class=\"layer-above\"><g class=\"imagelayer\"/><g class=\"shapelayer\"/></g><g class=\"infolayer\"><g class=\"legend\" pointer-events=\"all\" transform=\"translate(712.4,100)\"><rect class=\"bg\" shape-rendering=\"crispEdges\" style=\"stroke: rgb(68, 68, 68); stroke-opacity: 1; fill: rgb(255, 255, 255); fill-opacity: 1; stroke-width: 0px;\" width=\"76\" height=\"48\" x=\"0\" y=\"0\"/><g class=\"scrollbox\" transform=\"\" clip-path=\"url(#legend1138f6)\"><g class=\"groups\"><g class=\"traces\" transform=\"translate(0,14.5)\" style=\"opacity: 1;\"><text class=\"legendtext\" text-anchor=\"start\" x=\"40\" y=\"4.680000000000001\" style=\"font-family: 'Open Sans', verdana, arial, sans-serif; font-size: 12px; fill: rgb(42, 63, 95); fill-opacity: 1; white-space: pre;\">Train</text><g class=\"layers\" style=\"opacity: 1;\"><g class=\"legendfill\"/><g class=\"legendlines\"><path class=\"js-line\" d=\"M5,0h30\" style=\"fill: none; stroke: rgb(99, 110, 250); stroke-opacity: 1; stroke-width: 2px;\"/></g><g class=\"legendsymbols\"><g class=\"legendpoints\"/></g></g><rect class=\"legendtoggle\" x=\"0\" y=\"-9.5\" width=\"70.234375\" height=\"19\" style=\"fill: rgb(0, 0, 0); fill-opacity: 0;\"/></g><g class=\"traces\" transform=\"translate(0,33.5)\" style=\"opacity: 1;\"><text class=\"legendtext\" text-anchor=\"start\" x=\"40\" y=\"4.680000000000001\" style=\"font-family: 'Open Sans', verdana, arial, sans-serif; font-size: 12px; fill: rgb(42, 63, 95); fill-opacity: 1; white-space: pre;\">Test</text><g class=\"layers\" style=\"opacity: 1;\"><g class=\"legendfill\"/><g class=\"legendlines\"><path class=\"js-line\" d=\"M5,0h30\" style=\"fill: none; stroke: rgb(239, 85, 59); stroke-opacity: 1; stroke-width: 2px;\"/></g><g class=\"legendsymbols\"><g class=\"legendpoints\"/></g></g><rect class=\"legendtoggle\" x=\"0\" y=\"-9.5\" width=\"70.234375\" height=\"19\" style=\"fill: rgb(0, 0, 0); fill-opacity: 0;\"/></g></g></g><rect class=\"scrollbar\" rx=\"20\" ry=\"3\" width=\"0\" height=\"0\" style=\"fill: rgb(128, 139, 164); fill-opacity: 1;\" x=\"0\" y=\"0\"/></g><g class=\"g-gtitle\"><text class=\"gtitle\" x=\"40\" y=\"50\" text-anchor=\"start\" dy=\"0em\" style=\"font-family: 'Arial Black'; font-size: 20px; fill: rgb(42, 63, 95); opacity: 1; font-weight: normal; white-space: pre;\">XGB Regressor Loss Curve</text></g><g class=\"g-xtitle\"><text class=\"xtitle\" x=\"390\" y=\"360.8\" text-anchor=\"middle\" style=\"font-family: 'Open Sans', verdana, arial, sans-serif; font-size: 14px; fill: rgb(42, 63, 95); opacity: 1; font-weight: normal; white-space: pre;\">Epochs</text></g><g class=\"g-ytitle\"><text class=\"ytitle\" transform=\"rotate(-90,38.934375,210)\" x=\"38.934375\" y=\"210\" text-anchor=\"middle\" style=\"font-family: 'Open Sans', verdana, arial, sans-serif; font-size: 14px; fill: rgb(42, 63, 95); opacity: 1; font-weight: normal; white-space: pre;\">MAE</text></g></g></svg>"
      ]
     },
     "metadata": {},
     "output_type": "display_data"
    }
   ],
   "source": [
    "visuals.LogLoss_Curve(XGBR.x_axis, XGBR.results[\"validation_1\"]['mae'], \n",
    "                        XGBR.results[\"validation_0\"]['mae'])"
   ]
  },
  {
   "cell_type": "code",
   "execution_count": 12,
   "id": "5a640fb0",
   "metadata": {},
   "outputs": [],
   "source": [
    "# We'll set \"n_estimators\" to 500, to ensure the model has enough training time to overfit. \n",
    "earlyStoppingXGBR = functions.Early_Stopping(X, y, XGBRegressor(early_stopping_rounds=10, eval_metric=[\"mae\"], \n",
    "                                                    learning_rate=0.1,max_depth=20, min_child_weight=15, n_estimators=250))"
   ]
  },
  {
   "cell_type": "code",
   "execution_count": 13,
   "id": "b3b593b5",
   "metadata": {
    "scrolled": false
   },
   "outputs": [
    {
     "data": {
      "image/svg+xml": [
       "<svg class=\"main-svg\" xmlns=\"http://www.w3.org/2000/svg\" xmlns:xlink=\"http://www.w3.org/1999/xlink\" width=\"800\" height=\"400\" style=\"\" viewBox=\"0 0 800 400\"><rect x=\"0\" y=\"0\" width=\"800\" height=\"400\" style=\"fill: rgb(255, 255, 255); fill-opacity: 1;\"/><defs id=\"defs-ea4dc7\"><g class=\"clips\"><clipPath id=\"clipea4dc7xyplot\" class=\"plotclip\"><rect width=\"640\" height=\"260\"/></clipPath><clipPath class=\"axesclip\" id=\"clipea4dc7x\"><rect x=\"80\" y=\"0\" width=\"640\" height=\"400\"/></clipPath><clipPath class=\"axesclip\" id=\"clipea4dc7y\"><rect x=\"0\" y=\"60\" width=\"800\" height=\"260\"/></clipPath><clipPath class=\"axesclip\" id=\"clipea4dc7xy\"><rect x=\"80\" y=\"60\" width=\"640\" height=\"260\"/></clipPath></g><g class=\"gradients\"/><g class=\"patterns\"/></defs><g class=\"bglayer\"><rect class=\"bg\" x=\"80\" y=\"60\" width=\"640\" height=\"260\" style=\"fill: rgb(248, 248, 246); fill-opacity: 1; stroke-width: 0;\"/></g><g class=\"layer-below\"><g class=\"imagelayer\"/><g class=\"shapelayer\"/></g><g class=\"cartesianlayer\"><g class=\"subplot xy\"><g class=\"layer-subplot\"><g class=\"shapelayer\"/><g class=\"imagelayer\"/></g><g class=\"minor-gridlayer\"><g class=\"x\"/><g class=\"y\"/></g><g class=\"gridlayer\"><g class=\"x\"><path class=\"xgrid crisp\" transform=\"translate(161.01,0)\" d=\"M0,60v260\" style=\"stroke: rgb(255, 255, 255); stroke-opacity: 1; stroke-width: 1px;\"/><path class=\"xgrid crisp\" transform=\"translate(242.03,0)\" d=\"M0,60v260\" style=\"stroke: rgb(255, 255, 255); stroke-opacity: 1; stroke-width: 1px;\"/><path class=\"xgrid crisp\" transform=\"translate(323.03999999999996,0)\" d=\"M0,60v260\" style=\"stroke: rgb(255, 255, 255); stroke-opacity: 1; stroke-width: 1px;\"/><path class=\"xgrid crisp\" transform=\"translate(404.05,0)\" d=\"M0,60v260\" style=\"stroke: rgb(255, 255, 255); stroke-opacity: 1; stroke-width: 1px;\"/><path class=\"xgrid crisp\" transform=\"translate(485.06,0)\" d=\"M0,60v260\" style=\"stroke: rgb(255, 255, 255); stroke-opacity: 1; stroke-width: 1px;\"/><path class=\"xgrid crisp\" transform=\"translate(566.0799999999999,0)\" d=\"M0,60v260\" style=\"stroke: rgb(255, 255, 255); stroke-opacity: 1; stroke-width: 1px;\"/><path class=\"xgrid crisp\" transform=\"translate(647.09,0)\" d=\"M0,60v260\" style=\"stroke: rgb(255, 255, 255); stroke-opacity: 1; stroke-width: 1px;\"/></g><g class=\"y\"><path class=\"ygrid crisp\" transform=\"translate(0,275.62)\" d=\"M80,0h640\" style=\"stroke: rgb(255, 255, 255); stroke-opacity: 1; stroke-width: 1px;\"/><path class=\"ygrid crisp\" transform=\"translate(0,213.27)\" d=\"M80,0h640\" style=\"stroke: rgb(255, 255, 255); stroke-opacity: 1; stroke-width: 1px;\"/><path class=\"ygrid crisp\" transform=\"translate(0,150.92000000000002)\" d=\"M80,0h640\" style=\"stroke: rgb(255, 255, 255); stroke-opacity: 1; stroke-width: 1px;\"/><path class=\"ygrid crisp\" transform=\"translate(0,88.57)\" d=\"M80,0h640\" style=\"stroke: rgb(255, 255, 255); stroke-opacity: 1; stroke-width: 1px;\"/></g></g><g class=\"zerolinelayer\"><path class=\"xzl zl crisp\" transform=\"translate(80,0)\" d=\"M0,60v260\" style=\"stroke: rgb(255, 255, 255); stroke-opacity: 1; stroke-width: 2px;\"/></g><path class=\"xlines-below\"/><path class=\"ylines-below\"/><g class=\"overlines-below\"/><g class=\"xaxislayer-below\"/><g class=\"yaxislayer-below\"/><g class=\"overaxes-below\"/><g class=\"plot\" transform=\"translate(80,60)\" clip-path=\"url(#clipea4dc7xyplot)\"><g class=\"scatterlayer mlayer\"><g class=\"trace scatter tracec954df\" style=\"stroke-miterlimit: 2; opacity: 1;\"><g class=\"fills\"/><g class=\"errorbars\"/><g class=\"lines\"><path class=\"js-line\" d=\"M0,13L16.2,61.97L24.3,82.71L40.51,118.3L48.61,133.61L64.81,159.25L72.91,170.23L89.11,189.42L97.22,197.47L105.32,204.81L113.42,211.1L129.62,221.1L137.72,225.1L153.92,231.43L162.03,233.98L178.23,237.66L186.33,239.1L210.63,242.23L218.73,242.87L259.24,245.32L267.34,245.59L364.56,246.8L372.66,246.8L526.58,246.92L534.68,246.9L640,246.9\" style=\"vector-effect: non-scaling-stroke; fill: none; stroke: rgb(99, 110, 250); stroke-opacity: 1; stroke-width: 2px; opacity: 1;\"/></g><g class=\"points\"/><g class=\"text\"/></g></g></g><g class=\"overplot\"/><path class=\"xlines-above crisp\" d=\"M0,0\" style=\"fill: none;\"/><path class=\"ylines-above crisp\" d=\"M0,0\" style=\"fill: none;\"/><g class=\"overlines-above\"/><g class=\"xaxislayer-above\"><g class=\"xtick\"><text text-anchor=\"middle\" x=\"0\" y=\"333\" transform=\"translate(80,0)\" style=\"font-family: 'Open Sans', verdana, arial, sans-serif; font-size: 12px; fill: rgb(42, 63, 95); fill-opacity: 1; white-space: pre; opacity: 1;\">0</text></g><g class=\"xtick\"><text text-anchor=\"middle\" x=\"0\" y=\"333\" style=\"font-family: 'Open Sans', verdana, arial, sans-serif; font-size: 12px; fill: rgb(42, 63, 95); fill-opacity: 1; white-space: pre; opacity: 1;\" transform=\"translate(161.01,0)\">10</text></g><g class=\"xtick\"><text text-anchor=\"middle\" x=\"0\" y=\"333\" style=\"font-family: 'Open Sans', verdana, arial, sans-serif; font-size: 12px; fill: rgb(42, 63, 95); fill-opacity: 1; white-space: pre; opacity: 1;\" transform=\"translate(242.03,0)\">20</text></g><g class=\"xtick\"><text text-anchor=\"middle\" x=\"0\" y=\"333\" style=\"font-family: 'Open Sans', verdana, arial, sans-serif; font-size: 12px; fill: rgb(42, 63, 95); fill-opacity: 1; white-space: pre; opacity: 1;\" transform=\"translate(323.03999999999996,0)\">30</text></g><g class=\"xtick\"><text text-anchor=\"middle\" x=\"0\" y=\"333\" style=\"font-family: 'Open Sans', verdana, arial, sans-serif; font-size: 12px; fill: rgb(42, 63, 95); fill-opacity: 1; white-space: pre; opacity: 1;\" transform=\"translate(404.05,0)\">40</text></g><g class=\"xtick\"><text text-anchor=\"middle\" x=\"0\" y=\"333\" style=\"font-family: 'Open Sans', verdana, arial, sans-serif; font-size: 12px; fill: rgb(42, 63, 95); fill-opacity: 1; white-space: pre; opacity: 1;\" transform=\"translate(485.06,0)\">50</text></g><g class=\"xtick\"><text text-anchor=\"middle\" x=\"0\" y=\"333\" style=\"font-family: 'Open Sans', verdana, arial, sans-serif; font-size: 12px; fill: rgb(42, 63, 95); fill-opacity: 1; white-space: pre; opacity: 1;\" transform=\"translate(566.0799999999999,0)\">60</text></g><g class=\"xtick\"><text text-anchor=\"middle\" x=\"0\" y=\"333\" style=\"font-family: 'Open Sans', verdana, arial, sans-serif; font-size: 12px; fill: rgb(42, 63, 95); fill-opacity: 1; white-space: pre; opacity: 1;\" transform=\"translate(647.09,0)\">70</text></g></g><g class=\"yaxislayer-above\"><g class=\"ytick\"><text text-anchor=\"end\" x=\"79\" y=\"4.199999999999999\" transform=\"translate(0,275.62)\" style=\"font-family: 'Open Sans', verdana, arial, sans-serif; font-size: 12px; fill: rgb(42, 63, 95); fill-opacity: 1; white-space: pre; opacity: 1;\">5</text></g><g class=\"ytick\"><text text-anchor=\"end\" x=\"79\" y=\"4.199999999999999\" style=\"font-family: 'Open Sans', verdana, arial, sans-serif; font-size: 12px; fill: rgb(42, 63, 95); fill-opacity: 1; white-space: pre; opacity: 1;\" transform=\"translate(0,213.27)\">10</text></g><g class=\"ytick\"><text text-anchor=\"end\" x=\"79\" y=\"4.199999999999999\" style=\"font-family: 'Open Sans', verdana, arial, sans-serif; font-size: 12px; fill: rgb(42, 63, 95); fill-opacity: 1; white-space: pre; opacity: 1;\" transform=\"translate(0,150.92000000000002)\">15</text></g><g class=\"ytick\"><text text-anchor=\"end\" x=\"79\" y=\"4.199999999999999\" style=\"font-family: 'Open Sans', verdana, arial, sans-serif; font-size: 12px; fill: rgb(42, 63, 95); fill-opacity: 1; white-space: pre; opacity: 1;\" transform=\"translate(0,88.57)\">20</text></g></g><g class=\"overaxes-above\"/></g></g><g class=\"polarlayer\"/><g class=\"smithlayer\"/><g class=\"ternarylayer\"/><g class=\"geolayer\"/><g class=\"funnelarealayer\"/><g class=\"pielayer\"/><g class=\"iciclelayer\"/><g class=\"treemaplayer\"/><g class=\"sunburstlayer\"/><g class=\"glimages\"/><defs id=\"topdefs-ea4dc7\"><g class=\"clips\"/></defs><g class=\"layer-above\"><g class=\"imagelayer\"/><g class=\"shapelayer\"><path data-index=\"0\" fill-rule=\"evenodd\" d=\"M647.09,320L647.09,60\" clip-path=\"url(#clipea4dc7x)\" style=\"opacity: 1; stroke: rgb(0, 0, 0); stroke-opacity: 1; fill: rgb(0, 0, 0); fill-opacity: 0; stroke-dasharray: 9px, 9px; stroke-width: 2px;\"/></g></g><g class=\"infolayer\"><g class=\"g-gtitle\"><text class=\"gtitle\" x=\"40\" y=\"30\" text-anchor=\"start\" dy=\"0em\" style=\"font-family: 'Arial Black'; font-size: 20px; fill: rgb(42, 63, 95); opacity: 1; font-weight: normal; white-space: pre;\">XGB Regressor Early Stopping</text></g><g class=\"g-xtitle\"><text class=\"xtitle\" x=\"400\" y=\"360.8\" text-anchor=\"middle\" style=\"font-family: 'Open Sans', verdana, arial, sans-serif; font-size: 14px; fill: rgb(42, 63, 95); opacity: 1; font-weight: normal; white-space: pre;\">Epochs</text></g><g class=\"g-ytitle\"><text class=\"ytitle\" transform=\"rotate(-90,38.934375,190)\" x=\"38.934375\" y=\"190\" text-anchor=\"middle\" style=\"font-family: 'Open Sans', verdana, arial, sans-serif; font-size: 14px; fill: rgb(42, 63, 95); opacity: 1; font-weight: normal; white-space: pre;\">MAE</text></g></g></svg>"
      ]
     },
     "metadata": {},
     "output_type": "display_data"
    },
    {
     "name": "stdout",
     "output_type": "stream",
     "text": [
      "The model stopped training at around 80 epochs, with the best loss score observed at: 70.\n"
     ]
    }
   ],
   "source": [
    "# Plot early stopping results. \n",
    "fig = px.line(x=earlyStoppingXGBR.x_axis, y=earlyStoppingXGBR.results['validation_1']['mae'])\n",
    "fig.add_vline(x=earlyStoppingXGBR.clf.best_ntree_limit, line_width=2, line_dash=\"dash\", line_color=\"black\") # Best loss score. \n",
    "fig.update_layout(title='XGB Regressor Early Stopping',\n",
    "                       xaxis_title='Epochs',\n",
    "                       yaxis_title='MAE',\n",
    "                       height=400, width=800, plot_bgcolor='#F8F8F6', title_font_size=20, \n",
    "                       title_font_family='Arial Black')\n",
    "fig.show()\n",
    "\n",
    "print(\"The model stopped training at around 80 epochs, with the best loss score observed at: %.0f.\" % (\n",
    "    earlyStoppingXGBR.clf.best_ntree_limit))\n",
    "# Now we know that we should set our number of trees (n_estimator) to =70 to avoid overfitting."
   ]
  },
  {
   "cell_type": "markdown",
   "id": "0755123c",
   "metadata": {},
   "source": [
    "**A.6: Conclusion**<br>\n",
    "To sum up, we successfully regularized our regressor models through early stopping and managed to soften the impact of overfitting, whilst still retaining our strong validation performance. With all our models regularized and fitted with the best combination of hyperparameters it is now time to truely test our algorithms on the holdout dataset, that we put aside from the beginning of the project."
   ]
  },
  {
   "cell_type": "markdown",
   "id": "80312374",
   "metadata": {},
   "source": [
    "&nbsp;"
   ]
  },
  {
   "cell_type": "markdown",
   "id": "a5e69597",
   "metadata": {},
   "source": [
    "| Model | Model Type | Regularized Hyperparameters | \n",
    "|---------|---------|---------|\n",
    "| **Gradient Boosting Regressor** | Base Model   |learning_rate=0.1, max_depth=50, min_samples_split=50, n_estimators=50, <br>validation_fraction=0.2, n_iter_no_change=5, tol=1 | \n",
    "| **Random Forest Regressor** | Base Model |max_depth=50, min_samples_split=25, min_samples_leaf=2,  n_estimators=50 |\n",
    "| **XGB Regressor** | Base Model | learning_rate=0.1, max_depth=20, min_child_weight=15, n_estimators=70 |"
   ]
  },
  {
   "cell_type": "markdown",
   "id": "f588c131",
   "metadata": {},
   "source": [
    "&nbsp;"
   ]
  },
  {
   "cell_type": "markdown",
   "id": "756fe22a",
   "metadata": {},
   "source": [
    "&nbsp;\n",
    "**Author:** Aaron Chew&nbsp;&nbsp;&nbsp;&nbsp;&nbsp;&nbsp; **|** &nbsp;&nbsp;&nbsp;&nbsp;&nbsp;&nbsp;**Date Published:** 11/08/2022 &nbsp;&nbsp;&nbsp;&nbsp;&nbsp;&nbsp;**|** &nbsp;&nbsp;&nbsp;&nbsp;&nbsp;&nbsp;**Email:** aaronsamuelchew@gmail.com &nbsp;&nbsp;&nbsp;&nbsp;&nbsp;&nbsp;**|**&nbsp;&nbsp;&nbsp;&nbsp;&nbsp;&nbsp; **GitHub:** https://github.com/aaron-chew  "
   ]
  }
 ],
 "metadata": {
  "kernelspec": {
   "display_name": "Python 3",
   "language": "python",
   "name": "python3"
  },
  "language_info": {
   "codemirror_mode": {
    "name": "ipython",
    "version": 3
   },
   "file_extension": ".py",
   "mimetype": "text/x-python",
   "name": "python",
   "nbconvert_exporter": "python",
   "pygments_lexer": "ipython3",
   "version": "3.7.4"
  },
  "vscode": {
   "interpreter": {
    "hash": "e5ddb363572ad0e75e87141349598f74f2f658980b7e6631d15f8cb2ebe9c357"
   }
  }
 },
 "nbformat": 4,
 "nbformat_minor": 5
}
